{
 "cells": [
  {
   "cell_type": "markdown",
   "id": "28c1bae0",
   "metadata": {},
   "source": [
    "#  Python Tutorial"
   ]
  },
  {
   "cell_type": "raw",
   "id": "d6fc880b",
   "metadata": {},
   "source": []
  },
  {
   "cell_type": "markdown",
   "id": "de045209",
   "metadata": {},
   "source": [
    "# 1. What is Python?\n",
    "\n",
    "+ #### Python is a very popular general-purpose interpreted, interactive, object-oriented, and high-level programming language. Python is dynamically-typed and garbage-collected programming language. It was created by Guido van Rossum during 1985- 1990. Like Perl, Python source code is also available under the GNU General Public License (GPL).\n",
    "\n",
    "+ #### Python is a popular programming language. It was created by Guido van Rossum, and released in 1991.\n",
    "\n",
    "\n",
    "- ### It is used for:\n",
    "\n",
    "1. Web development (server-side).\n",
    "2. Software development.\n",
    "3. Mathematics.\n",
    "4. For Data Analysis.\n",
    "5. Machine Learning.\n",
    "6. System scripting."
   ]
  },
  {
   "cell_type": "raw",
   "id": "044cd5c6",
   "metadata": {},
   "source": []
  },
  {
   "cell_type": "markdown",
   "id": "55c0d4ba",
   "metadata": {},
   "source": [
    "# 2. What can Python do?\n",
    "\n",
    "1. Python can be used on a server to create web applications.\n",
    "2. Python can be used alongside software to create workflows.\n",
    "3. Python can connect to database systems. It can also read and modify files.\n",
    "4. Python can be used to handle big data and perform complex mathematics.\n",
    "5. Python can be used for rapid prototyping, or for production-ready software development."
   ]
  },
  {
   "cell_type": "raw",
   "id": "0392af62",
   "metadata": {},
   "source": []
  },
  {
   "cell_type": "markdown",
   "id": "3739ad6b",
   "metadata": {},
   "source": [
    "# 3. Why learn Python?\n",
    "\n",
    "#### Python provides many useful features to the programmer. These features make it most popular and widely used language. We have listed below few-essential feature of Python.\n",
    "\n",
    "1. Easy to use and Learn\n",
    "2. Expressive Language\n",
    "3. Interpreted Language\n",
    "4. Object-Oriented Language\n",
    "5. Open Source Language\n",
    "6. Extensible\n",
    "7. Learn Standard Library\n",
    "8. GUI Programming Support\n",
    "9. Integrated\n",
    "10. Embeddable\n",
    "11. Dynamic Memory Allocation\n",
    "12. Wide Range of Libraries and Frameworks"
   ]
  },
  {
   "cell_type": "raw",
   "id": "c05d40bf",
   "metadata": {},
   "source": []
  },
  {
   "cell_type": "markdown",
   "id": "2fe5e70a",
   "metadata": {},
   "source": [
    "# 4. Where is Python used?\n",
    "\n",
    "\n",
    "#### Python is a general-purpose, popular programming language and it is used in almost every technical field. The various areas of Python use are given below.\n",
    "\n",
    "- Data Science\n",
    "- Date Mining\n",
    "- Desktop Applications\n",
    "- Console-based Applications\n",
    "- Mobile Applications\n",
    "- Software Development\n",
    "- Artificial Intelligence\n",
    "- Web Applications\n",
    "- Enterprise Applications\n",
    "- 3D CAD Applications\n",
    "- Machine Learning\n",
    "- Computer Vision or Image Processing Applications.\n",
    "- Speech Recognitions"
   ]
  },
  {
   "cell_type": "raw",
   "id": "b321a813",
   "metadata": {},
   "source": []
  },
  {
   "cell_type": "markdown",
   "id": "74e80900",
   "metadata": {},
   "source": [
    "# 5. Python Popular Frameworks and Libraries\n",
    "\n",
    "#### Python has wide range of libraries and frameworks widely used in various fields such as machine learning, artificial intelligence, web applications, etc. We define some popular frameworks and libraries of Python as follows.\n",
    "\n",
    "- Web development (Server-side) - Django Flask, Pyramid, CherryPy\n",
    "\n",
    "- GUIs based applications - Tk, PyGTK, PyQt, PyJs, etc.\n",
    "\n",
    "- Machine Learning - TensorFlow, PyTorch, Scikit-learn, Matplotlib, Scipy, etc.\n",
    "\n",
    "- Mathematics - Numpy, Pandas, etc."
   ]
  },
  {
   "cell_type": "raw",
   "id": "c133159b",
   "metadata": {},
   "source": []
  },
  {
   "cell_type": "markdown",
   "id": "ec82f6fc",
   "metadata": {},
   "source": [
    "# 6. Characteristics of Python\n",
    "\n",
    "- Easy and simple to learn and understand.\n",
    "- Python enables object-oriented programming and concepts such as classes, encapsulation, and so on.\n",
    "- Python is a dynamically typed language\n",
    "- It turns the code into bytecode, which can be run on any platform.\n",
    "- It is an extensible programming language which means we can write and compile code like any other programming language.\n",
    "- Python is also an integrated language since it can easily be used with other programming languages such as C, C++, Java, and others."
   ]
  },
  {
   "cell_type": "raw",
   "id": "cc6e0cb4",
   "metadata": {},
   "source": []
  },
  {
   "cell_type": "markdown",
   "id": "5303c6f3",
   "metadata": {},
   "source": [
    "# 7. Python Features\n",
    "\n",
    "### Python's features include −\n",
    "\n",
    "- Easy-to-learn − Python has few keywords, simple structure, and a clearly defined syntax. This allows the student to pick up the language quickly.\n",
    "\n",
    "\n",
    "- Easy-to-read − Python code is more clearly defined and visible to the eyes.\n",
    "\n",
    "\n",
    "- Easy-to-maintain − Python's source code is fairly easy-to-maintain.\n",
    "\n",
    "\n",
    "- A broad standard library − Python's bulk of the library is very portable and cross-platform compatible on UNIX, Windows, and Macintosh.\n",
    "\n",
    "\n",
    "- Interactive Mode − Python has support for an interactive mode which allows interactive testing and debugging of snippets of code.\n",
    "\n",
    "\n",
    "- Portable − Python can run on a wide variety of hardware platforms and has the same interface on all platforms.\n",
    "\n",
    "\n",
    "- Extendable − You can add low-level modules to the Python interpreter. These modules enable programmers to add to or customize their tools to be more efficient.\n",
    "\n",
    "\n",
    "- Databases − Python provides interfaces to all major commercial databases.\n",
    "\n",
    "\n",
    "- GUI Programming − Python supports GUI applications that can be created and ported to many system calls, libraries and windows systems, such as Windows MFC, Macintosh, and the X Window system of Unix.\n",
    "\n",
    "\n",
    "- Scalable − Python provides a better structure and support for large programs than shell scripting."
   ]
  },
  {
   "cell_type": "raw",
   "id": "bc6562e0",
   "metadata": {},
   "source": []
  },
  {
   "cell_type": "code",
   "execution_count": 1,
   "id": "8637686d",
   "metadata": {},
   "outputs": [],
   "source": [
    "import sys\n",
    "import keyword\n",
    "import operator\n",
    "from datetime import datetime\n",
    "import os"
   ]
  },
  {
   "cell_type": "markdown",
   "id": "724f7512",
   "metadata": {},
   "source": [
    "# Python Version"
   ]
  },
  {
   "cell_type": "markdown",
   "id": "ba6ebab4",
   "metadata": {},
   "source": [
    "### Checking Python Version"
   ]
  },
  {
   "cell_type": "code",
   "execution_count": 1,
   "id": "2dbaae6d",
   "metadata": {},
   "outputs": [
    {
     "name": "stdout",
     "output_type": "stream",
     "text": [
      "3.9.12\n"
     ]
    }
   ],
   "source": [
    "from platform import python_version\n",
    "\n",
    "print(python_version())"
   ]
  },
  {
   "cell_type": "markdown",
   "id": "b4032d60",
   "metadata": {},
   "source": [
    "# Python Keywords"
   ]
  },
  {
   "cell_type": "markdown",
   "id": "8b206093",
   "metadata": {},
   "source": [
    "- #### Keywords are the reserved words in Python.\n",
    "\n",
    "- #### We cannot use a keyword as a variable name, function name or any other identifier. They are used to define the syntax and structure of the Python language.\n",
    "\n",
    "- #### In Python, keywords are case sensitive.\n",
    "\n",
    "- #### There are 33 keywords in Python 3.7. This number can vary slightly over the course of time.\n",
    "\n",
    "- #### All the keywords except True, False and None are in lowercase and they must be written as they are. The list of all the keywords is given below."
   ]
  },
  {
   "cell_type": "markdown",
   "id": "2b6e29f5",
   "metadata": {},
   "source": [
    "### List of all keywords"
   ]
  },
  {
   "cell_type": "code",
   "execution_count": 3,
   "id": "dad537d0",
   "metadata": {},
   "outputs": [
    {
     "name": "stdout",
     "output_type": "stream",
     "text": [
      "['False', 'None', 'True', '__peg_parser__', 'and', 'as', 'assert', 'async', 'await', 'break', 'class', 'continue', 'def', 'del', 'elif', 'else', 'except', 'finally', 'for', 'from', 'global', 'if', 'import', 'in', 'is', 'lambda', 'nonlocal', 'not', 'or', 'pass', 'raise', 'return', 'try', 'while', 'with', 'yield']\n"
     ]
    }
   ],
   "source": [
    " print(keyword.kwlist)"
   ]
  },
  {
   "cell_type": "markdown",
   "id": "1f9419fa",
   "metadata": {},
   "source": [
    "### Python 3.9.12 contains 36 keywords"
   ]
  },
  {
   "cell_type": "code",
   "execution_count": 4,
   "id": "59ec348d",
   "metadata": {},
   "outputs": [
    {
     "data": {
      "text/plain": [
       "36"
      ]
     },
     "execution_count": 4,
     "metadata": {},
     "output_type": "execute_result"
    }
   ],
   "source": [
    "len(keyword.kwlist)"
   ]
  },
  {
   "cell_type": "raw",
   "id": "a192c520",
   "metadata": {},
   "source": []
  },
  {
   "cell_type": "markdown",
   "id": "a2524213",
   "metadata": {},
   "source": [
    "# Python Identifiers"
   ]
  },
  {
   "cell_type": "markdown",
   "id": "a62b9fa7",
   "metadata": {},
   "source": [
    "#### An identifier is a name given to entities like class, functions, variables, etc. It helps to differentiate one entity from another. "
   ]
  },
  {
   "cell_type": "markdown",
   "id": "c397a531",
   "metadata": {},
   "source": [
    "## Rules for writing identifiers\n"
   ]
  },
  {
   "cell_type": "markdown",
   "id": "996e7130",
   "metadata": {},
   "source": [
    "1. Identifiers can be a combination of letters in lowercase (a to z) or uppercase (A to Z) or digits (0 to 9) or an underscore _. Names like myClass, var_1 and print_this_to_screen, all are valid example."
   ]
  },
  {
   "cell_type": "markdown",
   "id": "fb7eb4a2",
   "metadata": {},
   "source": [
    "2. An identifier cannot start with a digit. 1variable is invalid, but variable1 is a valid name."
   ]
  },
  {
   "cell_type": "markdown",
   "id": "9bfea237",
   "metadata": {},
   "source": [
    "3. Keywords cannot be used as identifiers."
   ]
  },
  {
   "cell_type": "code",
   "execution_count": 13,
   "id": "4b9ede5e",
   "metadata": {},
   "outputs": [
    {
     "ename": "SyntaxError",
     "evalue": "invalid syntax (1289719573.py, line 1)",
     "output_type": "error",
     "traceback": [
      "\u001b[1;36m  Input \u001b[1;32mIn [13]\u001b[1;36m\u001b[0m\n\u001b[1;33m    global=1\u001b[0m\n\u001b[1;37m          ^\u001b[0m\n\u001b[1;31mSyntaxError\u001b[0m\u001b[1;31m:\u001b[0m invalid syntax\n"
     ]
    }
   ],
   "source": [
    "global = 1"
   ]
  },
  {
   "cell_type": "raw",
   "id": "e011291b",
   "metadata": {},
   "source": []
  },
  {
   "cell_type": "markdown",
   "id": "4807179a",
   "metadata": {},
   "source": [
    "4. We cannot use special symbols like !, @, #, $, % etc. in our identifier."
   ]
  },
  {
   "cell_type": "code",
   "execution_count": 14,
   "id": "32d61c43",
   "metadata": {},
   "outputs": [
    {
     "ename": "SyntaxError",
     "evalue": "invalid syntax (3153472908.py, line 1)",
     "output_type": "error",
     "traceback": [
      "\u001b[1;36m  Input \u001b[1;32mIn [14]\u001b[1;36m\u001b[0m\n\u001b[1;33m    a@ = 1\u001b[0m\n\u001b[1;37m       ^\u001b[0m\n\u001b[1;31mSyntaxError\u001b[0m\u001b[1;31m:\u001b[0m invalid syntax\n"
     ]
    }
   ],
   "source": [
    "a@ = 1"
   ]
  },
  {
   "cell_type": "markdown",
   "id": "3e39b3ba",
   "metadata": {},
   "source": [
    "5. An identifier can be of any length. "
   ]
  },
  {
   "cell_type": "markdown",
   "id": "a1c48f6b",
   "metadata": {},
   "source": [
    "#### Here are some example"
   ]
  },
  {
   "cell_type": "code",
   "execution_count": 15,
   "id": "bc051e17",
   "metadata": {},
   "outputs": [
    {
     "ename": "SyntaxError",
     "evalue": "invalid syntax (4263217502.py, line 2)",
     "output_type": "error",
     "traceback": [
      "\u001b[1;36m  Input \u001b[1;32mIn [15]\u001b[1;36m\u001b[0m\n\u001b[1;33m    1var = 10\u001b[0m\n\u001b[1;37m     ^\u001b[0m\n\u001b[1;31mSyntaxError\u001b[0m\u001b[1;31m:\u001b[0m invalid syntax\n"
     ]
    }
   ],
   "source": [
    "# Identifier can't start with a digit\n",
    "\n",
    "1var = 10"
   ]
  },
  {
   "cell_type": "code",
   "execution_count": 17,
   "id": "34761a72",
   "metadata": {},
   "outputs": [
    {
     "ename": "SyntaxError",
     "evalue": "cannot assign to operator (4140943038.py, line 3)",
     "output_type": "error",
     "traceback": [
      "\u001b[1;36m  Input \u001b[1;32mIn [17]\u001b[1;36m\u001b[0m\n\u001b[1;33m    val@2 = 15\u001b[0m\n\u001b[1;37m    ^\u001b[0m\n\u001b[1;31mSyntaxError\u001b[0m\u001b[1;31m:\u001b[0m cannot assign to operator\n"
     ]
    }
   ],
   "source": [
    "# Identifire can't use special symbol\n",
    "\n",
    "val@2 = 15"
   ]
  },
  {
   "cell_type": "code",
   "execution_count": 18,
   "id": "378f843e",
   "metadata": {},
   "outputs": [
    {
     "ename": "SyntaxError",
     "evalue": "invalid syntax (2620702406.py, line 3)",
     "output_type": "error",
     "traceback": [
      "\u001b[1;36m  Input \u001b[1;32mIn [18]\u001b[1;36m\u001b[0m\n\u001b[1;33m    import = \"sagar\"\u001b[0m\n\u001b[1;37m           ^\u001b[0m\n\u001b[1;31mSyntaxError\u001b[0m\u001b[1;31m:\u001b[0m invalid syntax\n"
     ]
    }
   ],
   "source": [
    "# Keywords can't be used as identifiers\n",
    "\n",
    "import = \"sagar\""
   ]
  },
  {
   "cell_type": "code",
   "execution_count": 21,
   "id": "06c28495",
   "metadata": {},
   "outputs": [
    {
     "name": "stdout",
     "output_type": "stream",
     "text": [
      "sagar\n"
     ]
    }
   ],
   "source": [
    "\"\"\"\n",
    "Correct way of defining an identifier\n",
    "(Identifiers can be a combination of letters in lowercase (a to z) \n",
    "or uppercase (A to Z)\n",
    "\"\"\"\n",
    "\n",
    "Name = \"sagar\"\n",
    "print(Name)"
   ]
  },
  {
   "cell_type": "code",
   "execution_count": 23,
   "id": "567acd15",
   "metadata": {},
   "outputs": [
    {
     "name": "stdout",
     "output_type": "stream",
     "text": [
      "aplhabets\n"
     ]
    }
   ],
   "source": [
    "# Identifier can be of any length.\n",
    "\n",
    "abcdefgghijk = \"aplhabets\"\n",
    "print(abcdefgghijk)"
   ]
  },
  {
   "cell_type": "raw",
   "id": "6660efdc",
   "metadata": {},
   "source": []
  },
  {
   "cell_type": "markdown",
   "id": "c4edbf22",
   "metadata": {},
   "source": [
    "# Python Comments"
   ]
  },
  {
   "cell_type": "markdown",
   "id": "bad5eb10",
   "metadata": {},
   "source": [
    "1. #### Comments are very important while writing a program. They describe what is going on inside a program, so that a person looking at the source code does not have a hard time figuring it out."
   ]
  },
  {
   "cell_type": "markdown",
   "id": "941bdadd",
   "metadata": {},
   "source": [
    "2. #### In Python, we use the hash (#) symbol to start writing a comment."
   ]
  },
  {
   "cell_type": "markdown",
   "id": "e234aef0",
   "metadata": {},
   "source": [
    "3. #### It extends up to the newline character. Comments are for programmers to better understand a program. Python Interpreter ignores comments."
   ]
  },
  {
   "cell_type": "markdown",
   "id": "a706a226",
   "metadata": {},
   "source": [
    "### 1. Single line comment"
   ]
  },
  {
   "cell_type": "code",
   "execution_count": null,
   "id": "5354e755",
   "metadata": {},
   "outputs": [],
   "source": [
    "#Single line comment\n",
    "\n",
    "val =10"
   ]
  },
  {
   "cell_type": "markdown",
   "id": "0aba8e11",
   "metadata": {},
   "source": [
    "### 2. Multi-line comment\n",
    "\n",
    "- We can have comments that extend up to multiple lines. One way is to use the hash(#) symbol at the beginning of each line. For example:"
   ]
  },
  {
   "cell_type": "code",
   "execution_count": 25,
   "id": "eed5df9b",
   "metadata": {},
   "outputs": [],
   "source": [
    "# Multiple\n",
    "# line\n",
    "# comment\n",
    "val1 = 10"
   ]
  },
  {
   "cell_type": "markdown",
   "id": "64808f61",
   "metadata": {},
   "source": [
    "- Another way of doing this is to use triple quotes, either ''' or \"\"\".\n",
    "\n",
    "These triple quotes are generally used for multi-line strings. But they can be used as a multi-line comment as well. Unless they are not docstrings, they do not generate any extra code."
   ]
  },
  {
   "cell_type": "code",
   "execution_count": 26,
   "id": "08a7f943",
   "metadata": {},
   "outputs": [],
   "source": [
    "\"\"\"This is also a\n",
    "perfect example of\n",
    "multi-line comments\"\"\"\n",
    "\n",
    "name = \"sagar\""
   ]
  },
  {
   "cell_type": "raw",
   "id": "ef34bf70",
   "metadata": {},
   "source": []
  },
  {
   "cell_type": "markdown",
   "id": "2f877715",
   "metadata": {},
   "source": [
    "# Python Statement\n",
    "\n",
    "- Instructions that a Python interpreter can execute are called statements. \n",
    "- For example, a = 1 is an assignment statement. if statement, for statement, while statement, etc. are other kinds of statements which will be discussed later."
   ]
  },
  {
   "cell_type": "raw",
   "id": "a38792d2",
   "metadata": {},
   "source": []
  },
  {
   "cell_type": "markdown",
   "id": "77f20b10",
   "metadata": {},
   "source": [
    "#### 1.Single line statement "
   ]
  },
  {
   "cell_type": "code",
   "execution_count": 1,
   "id": "f026e3ab",
   "metadata": {},
   "outputs": [
    {
     "data": {
      "text/plain": [
       "30"
      ]
     },
     "execution_count": 1,
     "metadata": {},
     "output_type": "execute_result"
    }
   ],
   "source": [
    "p1 = 10 + 20\n",
    "\n",
    "p1"
   ]
  },
  {
   "cell_type": "code",
   "execution_count": 2,
   "id": "529a777b",
   "metadata": {},
   "outputs": [
    {
     "data": {
      "text/plain": [
       "['a', 'b', 'c', 'd']"
      ]
     },
     "execution_count": 2,
     "metadata": {},
     "output_type": "execute_result"
    }
   ],
   "source": [
    "p2 = ['a','b','c','d']\n",
    "\n",
    "p2"
   ]
  },
  {
   "cell_type": "markdown",
   "id": "53d2138f",
   "metadata": {},
   "source": [
    "- We can also put multiple statements in a single line using semicolons, as follows:"
   ]
  },
  {
   "cell_type": "code",
   "execution_count": 10,
   "id": "31a2d0d3",
   "metadata": {},
   "outputs": [],
   "source": [
    "a = 1; b = 2; c = 3"
   ]
  },
  {
   "cell_type": "markdown",
   "id": "50476440",
   "metadata": {},
   "source": [
    "#### 2.Multi-line statement"
   ]
  },
  {
   "cell_type": "code",
   "execution_count": 7,
   "id": "f05fdb9b",
   "metadata": {},
   "outputs": [
    {
     "data": {
      "text/plain": [
       "290"
      ]
     },
     "execution_count": 7,
     "metadata": {},
     "output_type": "execute_result"
    }
   ],
   "source": [
    "p3 = 20 + 30 \\\n",
    "+ 40 + 50 \\\n",
    "+ 70 + 80\n",
    "\n",
    "p3"
   ]
  },
  {
   "cell_type": "code",
   "execution_count": 9,
   "id": "fdc398f4",
   "metadata": {},
   "outputs": [
    {
     "data": {
      "text/plain": [
       "['a', 'b', 'c', 'd']"
      ]
     },
     "execution_count": 9,
     "metadata": {},
     "output_type": "execute_result"
    }
   ],
   "source": [
    "p4 = [ 'a',\n",
    "      'b',\n",
    "      'c',\n",
    "      'd'\n",
    "    ]\n",
    "\n",
    "p4"
   ]
  },
  {
   "cell_type": "raw",
   "id": "84c16086",
   "metadata": {},
   "source": []
  },
  {
   "cell_type": "markdown",
   "id": "1b6b34ce",
   "metadata": {},
   "source": [
    "# Python Indentation"
   ]
  },
  {
   "cell_type": "markdown",
   "id": "5a723bf7",
   "metadata": {},
   "source": [
    "- Most of the programming languages like C, C++, and Java use braces { } to define a block of code. Python, however, uses indentation.\n",
    "\n",
    "- Indentation refers to the spaces at the beginning of a code line. It is very important as Python usesindentation to indicate a block of code.If the indentation is not correct we will endup with **IndentationError** error."
   ]
  },
  {
   "cell_type": "code",
   "execution_count": 12,
   "id": "1a2f7a75",
   "metadata": {},
   "outputs": [
    {
     "name": "stdout",
     "output_type": "stream",
     "text": [
      "P is equal to 10\n"
     ]
    }
   ],
   "source": [
    "p=10\n",
    "if p == 10:\n",
    "    print('P is equal to 10')\n",
    "\n",
    "\n",
    " # correct indentation"
   ]
  },
  {
   "cell_type": "code",
   "execution_count": 13,
   "id": "39621b1f",
   "metadata": {},
   "outputs": [
    {
     "ename": "IndentationError",
     "evalue": "expected an indented block (1737870382.py, line 3)",
     "output_type": "error",
     "traceback": [
      "\u001b[1;36m  Input \u001b[1;32mIn [13]\u001b[1;36m\u001b[0m\n\u001b[1;33m    print('P is equal to 10')\u001b[0m\n\u001b[1;37m    ^\u001b[0m\n\u001b[1;31mIndentationError\u001b[0m\u001b[1;31m:\u001b[0m expected an indented block\n"
     ]
    }
   ],
   "source": [
    "p=10\n",
    "if p == 10:\n",
    "print('P is equal to 10')"
   ]
  },
  {
   "cell_type": "markdown",
   "id": "301d8d26",
   "metadata": {},
   "source": [
    "- if indentation is skipped we will encounter \"IndentationError: expected an indented block"
   ]
  },
  {
   "cell_type": "markdown",
   "id": "1fb94915",
   "metadata": {},
   "source": [
    "- #### Let's look into another example"
   ]
  },
  {
   "cell_type": "code",
   "execution_count": 17,
   "id": "6b5d29b9",
   "metadata": {},
   "outputs": [
    {
     "name": "stdout",
     "output_type": "stream",
     "text": [
      "0\n",
      "1\n",
      "2\n",
      "3\n",
      "4\n"
     ]
    }
   ],
   "source": [
    "for i in range(0,5):\n",
    "    print(i)\n",
    "    \n",
    "# Correct Indentation"
   ]
  },
  {
   "cell_type": "markdown",
   "id": "2906454c",
   "metadata": {},
   "source": [
    "- ##### Correct indentation but less readable "
   ]
  },
  {
   "cell_type": "code",
   "execution_count": 18,
   "id": "dfb7420c",
   "metadata": {},
   "outputs": [
    {
     "name": "stdout",
     "output_type": "stream",
     "text": [
      "0\n",
      "1\n",
      "2\n",
      "3\n",
      "4\n"
     ]
    }
   ],
   "source": [
    "for i in range(0,5): print(i)"
   ]
  },
  {
   "cell_type": "markdown",
   "id": "e2343218",
   "metadata": {},
   "source": [
    "- **Incorrect Indentation Example**"
   ]
  },
  {
   "cell_type": "code",
   "execution_count": 16,
   "id": "65c945f1",
   "metadata": {},
   "outputs": [
    {
     "ename": "IndentationError",
     "evalue": "expected an indented block (2129355989.py, line 2)",
     "output_type": "error",
     "traceback": [
      "\u001b[1;36m  Input \u001b[1;32mIn [16]\u001b[1;36m\u001b[0m\n\u001b[1;33m    print(i)\u001b[0m\n\u001b[1;37m    ^\u001b[0m\n\u001b[1;31mIndentationError\u001b[0m\u001b[1;31m:\u001b[0m expected an indented block\n"
     ]
    }
   ],
   "source": [
    "for i in range(0,5):\n",
    "print(i)"
   ]
  },
  {
   "cell_type": "raw",
   "id": "e0361b1f",
   "metadata": {},
   "source": []
  },
  {
   "cell_type": "markdown",
   "id": "1c95686b",
   "metadata": {},
   "source": [
    "# Docstrings in Python"
   ]
  },
  {
   "cell_type": "markdown",
   "id": "f11117fc",
   "metadata": {},
   "source": [
    "- A docstring is short for documentation string.\n",
    "\n",
    "- Python docstrings (documentation strings) are the string literals that appear right after the definition of a function, method, class, or module.\n",
    "\n",
    "##### Triple quotes are used while writing docstrings. For example:"
   ]
  },
  {
   "cell_type": "code",
   "execution_count": 19,
   "id": "129eaaef",
   "metadata": {},
   "outputs": [],
   "source": [
    "def double(num):\n",
    "    \"\"\"Function to double the value\"\"\"\n",
    "    return 2*num"
   ]
  },
  {
   "cell_type": "markdown",
   "id": "68dfb15f",
   "metadata": {},
   "source": [
    "- Docstrings appear right after the definition of a function, class, or a module. This separates docstrings from multiline comments using triple quotes.\n",
    "\n",
    "- The docstrings are associated with the object as their __doc__  attribute.\n",
    "\n",
    "##### So, we can access the docstrings of the above function with the following lines of code:"
   ]
  },
  {
   "cell_type": "code",
   "execution_count": 20,
   "id": "43622d18",
   "metadata": {},
   "outputs": [
    {
     "name": "stdout",
     "output_type": "stream",
     "text": [
      "Function to double the value\n"
     ]
    }
   ],
   "source": [
    "def double(num):\n",
    "    \"\"\"Function to double the value\"\"\"\n",
    "    return 2*num\n",
    "print(double.__doc__)"
   ]
  },
  {
   "cell_type": "markdown",
   "id": "7b01db0e",
   "metadata": {},
   "source": [
    "#### Example 1"
   ]
  },
  {
   "cell_type": "code",
   "execution_count": 21,
   "id": "5ad0f9a5",
   "metadata": {},
   "outputs": [
    {
     "data": {
      "text/plain": [
       "4"
      ]
     },
     "execution_count": 21,
     "metadata": {},
     "output_type": "execute_result"
    }
   ],
   "source": [
    "def square(num):\n",
    "    '''Square Function:- This function will return the square of the Number'''\n",
    "    return 2**num\n",
    "square(2)"
   ]
  },
  {
   "cell_type": "code",
   "execution_count": 24,
   "id": "5ec7be2a",
   "metadata": {},
   "outputs": [
    {
     "data": {
      "text/plain": [
       "'Square Function:- This function will return the square of the Number'"
      ]
     },
     "execution_count": 24,
     "metadata": {},
     "output_type": "execute_result"
    }
   ],
   "source": [
    "# We can access the Docstring using __doc__ method\n",
    "\n",
    "square.__doc__"
   ]
  },
  {
   "cell_type": "raw",
   "id": "e036ddaf",
   "metadata": {},
   "source": []
  },
  {
   "cell_type": "markdown",
   "id": "e78a1bfa",
   "metadata": {},
   "source": [
    "#### Example 2"
   ]
  },
  {
   "cell_type": "code",
   "execution_count": 32,
   "id": "981200e5",
   "metadata": {},
   "outputs": [],
   "source": [
    "def evenodd(num):\n",
    "    \"\"\"evenodd function:- This function will return wether a number is Even Or Odd\"\"\"\n",
    "    if num % 2 == 0:\n",
    "        print(\"Even Number\")\n",
    "    else:\n",
    "        print(\"Odd Number\")"
   ]
  },
  {
   "cell_type": "code",
   "execution_count": 33,
   "id": "1d9a6151",
   "metadata": {},
   "outputs": [
    {
     "name": "stdout",
     "output_type": "stream",
     "text": [
      "Even Number\n"
     ]
    }
   ],
   "source": [
    "evenodd(2)"
   ]
  },
  {
   "cell_type": "code",
   "execution_count": 34,
   "id": "6f4eee0b",
   "metadata": {},
   "outputs": [
    {
     "name": "stdout",
     "output_type": "stream",
     "text": [
      "Odd Number\n"
     ]
    }
   ],
   "source": [
    "evenodd(5)"
   ]
  },
  {
   "cell_type": "code",
   "execution_count": 36,
   "id": "3ce26b87",
   "metadata": {},
   "outputs": [
    {
     "data": {
      "text/plain": [
       "'evenodd function:- This function will return wether a number is Even Or Odd'"
      ]
     },
     "execution_count": 36,
     "metadata": {},
     "output_type": "execute_result"
    }
   ],
   "source": [
    "evenodd.__doc__"
   ]
  },
  {
   "cell_type": "raw",
   "id": "640021ae",
   "metadata": {},
   "source": []
  },
  {
   "cell_type": "markdown",
   "id": "717dbe43",
   "metadata": {},
   "source": [
    "# Python Variables"
   ]
  },
  {
   "cell_type": "markdown",
   "id": "b852750c",
   "metadata": {},
   "source": [
    "- A variable is a named location used to store data in the memory. It is helpful to think of variables as a container that holds data that can be changed later in the program.\n",
    "\n",
    "**For example,**\n",
    "\n",
    "**number = 10**\n",
    "\n",
    "Here, we have created a variable named number. We have assigned the value 10 to the variable.\n",
    "\n",
    "You can think of variables as a bag to store books in it and that book can be replaced at any time.\n",
    "\n",
    "**number = 10**\n",
    "\n",
    "**number = 1.1**\n",
    "\n",
    "Initially, the value of number was 10. Later, it was changed to 1.1.\n",
    "\n",
    "**Note: In Python, we don't actually assign values to the variables. Instead, Python gives the reference of the object(value) to the variable.**"
   ]
  },
  {
   "cell_type": "raw",
   "id": "46d15637",
   "metadata": {},
   "source": []
  },
  {
   "cell_type": "markdown",
   "id": "e83453b8",
   "metadata": {},
   "source": [
    "# Assigning values to Variables in Python\n",
    "\n",
    "As you can see from the above example, you can use the assignment operator **=** to assign a value to a variable."
   ]
  },
  {
   "cell_type": "markdown",
   "id": "a0f8ce19",
   "metadata": {},
   "source": [
    "#### Example 1: Declaring and assigning value to a variable"
   ]
  },
  {
   "cell_type": "code",
   "execution_count": 37,
   "id": "4a989023",
   "metadata": {},
   "outputs": [
    {
     "name": "stdout",
     "output_type": "stream",
     "text": [
      "apple.com\n"
     ]
    }
   ],
   "source": [
    "website = \"apple.com\"\n",
    "print(website)"
   ]
  },
  {
   "cell_type": "markdown",
   "id": "b79f9ffe",
   "metadata": {},
   "source": [
    "#### Example 2: Changing the value of a variable"
   ]
  },
  {
   "cell_type": "code",
   "execution_count": 39,
   "id": "d63154cc",
   "metadata": {},
   "outputs": [
    {
     "name": "stdout",
     "output_type": "stream",
     "text": [
      "apple.com\n",
      "programiz.com\n"
     ]
    }
   ],
   "source": [
    "website = \"apple.com\"\n",
    "print(website)\n",
    "\n",
    "# assigning a new value to website\n",
    "\n",
    "website = \"programiz.com\"\n",
    "\n",
    "print(website)"
   ]
  },
  {
   "cell_type": "markdown",
   "id": "3d17b4d9",
   "metadata": {},
   "source": [
    "In the above program, we have assigned apple.com to the website variable initially. Then, the value is changed to programiz.com."
   ]
  },
  {
   "cell_type": "markdown",
   "id": "b84f22f5",
   "metadata": {},
   "source": [
    "#### Example 3: Assigning multiple values to multiple variables"
   ]
  },
  {
   "cell_type": "code",
   "execution_count": 40,
   "id": "d18b39a5",
   "metadata": {},
   "outputs": [
    {
     "name": "stdout",
     "output_type": "stream",
     "text": [
      "5\n",
      "3.2\n",
      "Hello\n"
     ]
    }
   ],
   "source": [
    "a, b, c = 5, 3.2, \"Hello\"\n",
    "\n",
    "print (a)\n",
    "print (b)\n",
    "print (c)"
   ]
  },
  {
   "cell_type": "markdown",
   "id": "af1fba4f",
   "metadata": {},
   "source": [
    "If we want to assign the same value to multiple variables at once, we can do this as:"
   ]
  },
  {
   "cell_type": "code",
   "execution_count": 42,
   "id": "405f4a16",
   "metadata": {},
   "outputs": [
    {
     "name": "stdout",
     "output_type": "stream",
     "text": [
      "same\n",
      "same\n",
      "same\n"
     ]
    }
   ],
   "source": [
    "x = y = z = \"same\"\n",
    "\n",
    "print (x)\n",
    "print (y)\n",
    "print (z)"
   ]
  },
  {
   "cell_type": "raw",
   "id": "49b3558d",
   "metadata": {},
   "source": []
  },
  {
   "cell_type": "code",
   "execution_count": 43,
   "id": "e4b2ae72",
   "metadata": {},
   "outputs": [],
   "source": [
    "p = 30"
   ]
  },
  {
   "cell_type": "code",
   "execution_count": 44,
   "id": "ffb20b91",
   "metadata": {},
   "outputs": [
    {
     "data": {
      "text/plain": [
       "2613071932624"
      ]
     },
     "execution_count": 44,
     "metadata": {},
     "output_type": "execute_result"
    }
   ],
   "source": [
    "'''\n",
    "id() function returns the “identity” of the object.\n",
    "The identity of an object - Is an integer\n",
    "                        - Guaranteed to be unique\n",
    "                        - Constant for this object during its lifetime.\n",
    "                        \n",
    "'''\n",
    "id(p)"
   ]
  },
  {
   "cell_type": "code",
   "execution_count": 46,
   "id": "542ada26",
   "metadata": {},
   "outputs": [
    {
     "data": {
      "text/plain": [
       "'0x26067396cd0'"
      ]
     },
     "execution_count": 46,
     "metadata": {},
     "output_type": "execute_result"
    }
   ],
   "source": [
    "# Memory address of the variable\n",
    "\n",
    "hex(id(p))"
   ]
  },
  {
   "cell_type": "code",
   "execution_count": null,
   "id": "1c503ffd",
   "metadata": {},
   "outputs": [],
   "source": []
  },
  {
   "cell_type": "code",
   "execution_count": 48,
   "id": "c3f64cd7",
   "metadata": {},
   "outputs": [
    {
     "data": {
      "text/plain": [
       "(20, int, '0x26067396b90')"
      ]
     },
     "execution_count": 48,
     "metadata": {},
     "output_type": "execute_result"
    }
   ],
   "source": [
    "p = 20\n",
    "q = 20\n",
    "r = q\n",
    "p , type(p) , hex(id(p))"
   ]
  },
  {
   "cell_type": "code",
   "execution_count": 49,
   "id": "13755299",
   "metadata": {},
   "outputs": [
    {
     "data": {
      "text/plain": [
       "(20, int, '0x26067396b90')"
      ]
     },
     "execution_count": 49,
     "metadata": {},
     "output_type": "execute_result"
    }
   ],
   "source": [
    "q , type(q) , hex(id(q))"
   ]
  },
  {
   "cell_type": "code",
   "execution_count": 50,
   "id": "02635724",
   "metadata": {},
   "outputs": [
    {
     "data": {
      "text/plain": [
       "(20, int, '0x26067396b90')"
      ]
     },
     "execution_count": 50,
     "metadata": {},
     "output_type": "execute_result"
    }
   ],
   "source": [
    "r , type(r) , hex(id(r))"
   ]
  },
  {
   "attachments": {
    "image.png": {
     "image/png": "[encoded data removed]"
    }
   },
   "cell_type": "markdown",
   "id": "460f4355",
   "metadata": {},
   "source": [
    "![image.png](attachment:image.png)"
   ]
  },
  {
   "cell_type": "raw",
   "id": "e3e880db",
   "metadata": {},
   "source": []
  },
  {
   "cell_type": "markdown",
   "id": "ed690aac",
   "metadata": {},
   "source": [
    "# Variable Overwriting"
   ]
  },
  {
   "cell_type": "code",
   "execution_count": 52,
   "id": "f80fe7d3",
   "metadata": {},
   "outputs": [
    {
     "data": {
      "text/plain": [
       "30"
      ]
     },
     "execution_count": 52,
     "metadata": {},
     "output_type": "execute_result"
    }
   ],
   "source": [
    "p = 20\n",
    "\n",
    "p = p + 10 #variable overwriting\n",
    "\n",
    "p"
   ]
  },
  {
   "cell_type": "raw",
   "id": "7f903aa5",
   "metadata": {},
   "source": []
  },
  {
   "cell_type": "markdown",
   "id": "fcf8f5c0",
   "metadata": {},
   "source": [
    "# Variable Assignment"
   ]
  },
  {
   "cell_type": "code",
   "execution_count": 53,
   "id": "b2376aec",
   "metadata": {},
   "outputs": [
    {
     "name": "stdout",
     "output_type": "stream",
     "text": [
      "10\n",
      "2.57\n",
      "Python Language\n"
     ]
    }
   ],
   "source": [
    "intvar = 10   # Integer variable\n",
    "\n",
    "floatvar = 2.57  # Float Variable\n",
    "\n",
    "strvar = \"Python Language\"   # String variable\n",
    "\n",
    "print(intvar)\n",
    "\n",
    "print(floatvar)\n",
    "\n",
    "print(strvar)"
   ]
  },
  {
   "cell_type": "code",
   "execution_count": 57,
   "id": "5da067ac",
   "metadata": {},
   "outputs": [
    {
     "data": {
      "text/plain": [
       "(int, float, str)"
      ]
     },
     "execution_count": 57,
     "metadata": {},
     "output_type": "execute_result"
    }
   ],
   "source": [
    "type(intvar) , type(floatvar) , type(strvar)"
   ]
  },
  {
   "cell_type": "code",
   "execution_count": 58,
   "id": "f17267d9",
   "metadata": {},
   "outputs": [
    {
     "name": "stdout",
     "output_type": "stream",
     "text": [
      "<class 'int'>\n"
     ]
    }
   ],
   "source": [
    "print(type(intvar))"
   ]
  },
  {
   "cell_type": "code",
   "execution_count": 59,
   "id": "610b69ee",
   "metadata": {},
   "outputs": [
    {
     "name": "stdout",
     "output_type": "stream",
     "text": [
      "<class 'float'>\n"
     ]
    }
   ],
   "source": [
    "print(type(floatvar))"
   ]
  },
  {
   "cell_type": "code",
   "execution_count": 60,
   "id": "8c908ba2",
   "metadata": {},
   "outputs": [
    {
     "name": "stdout",
     "output_type": "stream",
     "text": [
      "<class 'str'>\n"
     ]
    }
   ],
   "source": [
    "print(type(strvar))"
   ]
  },
  {
   "cell_type": "raw",
   "id": "fe4c9873",
   "metadata": {},
   "source": []
  },
  {
   "cell_type": "markdown",
   "id": "d2b395cc",
   "metadata": {},
   "source": [
    "# Python Data Types"
   ]
  },
  {
   "cell_type": "markdown",
   "id": "a0d7ee83",
   "metadata": {},
   "source": [
    "## Built-in Data Types\n",
    "\n",
    "In programming, data type is an important concept.\n",
    "\n",
    "Variables can store data of different types, and different types can do different things.\n",
    "\n",
    "Python has the following data types built-in by default, in these categories:\n",
    "\n",
    "|Text Type         |\tstr|\n",
    "|:-----------------|:-----:|\n",
    "|Numeric Types:\t|int, float, complex|\n",
    "|Sequence Types|\tlist, tuple, range|\n",
    "|Mapping Type|\tdict|\n",
    "|Set Types|\tset, frozenset|\n",
    "|Boolean Type|\tbool|\n",
    "|Binary Types|\tbytes, bytearray, memoryview|\n",
    "|None Type|\tNoneType|"
   ]
  },
  {
   "cell_type": "markdown",
   "id": "db0cae69",
   "metadata": {},
   "source": [
    "## Getting the Data Type\n",
    "You can get the data type of any object by using the **type()** function:\n",
    "\n",
    "**Example:-**\n",
    "\n",
    "Print the data type of the varable x:"
   ]
  },
  {
   "cell_type": "code",
   "execution_count": 61,
   "id": "0fc9ed2b",
   "metadata": {},
   "outputs": [
    {
     "name": "stdout",
     "output_type": "stream",
     "text": [
      "<class 'int'>\n"
     ]
    }
   ],
   "source": [
    "x = 5\n",
    "print(type(x))"
   ]
  },
  {
   "cell_type": "raw",
   "id": "7c99e985",
   "metadata": {},
   "source": []
  },
  {
   "cell_type": "markdown",
   "id": "7404ea8c",
   "metadata": {},
   "source": [
    "# Setting the Data Type\n",
    "\n",
    "In Python, the data type is set when you assign a value to a variable:"
   ]
  },
  {
   "cell_type": "markdown",
   "id": "6c93955a",
   "metadata": {},
   "source": [
    "|Example\t                                      |Data Type|\n",
    "|:------------------------------------------------|:--------|\n",
    "|x = \"Hello World\"\t                         | **str**|\t\n",
    "|x = 20\t                           |       **int**\t|\n",
    "|x = 20.5\t                          |        **float**\t|\n",
    "|x = 1j\t                         |         **complex**|\t\n",
    "|x = [\"apple\", \"banana\", \"cherry\"]\t|          **list**\t|\n",
    "|x = (\"apple\", \"banana\", \"cherry\")|\t          **tuple**\t|\n",
    "|x = range(6)\t               |               **range**\t|\n",
    "|x = {\"name\" : \"John\", \"age\" : 36}\t  |        **dict**\t|\n",
    "|x = {\"apple\", \"banana\", \"cherry\"}\t |         **set**\t|\n",
    "|x = frozenset({\"apple\", \"banana\", \"cherry\"})|**frozenset**|\t\n",
    "|x = True\t                        |          **bool**\t|\n",
    "|x = b\"Hello\"\t                         |     **bytes**\t|\n",
    "|x = bytearray(5)\t                    |      **bytearray**|\t\n",
    "|x = memoryview(bytes(5))\t           |       **memoryview**|\t\n",
    "|x = None\t                       |           **NoneType**|"
   ]
  },
  {
   "cell_type": "raw",
   "id": "0dc5cdfb",
   "metadata": {},
   "source": []
  },
  {
   "cell_type": "markdown",
   "id": "da171cfb",
   "metadata": {},
   "source": [
    "## Setting the Specific Data Type\n",
    "If you want to specify the data type, you can use the following constructor functions:\n",
    "\n",
    "\n",
    "|Example\t        |Data Type|\n",
    "|:------------------|:--------|\n",
    "|x = str(\"Hello World\")|\tstr|\n",
    "|x = int(20)|\tint|\t\n",
    "|x = float(20.5)|\tfloat|\t\n",
    "|x = complex(1j)|\tcomplex|\t\n",
    "|x = list((\"apple\", \"banana\", \"cherry\"))|\tlist|\t\n",
    "|x = tuple((\"apple\", \"banana\", \"cherry\"))|\ttuple|\t\n",
    "|x = range(6)|\trange|\t\n",
    "|x = dict(name=\"John\", age=36)|\tdict|\t\n",
    "|x = set((\"apple\", \"banana\", \"cherry\"))|\tset|\t\n",
    "|x = frozenset((\"apple\", \"banana\", \"cherry\"))|\tfrozenset|\t\n",
    "|x = bool(5)|\tbool|\t\n",
    "|x = bytes(5)|\tbytes|\t\n",
    "|x = bytearray(5)|\tbytearray|\t\n",
    "|x = memoryview(bytes(5))|\tmemoryview|"
   ]
  },
  {
   "cell_type": "raw",
   "id": "ef13301c",
   "metadata": {},
   "source": []
  },
  {
   "cell_type": "markdown",
   "id": "76e3babf",
   "metadata": {},
   "source": [
    "# Python Numbers"
   ]
  },
  {
   "cell_type": "markdown",
   "id": "de6d34fa",
   "metadata": {},
   "source": [
    "##### There are three numeric types in Python:\n",
    "\n",
    "- int\n",
    "- float\n",
    "- complex\n",
    "\n",
    "Variables of numeric types are created when you assign a value to them:"
   ]
  },
  {
   "cell_type": "code",
   "execution_count": 62,
   "id": "84a69693",
   "metadata": {},
   "outputs": [],
   "source": [
    "x = 1           #int\n",
    "y = 2.8         #float\n",
    "z = 1j          #complex"
   ]
  },
  {
   "cell_type": "markdown",
   "id": "605c22ca",
   "metadata": {},
   "source": [
    "To verify the type of any object in Python, use the type() function:"
   ]
  },
  {
   "cell_type": "code",
   "execution_count": 63,
   "id": "7efe6b0f",
   "metadata": {},
   "outputs": [
    {
     "name": "stdout",
     "output_type": "stream",
     "text": [
      "<class 'int'>\n",
      "<class 'float'>\n",
      "<class 'complex'>\n"
     ]
    }
   ],
   "source": [
    "print(type(x))\n",
    "print(type(y))\n",
    "print(type(z))"
   ]
  },
  {
   "cell_type": "raw",
   "id": "0efd80d4",
   "metadata": {},
   "source": []
  },
  {
   "cell_type": "markdown",
   "id": "27e3cdf9",
   "metadata": {},
   "source": [
    "# Int\n",
    "Int, or integer, is a whole number, positive or negative, without decimals, of unlimited length.\n",
    "\n",
    "***Example***\n",
    "\n",
    "Integers:"
   ]
  },
  {
   "cell_type": "code",
   "execution_count": 65,
   "id": "3fc4c2cd",
   "metadata": {},
   "outputs": [
    {
     "name": "stdout",
     "output_type": "stream",
     "text": [
      "<class 'int'>\n",
      "<class 'int'>\n",
      "<class 'int'>\n"
     ]
    }
   ],
   "source": [
    "x = 1\n",
    "y = 3445678854\n",
    "z = -23453\n",
    "\n",
    "print(type(x))\n",
    "print(type(y))\n",
    "print(type(z))"
   ]
  },
  {
   "cell_type": "raw",
   "id": "92a8d12e",
   "metadata": {},
   "source": []
  },
  {
   "cell_type": "markdown",
   "id": "523bb79c",
   "metadata": {},
   "source": [
    "# Float\n",
    "\n",
    "Float, or \"floating point number\" is a number, positive or negative, containing one or more decimals.\n",
    "\n",
    "***Example***\n",
    "\n",
    "Floats:"
   ]
  },
  {
   "cell_type": "code",
   "execution_count": 66,
   "id": "44347502",
   "metadata": {},
   "outputs": [
    {
     "name": "stdout",
     "output_type": "stream",
     "text": [
      "<class 'float'>\n",
      "<class 'float'>\n",
      "<class 'float'>\n"
     ]
    }
   ],
   "source": [
    "x = 1.10\n",
    "y = 1.0\n",
    "z = -35.59\n",
    "\n",
    "print(type(x))\n",
    "print(type(y))\n",
    "print(type(z))"
   ]
  },
  {
   "cell_type": "markdown",
   "id": "2dcfa47b",
   "metadata": {},
   "source": [
    "Float can also be scientific numbers with an \"e\" to indicate the power of 10. "
   ]
  },
  {
   "cell_type": "code",
   "execution_count": 67,
   "id": "e773d7e8",
   "metadata": {},
   "outputs": [
    {
     "name": "stdout",
     "output_type": "stream",
     "text": [
      "<class 'float'>\n",
      "<class 'float'>\n",
      "<class 'float'>\n"
     ]
    }
   ],
   "source": [
    "x = 35e3\n",
    "y = 12E4\n",
    "z = -87.7e100\n",
    "\n",
    "print(type(x))\n",
    "print(type(y))\n",
    "print(type(z))"
   ]
  },
  {
   "cell_type": "raw",
   "id": "cea8c397",
   "metadata": {},
   "source": []
  },
  {
   "cell_type": "markdown",
   "id": "a7979338",
   "metadata": {},
   "source": [
    "# Complex\n",
    "\n",
    "Complex numbers are written with a \"j\" as the imaginary part:\n",
    "\n",
    "***Example***\n",
    "\n",
    "Complex:"
   ]
  },
  {
   "cell_type": "code",
   "execution_count": 68,
   "id": "e6730ff8",
   "metadata": {},
   "outputs": [
    {
     "name": "stdout",
     "output_type": "stream",
     "text": [
      "<class 'complex'>\n",
      "<class 'complex'>\n",
      "<class 'complex'>\n"
     ]
    }
   ],
   "source": [
    "x = 3+5j\n",
    "y = 5j\n",
    "z = -5j\n",
    "\n",
    "print(type(x))\n",
    "print(type(y))\n",
    "print(type(z))"
   ]
  },
  {
   "cell_type": "raw",
   "id": "48a8a760",
   "metadata": {},
   "source": [
    " "
   ]
  },
  {
   "cell_type": "markdown",
   "id": "01eaf6de",
   "metadata": {},
   "source": [
    "# Type Conversion\n",
    "\n",
    "Type Conversion\n",
    "The process of converting the value of one data type (integer, string, float, etc.) to another data type is called type conversion. Python has two types of type conversion.\n",
    "\n",
    "- 1.Implicit Type Conversion\n",
    "- 2.Explicit Type Conversion\n",
    "\n",
    "***Example 1***\n",
    "\n",
    "\n",
    "#### ***Convert from one type to another:***"
   ]
  },
  {
   "cell_type": "code",
   "execution_count": 69,
   "id": "7664f782",
   "metadata": {},
   "outputs": [
    {
     "name": "stdout",
     "output_type": "stream",
     "text": [
      "1.0\n",
      "2\n",
      "(1+0j)\n",
      "<class 'float'>\n",
      "<class 'int'>\n",
      "<class 'complex'>\n"
     ]
    }
   ],
   "source": [
    "x = 1    # int\n",
    "y = 2.8  # float\n",
    "z = 1j   # complex\n",
    "\n",
    "#convert from int to float:\n",
    "a = float(x)\n",
    "\n",
    "#convert from float to int:\n",
    "b = int(y)\n",
    "\n",
    "#convert from int to complex:\n",
    "c = complex(x)\n",
    "\n",
    "print(a)\n",
    "print(b)\n",
    "print(c)\n",
    "\n",
    "print(type(a))\n",
    "print(type(b))\n",
    "print(type(c))"
   ]
  },
  {
   "cell_type": "markdown",
   "id": "604b957f",
   "metadata": {},
   "source": [
    "- Note: You cannot convert complex numbers into another number type."
   ]
  },
  {
   "cell_type": "markdown",
   "id": "e9b4dc1e",
   "metadata": {},
   "source": [
    "### Implicit Type Conversion\n",
    "\n",
    "In Implicit type conversion, Python automatically converts one data type to another data type. This process doesn't need any user involvement."
   ]
  },
  {
   "cell_type": "markdown",
   "id": "8ca2b5f8",
   "metadata": {},
   "source": [
    "#### Example 1: Converting integer to float"
   ]
  },
  {
   "cell_type": "code",
   "execution_count": 2,
   "id": "d7c0941b",
   "metadata": {},
   "outputs": [
    {
     "name": "stdout",
     "output_type": "stream",
     "text": [
      "DataType of num_int: <class 'int'>\n",
      "DataType of num_float: <class 'float'>\n",
      "Value of num_new 124.23\n",
      "datatype of num_new <class 'float'>\n"
     ]
    }
   ],
   "source": [
    "num_int = 123\n",
    "num_float = 1.23\n",
    "\n",
    "num_new = num_int + num_float\n",
    "\n",
    "print(\"DataType of num_int:\",type(num_int))\n",
    "print(\"DataType of num_float:\",type(num_float))\n",
    "\n",
    "print(\"Value of num_new\",num_new)\n",
    "print(\"datatype of num_new\",type(num_new))"
   ]
  },
  {
   "cell_type": "markdown",
   "id": "6a16bc97",
   "metadata": {},
   "source": [
    "#### Example 2: Addition of string(higher) data type and integer(lower) datatype"
   ]
  },
  {
   "cell_type": "code",
   "execution_count": 3,
   "id": "d2a55217",
   "metadata": {},
   "outputs": [
    {
     "name": "stdout",
     "output_type": "stream",
     "text": [
      "Data type of num_int: <class 'int'>\n",
      "Data type of num_str: <class 'str'>\n"
     ]
    },
    {
     "ename": "TypeError",
     "evalue": "unsupported operand type(s) for +: 'int' and 'str'",
     "output_type": "error",
     "traceback": [
      "\u001b[1;31m---------------------------------------------------------------------------\u001b[0m",
      "\u001b[1;31mTypeError\u001b[0m                                 Traceback (most recent call last)",
      "Input \u001b[1;32mIn [3]\u001b[0m, in \u001b[0;36m<cell line: 7>\u001b[1;34m()\u001b[0m\n\u001b[0;32m      4\u001b[0m \u001b[38;5;28mprint\u001b[39m(\u001b[38;5;124m\"\u001b[39m\u001b[38;5;124mData type of num_int:\u001b[39m\u001b[38;5;124m\"\u001b[39m,\u001b[38;5;28mtype\u001b[39m(num_int))\n\u001b[0;32m      5\u001b[0m \u001b[38;5;28mprint\u001b[39m(\u001b[38;5;124m\"\u001b[39m\u001b[38;5;124mData type of num_str:\u001b[39m\u001b[38;5;124m\"\u001b[39m,\u001b[38;5;28mtype\u001b[39m(num_str))\n\u001b[1;32m----> 7\u001b[0m \u001b[38;5;28mprint\u001b[39m(\u001b[43mnum_int\u001b[49m\u001b[38;5;241;43m+\u001b[39;49m\u001b[43mnum_str\u001b[49m)\n",
      "\u001b[1;31mTypeError\u001b[0m: unsupported operand type(s) for +: 'int' and 'str'"
     ]
    }
   ],
   "source": [
    "num_int = 123\n",
    "num_str = \"456\"\n",
    "\n",
    "print(\"Data type of num_int:\",type(num_int))\n",
    "print(\"Data type of num_str:\",type(num_str))\n",
    "\n",
    "print(num_int+num_str)"
   ]
  },
  {
   "cell_type": "markdown",
   "id": "60aa50fe",
   "metadata": {},
   "source": [
    "As we can see from the output, we got TypeError. Python is not able to use Implicit Conversion in such conditions.\n",
    "\n",
    "However, Python has a solution for these types of situations which is known as Explicit Conversion."
   ]
  },
  {
   "cell_type": "markdown",
   "id": "6e30d194",
   "metadata": {},
   "source": [
    "### Explicit Type Conversion\n",
    "\n",
    "In Explicit Type Conversion, users convert the data type of an object to required data type. We use the predefined functions like int(), float(), str(), etc to perform explicit type conversion."
   ]
  },
  {
   "cell_type": "markdown",
   "id": "82450ead",
   "metadata": {},
   "source": [
    "#### Example 3: Addition of string and integer using explicit conversion"
   ]
  },
  {
   "cell_type": "code",
   "execution_count": 4,
   "id": "fe1b88c8",
   "metadata": {},
   "outputs": [
    {
     "name": "stdout",
     "output_type": "stream",
     "text": [
      "Data type of num_int: <class 'int'>\n",
      "Data type of num_str before Type Casting: <class 'str'>\n",
      "Data type of num_str after Type Casting: <class 'int'>\n",
      "Sum of num_int and num_str: 579\n",
      "Data type of the sum: <class 'int'>\n"
     ]
    }
   ],
   "source": [
    "num_int = 123\n",
    "num_str = \"456\"\n",
    "\n",
    "print(\"Data type of num_int:\",type(num_int))\n",
    "print(\"Data type of num_str before Type Casting:\",type(num_str))\n",
    "\n",
    "num_str = int(num_str)\n",
    "print(\"Data type of num_str after Type Casting:\",type(num_str))\n",
    "\n",
    "num_sum = num_int + num_str\n",
    "\n",
    "print(\"Sum of num_int and num_str:\",num_sum)\n",
    "print(\"Data type of the sum:\",type(num_sum))"
   ]
  },
  {
   "cell_type": "markdown",
   "id": "a64d2280",
   "metadata": {},
   "source": [
    "In the above program,\n",
    "\n",
    "- We add num_str and num_int variable.\n",
    "- We converted num_str from string(higher) to integer(lower) type using int() function to perform the addition.\n",
    "- After converting num_str to an integer value, Python is able to add these two variables.\n",
    "- We got the num_sum value and data type to be an integer."
   ]
  },
  {
   "cell_type": "markdown",
   "id": "566dbc2a",
   "metadata": {},
   "source": [
    "# Python Strings"
   ]
  },
  {
   "cell_type": "markdown",
   "id": "cbd79f56",
   "metadata": {},
   "source": [
    "Strings in python are surrounded by either single quotation marks, or double quotation marks.\n",
    "\n",
    "'hello' is the same as \"hello\".\n",
    "\n",
    "You can display a string literal with the print() function:"
   ]
  },
  {
   "cell_type": "code",
   "execution_count": 6,
   "id": "1ecf4581",
   "metadata": {},
   "outputs": [
    {
     "name": "stdout",
     "output_type": "stream",
     "text": [
      "Hello\n",
      "Hello\n"
     ]
    }
   ],
   "source": [
    "print(\"Hello\")\n",
    "print(\"Hello\")"
   ]
  },
  {
   "cell_type": "markdown",
   "id": "b76ae810",
   "metadata": {},
   "source": [
    "### String Creation\n"
   ]
  },
  {
   "cell_type": "code",
   "execution_count": 8,
   "id": "30ef2891",
   "metadata": {},
   "outputs": [
    {
     "name": "stdout",
     "output_type": "stream",
     "text": [
      "Hello Python\n"
     ]
    }
   ],
   "source": [
    "srt = \"Hello Python\"\n",
    "\n",
    "print(srt)"
   ]
  },
  {
   "cell_type": "code",
   "execution_count": 10,
   "id": "79c81388",
   "metadata": {},
   "outputs": [
    {
     "name": "stdout",
     "output_type": "stream",
     "text": [
      "Hello World\n"
     ]
    }
   ],
   "source": [
    "# Define string using single quotes\n",
    "\n",
    "mystr = 'Hello World'\n",
    "\n",
    "print(mystr)"
   ]
  },
  {
   "cell_type": "code",
   "execution_count": 11,
   "id": "3c095fd7",
   "metadata": {},
   "outputs": [
    {
     "name": "stdout",
     "output_type": "stream",
     "text": [
      "Hello Python\n"
     ]
    }
   ],
   "source": [
    "# Define string using double quotes\n",
    "\n",
    "mystr = \"Hello Python\"\n",
    "\n",
    "print(mystr)"
   ]
  },
  {
   "cell_type": "code",
   "execution_count": 14,
   "id": "4aefd5e3",
   "metadata": {},
   "outputs": [
    {
     "name": "stdout",
     "output_type": "stream",
     "text": [
      "Hello\n",
      "        World\n"
     ]
    }
   ],
   "source": [
    "# Define string using single triple quotes\n",
    "\n",
    "mystr = '''Hello\n",
    "        World'''\n",
    "\n",
    "print(mystr)"
   ]
  },
  {
   "cell_type": "code",
   "execution_count": 17,
   "id": "d4d613be",
   "metadata": {},
   "outputs": [
    {
     "name": "stdout",
     "output_type": "stream",
     "text": [
      "Hello \n",
      "        World\n"
     ]
    }
   ],
   "source": [
    "# define string using double triple quotes\n",
    "\n",
    "mystr = \"\"\"Hello \n",
    "        World\"\"\"\n",
    "\n",
    "print(mystr)"
   ]
  },
  {
   "cell_type": "code",
   "execution_count": 19,
   "id": "10e1c3d3",
   "metadata": {},
   "outputs": [
    {
     "name": "stdout",
     "output_type": "stream",
     "text": [
      "Happy Sunday Everyone\n"
     ]
    }
   ],
   "source": [
    "mystr = ('Happy '\n",
    "        'Sunday '\n",
    "        'Everyone')\n",
    "\n",
    "print(mystr)"
   ]
  },
  {
   "cell_type": "code",
   "execution_count": 21,
   "id": "3990943f",
   "metadata": {},
   "outputs": [
    {
     "data": {
      "text/plain": [
       "'Woohoo Woohoo Woohoo Woohoo Woohoo '"
      ]
     },
     "execution_count": 21,
     "metadata": {},
     "output_type": "execute_result"
    }
   ],
   "source": [
    "mystr1 = \"Woohoo \"\n",
    "mystr1 = mystr1*5\n",
    "\n",
    "mystr1"
   ]
  },
  {
   "cell_type": "markdown",
   "id": "79dc27e8",
   "metadata": {},
   "source": [
    "### String Indexing"
   ]
  },
  {
   "attachments": {
    "image.png": {
     "image/png": "[encoded data removed]"
    }
   },
   "cell_type": "markdown",
   "id": "ebdc666e",
   "metadata": {},
   "source": [
    "![image.png](attachment:image.png)"
   ]
  },
  {
   "cell_type": "code",
   "execution_count": 22,
   "id": "ffed44c6",
   "metadata": {},
   "outputs": [],
   "source": [
    "myst = \"I Like You\""
   ]
  },
  {
   "cell_type": "code",
   "execution_count": 25,
   "id": "77aaf63e",
   "metadata": {},
   "outputs": [
    {
     "name": "stdout",
     "output_type": "stream",
     "text": [
      "I Like You\n"
     ]
    },
    {
     "data": {
      "text/plain": [
       "str"
      ]
     },
     "execution_count": 25,
     "metadata": {},
     "output_type": "execute_result"
    }
   ],
   "source": [
    "print(myst)\n",
    "\n",
    "type(myst)"
   ]
  },
  {
   "cell_type": "code",
   "execution_count": 26,
   "id": "1e7048cf",
   "metadata": {},
   "outputs": [
    {
     "data": {
      "text/plain": [
       "10"
      ]
     },
     "execution_count": 26,
     "metadata": {},
     "output_type": "execute_result"
    }
   ],
   "source": [
    "# length of the String\n",
    "\n",
    "len(myst)"
   ]
  },
  {
   "cell_type": "markdown",
   "id": "0106ac3c",
   "metadata": {},
   "source": [
    "##### Some Examples of interval filtering"
   ]
  },
  {
   "cell_type": "code",
   "execution_count": 41,
   "id": "af8e1600",
   "metadata": {},
   "outputs": [
    {
     "data": {
      "text/plain": [
       "'I'"
      ]
     },
     "execution_count": 41,
     "metadata": {},
     "output_type": "execute_result"
    }
   ],
   "source": [
    "# First character in string \n",
    "\n",
    "myst[0]"
   ]
  },
  {
   "cell_type": "code",
   "execution_count": 42,
   "id": "e6e24178",
   "metadata": {},
   "outputs": [
    {
     "data": {
      "text/plain": [
       "'u'"
      ]
     },
     "execution_count": 42,
     "metadata": {},
     "output_type": "execute_result"
    }
   ],
   "source": [
    "# Last character in string\n",
    "\n",
    "myst[-1]"
   ]
  },
  {
   "cell_type": "code",
   "execution_count": 43,
   "id": "c1afe97b",
   "metadata": {},
   "outputs": [
    {
     "data": {
      "text/plain": [
       "'u'"
      ]
     },
     "execution_count": 43,
     "metadata": {},
     "output_type": "execute_result"
    }
   ],
   "source": [
    "# Last character in string using len function\n",
    "\n",
    "myst[len(myst)-1]"
   ]
  },
  {
   "cell_type": "code",
   "execution_count": 45,
   "id": "e75dc691",
   "metadata": {},
   "outputs": [
    {
     "data": {
      "text/plain": [
       "'Y'"
      ]
     },
     "execution_count": 45,
     "metadata": {},
     "output_type": "execute_result"
    }
   ],
   "source": [
    "#Fetch 8th element of the string\n",
    "\n",
    "myst[7]"
   ]
  },
  {
   "cell_type": "code",
   "execution_count": 47,
   "id": "d95bd2c1",
   "metadata": {},
   "outputs": [
    {
     "data": {
      "text/plain": [
       "' '"
      ]
     },
     "execution_count": 47,
     "metadata": {},
     "output_type": "execute_result"
    }
   ],
   "source": [
    "myst[1]"
   ]
  },
  {
   "cell_type": "markdown",
   "id": "58b4dd77",
   "metadata": {},
   "source": [
    "### String Slicing"
   ]
  },
  {
   "cell_type": "code",
   "execution_count": 56,
   "id": "aa34b341",
   "metadata": {},
   "outputs": [
    {
     "data": {
      "text/plain": [
       "'I Like'"
      ]
     },
     "execution_count": 56,
     "metadata": {},
     "output_type": "execute_result"
    }
   ],
   "source": [
    "# String slicing - Fetch all characters from 0 to 6 index location\n",
    "\n",
    "myst[0:6]"
   ]
  },
  {
   "cell_type": "code",
   "execution_count": 57,
   "id": "f752c247",
   "metadata": {},
   "outputs": [
    {
     "data": {
      "text/plain": [
       "'You'"
      ]
     },
     "execution_count": 57,
     "metadata": {},
     "output_type": "execute_result"
    }
   ],
   "source": [
    "# String slicing - Retreive all characters between 7 - 10 index\n",
    "\n",
    "myst[7:10]"
   ]
  },
  {
   "cell_type": "code",
   "execution_count": 62,
   "id": "89beb0ad",
   "metadata": {},
   "outputs": [
    {
     "data": {
      "text/plain": [
       "'You'"
      ]
     },
     "execution_count": 62,
     "metadata": {},
     "output_type": "execute_result"
    }
   ],
   "source": [
    "# Retreive last three characters of the string\n",
    "\n",
    "myst[-3:]"
   ]
  },
  {
   "cell_type": "code",
   "execution_count": 63,
   "id": "3bd85316",
   "metadata": {},
   "outputs": [
    {
     "data": {
      "text/plain": [
       "'ke You'"
      ]
     },
     "execution_count": 63,
     "metadata": {},
     "output_type": "execute_result"
    }
   ],
   "source": [
    "# Retreive last six characters of the string\n",
    "\n",
    "myst[-6:]"
   ]
  },
  {
   "cell_type": "code",
   "execution_count": 64,
   "id": "6c6bc74d",
   "metadata": {},
   "outputs": [
    {
     "data": {
      "text/plain": [
       "'I Li'"
      ]
     },
     "execution_count": 64,
     "metadata": {},
     "output_type": "execute_result"
    }
   ],
   "source": [
    "# Retreive first four characters of the string\n",
    "\n",
    "myst[:4]"
   ]
  },
  {
   "cell_type": "code",
   "execution_count": 65,
   "id": "935690b9",
   "metadata": {},
   "outputs": [
    {
     "data": {
      "text/plain": [
       "'I Like'"
      ]
     },
     "execution_count": 65,
     "metadata": {},
     "output_type": "execute_result"
    }
   ],
   "source": [
    "# Retreive first six characters of the string\n",
    "\n",
    "myst[:6]"
   ]
  },
  {
   "cell_type": "code",
   "execution_count": 83,
   "id": "1c30f383",
   "metadata": {},
   "outputs": [
    {
     "data": {
      "text/plain": [
       "2"
      ]
     },
     "execution_count": 83,
     "metadata": {},
     "output_type": "execute_result"
    }
   ],
   "source": [
    "myst.find(\"Like\")"
   ]
  },
  {
   "cell_type": "markdown",
   "id": "6d12bff3",
   "metadata": {},
   "source": [
    "### String Concatenation"
   ]
  },
  {
   "cell_type": "code",
   "execution_count": 87,
   "id": "65f10c1a",
   "metadata": {},
   "outputs": [
    {
     "data": {
      "text/plain": [
       "'HelloSagar'"
      ]
     },
     "execution_count": 87,
     "metadata": {},
     "output_type": "execute_result"
    }
   ],
   "source": [
    "s1 = \"Hello\"\n",
    "\n",
    "s2 = \"Sagar\"\n",
    "\n",
    "s3 = s1 + s2\n",
    "\n",
    "s3"
   ]
  },
  {
   "cell_type": "code",
   "execution_count": 88,
   "id": "93f864d6",
   "metadata": {},
   "outputs": [
    {
     "name": "stdout",
     "output_type": "stream",
     "text": [
      "Hello Sagar\n"
     ]
    }
   ],
   "source": [
    "s1 = \"Hello\"\n",
    "\n",
    "s2 = \"Sagar\"\n",
    "\n",
    "s3 = s1 +\" \"+ s2\n",
    "\n",
    "print(s3)"
   ]
  },
  {
   "cell_type": "markdown",
   "id": "7be16423",
   "metadata": {},
   "source": [
    "### String Functions "
   ]
  },
  {
   "cell_type": "code",
   "execution_count": 91,
   "id": "621e356d",
   "metadata": {},
   "outputs": [
    {
     "data": {
      "text/plain": [
       "'    Hello Everyone    '"
      ]
     },
     "execution_count": 91,
     "metadata": {},
     "output_type": "execute_result"
    }
   ],
   "source": [
    "mystr = \"    Hello Everyone    \"\n",
    "\n",
    "mystr"
   ]
  },
  {
   "cell_type": "code",
   "execution_count": 92,
   "id": "8de94960",
   "metadata": {},
   "outputs": [
    {
     "data": {
      "text/plain": [
       "'Hello Everyone'"
      ]
     },
     "execution_count": 92,
     "metadata": {},
     "output_type": "execute_result"
    }
   ],
   "source": [
    "# Removes white space from begining & end\n",
    "\n",
    "mystr.strip()"
   ]
  },
  {
   "cell_type": "code",
   "execution_count": 93,
   "id": "1f89b5ef",
   "metadata": {},
   "outputs": [
    {
     "data": {
      "text/plain": [
       "'    Hello Everyone'"
      ]
     },
     "execution_count": 93,
     "metadata": {},
     "output_type": "execute_result"
    }
   ],
   "source": [
    "# Removes all whitespaces at the end of the string\n",
    "\n",
    "mystr.rstrip()"
   ]
  },
  {
   "cell_type": "code",
   "execution_count": 94,
   "id": "255c59e3",
   "metadata": {},
   "outputs": [
    {
     "data": {
      "text/plain": [
       "'Hello Everyone    '"
      ]
     },
     "execution_count": 94,
     "metadata": {},
     "output_type": "execute_result"
    }
   ],
   "source": [
    "# Removes all whitespaces at the begining of the string\n",
    "\n",
    "mystr.lstrip()"
   ]
  },
  {
   "cell_type": "code",
   "execution_count": 95,
   "id": "ebebbd09",
   "metadata": {},
   "outputs": [
    {
     "data": {
      "text/plain": [
       "'*****Hello Everyone*****All The Best*****'"
      ]
     },
     "execution_count": 95,
     "metadata": {},
     "output_type": "execute_result"
    }
   ],
   "source": [
    "mystr1 = \"*****Hello Everyone*****All The Best*****\"\n",
    "mystr1"
   ]
  },
  {
   "cell_type": "code",
   "execution_count": 97,
   "id": "1e59cbce",
   "metadata": {},
   "outputs": [
    {
     "data": {
      "text/plain": [
       "'Hello Everyone*****All The Best'"
      ]
     },
     "execution_count": 97,
     "metadata": {},
     "output_type": "execute_result"
    }
   ],
   "source": [
    "## Removes all '*' characters from begining & end of the string\n",
    "\n",
    "mystr1.strip('*')"
   ]
  },
  {
   "cell_type": "code",
   "execution_count": 98,
   "id": "1cf024bd",
   "metadata": {},
   "outputs": [
    {
     "data": {
      "text/plain": [
       "'*****Hello Everyone*****All The Best'"
      ]
     },
     "execution_count": 98,
     "metadata": {},
     "output_type": "execute_result"
    }
   ],
   "source": [
    "# Removes all '*' characters at the end of the string\n",
    "\n",
    "mystr1.rstrip('*')"
   ]
  },
  {
   "cell_type": "code",
   "execution_count": 99,
   "id": "d5403647",
   "metadata": {},
   "outputs": [
    {
     "data": {
      "text/plain": [
       "'Hello Everyone*****All The Best*****'"
      ]
     },
     "execution_count": 99,
     "metadata": {},
     "output_type": "execute_result"
    }
   ],
   "source": [
    "# Removes all '*' characters at the begining of the string\n",
    "\n",
    "mystr1.lstrip('*')"
   ]
  },
  {
   "cell_type": "code",
   "execution_count": 100,
   "id": "dc7cc990",
   "metadata": {},
   "outputs": [
    {
     "data": {
      "text/plain": [
       "'I Like You'"
      ]
     },
     "execution_count": 100,
     "metadata": {},
     "output_type": "execute_result"
    }
   ],
   "source": [
    "mystr2 = \"I Like You\"\n",
    "mystr2"
   ]
  },
  {
   "cell_type": "code",
   "execution_count": 105,
   "id": "46f7b37d",
   "metadata": {},
   "outputs": [
    {
     "data": {
      "text/plain": [
       "'i like you'"
      ]
     },
     "execution_count": 105,
     "metadata": {},
     "output_type": "execute_result"
    }
   ],
   "source": [
    "# Return whole string in lowercase\n",
    "\n",
    "mystr2.lower()"
   ]
  },
  {
   "cell_type": "code",
   "execution_count": 106,
   "id": "e1e6f915",
   "metadata": {},
   "outputs": [
    {
     "data": {
      "text/plain": [
       "'I LIKE YOU'"
      ]
     },
     "execution_count": 106,
     "metadata": {},
     "output_type": "execute_result"
    }
   ],
   "source": [
    "# Return whole string in uppercase\n",
    "\n",
    "mystr2.upper()"
   ]
  },
  {
   "cell_type": "code",
   "execution_count": 108,
   "id": "fd00383b",
   "metadata": {},
   "outputs": [
    {
     "data": {
      "text/plain": [
       "'I Love You'"
      ]
     },
     "execution_count": 108,
     "metadata": {},
     "output_type": "execute_result"
    }
   ],
   "source": [
    "#Replace substring \"Like\" with \"Love\"\n",
    "\n",
    "mystr2.replace('Like','Love')"
   ]
  },
  {
   "cell_type": "code",
   "execution_count": 109,
   "id": "e5627b2e",
   "metadata": {},
   "outputs": [
    {
     "data": {
      "text/plain": [
       "'ILikeYou'"
      ]
     },
     "execution_count": 109,
     "metadata": {},
     "output_type": "execute_result"
    }
   ],
   "source": [
    "# Remove all whitespaces using replace function\n",
    "\n",
    "mystr2.replace(\" \", \"\")"
   ]
  },
  {
   "cell_type": "code",
   "execution_count": 110,
   "id": "b5aeea41",
   "metadata": {},
   "outputs": [
    {
     "data": {
      "text/plain": [
       "'one two three one two two one four one'"
      ]
     },
     "execution_count": 110,
     "metadata": {},
     "output_type": "execute_result"
    }
   ],
   "source": [
    "mystr3 = \"one two three one two two one four one\"\n",
    "mystr3"
   ]
  },
  {
   "cell_type": "code",
   "execution_count": 112,
   "id": "af19a280",
   "metadata": {},
   "outputs": [
    {
     "data": {
      "text/plain": [
       "4"
      ]
     },
     "execution_count": 112,
     "metadata": {},
     "output_type": "execute_result"
    }
   ],
   "source": [
    "# Number of times substring \"one\" occurred in string.\n",
    "\n",
    "mystr3.count('one')"
   ]
  },
  {
   "cell_type": "code",
   "execution_count": 113,
   "id": "75222eaf",
   "metadata": {},
   "outputs": [
    {
     "data": {
      "text/plain": [
       "3"
      ]
     },
     "execution_count": 113,
     "metadata": {},
     "output_type": "execute_result"
    }
   ],
   "source": [
    "# Number of times substring \"two\" occurred in string.\n",
    "\n",
    "mystr3.count(\"two\")"
   ]
  },
  {
   "cell_type": "code",
   "execution_count": 114,
   "id": "06320337",
   "metadata": {},
   "outputs": [
    {
     "data": {
      "text/plain": [
       "True"
      ]
     },
     "execution_count": 114,
     "metadata": {},
     "output_type": "execute_result"
    }
   ],
   "source": [
    "# Return boolean value True if string starts with\n",
    "\n",
    "mystr3.startswith('one')"
   ]
  },
  {
   "cell_type": "code",
   "execution_count": 115,
   "id": "c809bf3a",
   "metadata": {},
   "outputs": [
    {
     "data": {
      "text/plain": [
       "False"
      ]
     },
     "execution_count": 115,
     "metadata": {},
     "output_type": "execute_result"
    }
   ],
   "source": [
    "# Return boolean value True if string ends with\n",
    "\n",
    "mystr3.endswith('four')"
   ]
  },
  {
   "cell_type": "code",
   "execution_count": 118,
   "id": "8fd195f0",
   "metadata": {},
   "outputs": [
    {
     "data": {
      "text/plain": [
       "['one', 'two', 'three', 'one', 'two', 'two', 'one', 'four', 'one']"
      ]
     },
     "execution_count": 118,
     "metadata": {},
     "output_type": "execute_result"
    }
   ],
   "source": [
    "# Split String into substrings\n",
    "\n",
    "mylist = mystr3.split()\n",
    "mylist"
   ]
  },
  {
   "cell_type": "code",
   "execution_count": 103,
   "id": "9acbe468",
   "metadata": {},
   "outputs": [
    {
     "data": {
      "text/plain": [
       "False"
      ]
     },
     "execution_count": 103,
     "metadata": {},
     "output_type": "execute_result"
    }
   ],
   "source": [
    "#checking wether it is int or not\n",
    "\n",
    "mystr2.isdigit()"
   ]
  },
  {
   "cell_type": "code",
   "execution_count": 104,
   "id": "9bc3a137",
   "metadata": {},
   "outputs": [
    {
     "data": {
      "text/plain": [
       "'Sagar Suresh Salvi'"
      ]
     },
     "execution_count": 104,
     "metadata": {},
     "output_type": "execute_result"
    }
   ],
   "source": [
    "complete_name=['Sagar','Suresh','Salvi']\n",
    "' '.join(complete_name)"
   ]
  },
  {
   "cell_type": "markdown",
   "id": "d5f80f1e",
   "metadata": {},
   "source": [
    "### Python - Format - Strings"
   ]
  },
  {
   "cell_type": "markdown",
   "id": "4aaa2cfd",
   "metadata": {},
   "source": [
    "#### String Format\n",
    "\n",
    "As we learned in the Python Variables chapter, we cannot combine strings and numbers.\n",
    "\n",
    "But we can combine strings and numbers by using the ***format()*** method!\n",
    "\n",
    "The ***format()*** method takes the passed arguments, formats them, and places them in the string where the placeholders **{}** are:"
   ]
  },
  {
   "cell_type": "markdown",
   "id": "35f814c2",
   "metadata": {},
   "source": [
    "#### Example\n",
    "\n",
    "Use the **format()** method to insert numbers into strings:"
   ]
  },
  {
   "cell_type": "code",
   "execution_count": 1,
   "id": "548d5b7a",
   "metadata": {},
   "outputs": [
    {
     "name": "stdout",
     "output_type": "stream",
     "text": [
      "My name is John, and I am 36\n"
     ]
    }
   ],
   "source": [
    "age = 36\n",
    "txt = \"My name is John, and I am {}\"\n",
    "print(txt.format(age))"
   ]
  },
  {
   "cell_type": "markdown",
   "id": "da870bf9",
   "metadata": {},
   "source": [
    "The format() method takes unlimited number of arguments, and are placed into the respective placeholders:\n",
    "\n",
    "**Example**"
   ]
  },
  {
   "cell_type": "code",
   "execution_count": 2,
   "id": "1b1b9128",
   "metadata": {},
   "outputs": [
    {
     "name": "stdout",
     "output_type": "stream",
     "text": [
      "I want 3 pieces of item 567 for 49.95 dollars.\n"
     ]
    }
   ],
   "source": [
    "quantity = 3\n",
    "itemno = 567\n",
    "price = 49.95\n",
    "myorder = \"I want {} pieces of item {} for {} dollars.\"\n",
    "print(myorder.format(quantity, itemno, price))"
   ]
  },
  {
   "cell_type": "markdown",
   "id": "a7b63e1f",
   "metadata": {},
   "source": [
    "You can use index numbers {0} to be sure the arguments are placed in the correct placeholders:\n",
    "\n",
    "**Example**"
   ]
  },
  {
   "cell_type": "code",
   "execution_count": 3,
   "id": "f0bd38b5",
   "metadata": {},
   "outputs": [
    {
     "name": "stdout",
     "output_type": "stream",
     "text": [
      "I want to pay 49.95 dollars for 3 pieces of item 567.\n"
     ]
    }
   ],
   "source": [
    "quantity = 3\n",
    "itemno = 567\n",
    "price = 49.95\n",
    "myorder = \"I want to pay {2} dollars for {0} pieces of item {1}.\"\n",
    "print(myorder.format(quantity, itemno, price))"
   ]
  },
  {
   "cell_type": "code",
   "execution_count": 4,
   "id": "e9a7ff4b",
   "metadata": {},
   "outputs": [
    {
     "name": "stdout",
     "output_type": "stream",
     "text": [
      "I Own 50 shares of Apple Company\n"
     ]
    }
   ],
   "source": [
    "company_name= \"Apple\"\n",
    "shares=50\n",
    "print(\"I Own {} shares of {} Company\".format(shares,company_name))"
   ]
  },
  {
   "cell_type": "raw",
   "id": "8f629839",
   "metadata": {},
   "source": []
  },
  {
   "cell_type": "markdown",
   "id": "0e3ee42f",
   "metadata": {},
   "source": [
    "### String Methods\n",
    "\n",
    "Python has a set of built-in methods that you can use on strings."
   ]
  },
  {
   "cell_type": "markdown",
   "id": "fc495f3b",
   "metadata": {},
   "source": [
    "|Method        |Description|\n",
    "|:-------------|:----------|\n",
    "|capitalize()|\tConverts the first character to upper case|\n",
    "|casefold()|\tConverts string into lower case|\n",
    "|center()|\tReturns a centered string|\n",
    "|count()|\tReturns the number of times a specified value occurs in a string|\n",
    "|encode()|\tReturns an encoded version of the string|\n",
    "|endswith()\t|Returns true if the string ends with the specified value|\n",
    "|expandtabs()|\tSets the tab size of the string|\n",
    "|find()\t|Searches the string for a specified value and returns the position of where it was found\n",
    "|format()|\tFormats specified values in a string|\n",
    "|format_map()|\tFormats specified values in a string|\n",
    "|index()|\tSearches the string for a specified value and returns the position of where it was found|\n",
    "|isalnum()|\tReturns True if all characters in the string are alphanumeric|\n",
    "|isalpha()|\tReturns True if all characters in the string are in the alphabet|\n",
    "|isdecimal()|\tReturns True if all characters in the string are decimals|\n",
    "|isdigit()|\tReturns True if all characters in the string are digits|\n",
    "|isidentifier()|\tReturns True if the string is an identifier|\n",
    "|islower()|\tReturns True if all characters in the string are lower case|\n",
    "|isnumeric()|\tReturns True if all characters in the string are numeric|\n",
    "|isprintable()|\tReturns True if all characters in the string are printable|\n",
    "|isspace()|\tReturns True if all characters in the string are whitespaces|\n",
    "|istitle()|\tReturns True if the string follows the rules of a title|\n",
    "|isupper()|\tReturns True if all characters in the string are upper case|\n",
    "|join()|\tJoins the elements of an iterable to the end of the string|\n",
    "|ljust()|\tReturns a left justified version of the string|\n",
    "|lower()|\tConverts a string into lower case|\n",
    "|lstrip()|\tReturns a left trim version of the string|\n",
    "|maketrans()|\tReturns a translation table to be used in translations|\n",
    "|partition()|\tReturns a tuple where the string is parted into three parts|\n",
    "|replace()|\tReturns a string where a specified value is replaced with a specified value|\n",
    "|rfind()|\tSearches the string for a specified value and returns the last position of where it was found|\n",
    "|rindex()|\tSearches the string for a specified value and returns the last position of where it was found|\n",
    "|rjust()|\tReturns a right justified version of the string|\n",
    "|rpartition()|\tReturns a tuple where the string is parted into three parts|\n",
    "|rsplit()|\tSplits the string at the specified separator, and returns a list|\n",
    "|rstrip()|\tReturns a right trim version of the string|\n",
    "|split()|\tSplits the string at the specified separator, and returns a list|\n",
    "|splitlines()|\tSplits the string at line breaks and returns a list|\n",
    "|startswith()|\tReturns true if the string starts with the specified value|\n",
    "|strip()|\tReturns a trimmed version of the string|\n",
    "|swapcase()|\tSwaps cases, lower case becomes upper case and vice versa|\n",
    "|title()|\tConverts the first character of each word to upper case|\n",
    "|translate()|\tReturns a translated string|\n",
    "|upper()|\tConverts a string into upper case|\n",
    "|zfill()|\tFills the string with a specified number of 0 values at the beginning|"
   ]
  },
  {
   "cell_type": "raw",
   "id": "032ac56c",
   "metadata": {},
   "source": []
  },
  {
   "cell_type": "markdown",
   "id": "875c8de1",
   "metadata": {},
   "source": [
    "# Random Number\n",
    "\n",
    "Python does not have a random() function to make a random number, but Python has a built-in module called random that can be used to make random numbers:\n",
    "\n",
    "***Example***\n",
    "\n",
    "\n",
    "Import the random module, and display a random number between 1 and 9:"
   ]
  },
  {
   "cell_type": "code",
   "execution_count": 40,
   "id": "e7f6ff2b",
   "metadata": {},
   "outputs": [
    {
     "name": "stdout",
     "output_type": "stream",
     "text": [
      "7\n"
     ]
    }
   ],
   "source": [
    "import random\n",
    "\n",
    "print(random.randrange(1, 10))"
   ]
  },
  {
   "cell_type": "raw",
   "id": "66a7d597",
   "metadata": {},
   "source": []
  },
  {
   "cell_type": "markdown",
   "id": "342628cb",
   "metadata": {},
   "source": [
    "# Python Input, Output and Import"
   ]
  },
  {
   "cell_type": "markdown",
   "id": "115d78f4",
   "metadata": {},
   "source": [
    "## Python Output Using print() function\n",
    "\n",
    "We use the print() function to output data to the standard output device (screen). We can also output data to a file, but this will be discussed later.\n",
    "\n",
    "An example of its use is given below."
   ]
  },
  {
   "cell_type": "code",
   "execution_count": 5,
   "id": "7425f49f",
   "metadata": {},
   "outputs": [
    {
     "name": "stdout",
     "output_type": "stream",
     "text": [
      "This sentence is output to the screen\n"
     ]
    }
   ],
   "source": [
    "print('This sentence is output to the screen')"
   ]
  },
  {
   "cell_type": "markdown",
   "id": "e192d768",
   "metadata": {},
   "source": [
    "Another example is given below:"
   ]
  },
  {
   "cell_type": "code",
   "execution_count": null,
   "id": "8091e725",
   "metadata": {},
   "outputs": [],
   "source": [
    "a = 5\n",
    "print('The value of a is', a)"
   ]
  },
  {
   "cell_type": "markdown",
   "id": "e2d32205",
   "metadata": {},
   "source": [
    "Output Formatting:"
   ]
  },
  {
   "cell_type": "code",
   "execution_count": 9,
   "id": "55a15eb1",
   "metadata": {},
   "outputs": [
    {
     "name": "stdout",
     "output_type": "stream",
     "text": [
      "The value of x is 5 and y is 10\n"
     ]
    }
   ],
   "source": [
    "x = 5\n",
    "y = 10\n",
    "print('The value of x is {} and y is {}'.format(x,y))"
   ]
  },
  {
   "cell_type": "markdown",
   "id": "d62c3941",
   "metadata": {},
   "source": [
    "## Python Input"
   ]
  },
  {
   "cell_type": "markdown",
   "id": "eabdfe7c",
   "metadata": {},
   "source": [
    "Up until now, our programs were static. The value of variables was defined or hard coded into the source code.\n",
    "\n",
    "To allow flexibility, we might want to take the input from the user. In Python, we have the **input()** function to allow this. The syntax for **input()** is:\n",
    "\n",
    "***input([prompt])***\n",
    "\n",
    "\n",
    "where prompt is the string we wish to display on the screen. It is optional.\n",
    "\n",
    "**Example 1**"
   ]
  },
  {
   "cell_type": "code",
   "execution_count": 10,
   "id": "706d36b9",
   "metadata": {},
   "outputs": [
    {
     "name": "stdout",
     "output_type": "stream",
     "text": [
      "Enter a number: 10\n"
     ]
    },
    {
     "data": {
      "text/plain": [
       "'10'"
      ]
     },
     "execution_count": 10,
     "metadata": {},
     "output_type": "execute_result"
    }
   ],
   "source": [
    "num = input('Enter a number: ')\n",
    "num"
   ]
  },
  {
   "cell_type": "markdown",
   "id": "04c5d5a1",
   "metadata": {},
   "source": [
    "**Example 2**"
   ]
  },
  {
   "cell_type": "code",
   "execution_count": 2,
   "id": "66cc1d55",
   "metadata": {},
   "outputs": [
    {
     "name": "stdout",
     "output_type": "stream",
     "text": [
      "Welcome to the bank, What is your nameSagar\n",
      "Hello Sagar\n"
     ]
    }
   ],
   "source": [
    "name=input(\"Welcome to the bank, What is your name\")\n",
    "print(\"Hello\",name)"
   ]
  },
  {
   "cell_type": "markdown",
   "id": "ecf2fbad",
   "metadata": {},
   "source": [
    "**Example 3**"
   ]
  },
  {
   "cell_type": "code",
   "execution_count": 4,
   "id": "b89bb918",
   "metadata": {},
   "outputs": [
    {
     "name": "stdout",
     "output_type": "stream",
     "text": [
      "Welcome to the Bank, Enter Your Name:-Sagar\n",
      "Enter Your Age:-26\n",
      "My Name Is Sagar and My Age is 26\n"
     ]
    }
   ],
   "source": [
    "Name=input(\"Welcome to the Bank, Enter Your Name:-\")\n",
    "Age=input(\"Enter Your Age:-\")\n",
    "print(\"My Name Is {} and My Age is {}\".format(Name,Age))"
   ]
  },
  {
   "cell_type": "markdown",
   "id": "bd094b40",
   "metadata": {},
   "source": [
    "**Example 4**"
   ]
  },
  {
   "cell_type": "code",
   "execution_count": 5,
   "id": "403f5c73",
   "metadata": {},
   "outputs": [
    {
     "name": "stdout",
     "output_type": "stream",
     "text": [
      "Enter The price of Apple Mobile:- 75000\n",
      "Enter The Number Of Stocks:- 8\n",
      "The total stocks requried to buy 8 shares of Apple stock at 75000 doller is 600000\n"
     ]
    }
   ],
   "source": [
    "Price=int(input(\"Enter The price of Apple Mobile:- \"))\n",
    "Stock=int(input(\"Enter The Number Of Stocks:- \"))\n",
    "print(\"The total stocks requried to buy {} shares of Apple stock at {} doller is {}\".format(Stock,Price,Stock*Price))"
   ]
  },
  {
   "cell_type": "raw",
   "id": "54c73660",
   "metadata": {},
   "source": []
  },
  {
   "cell_type": "markdown",
   "id": "ce79b1a8",
   "metadata": {},
   "source": [
    "## Python Import"
   ]
  },
  {
   "cell_type": "markdown",
   "id": "4a5bbed6",
   "metadata": {},
   "source": [
    "When our program grows bigger, it is a good idea to break it into different modules.\n",
    "\n",
    "A module is a file containing Python definitions and statements. Python modules have a filename and end with the extension **.py**.\n",
    "\n",
    "Definitions inside a module can be imported to another module or the interactive interpreter in Python. We use the **import** keyword to do this."
   ]
  },
  {
   "cell_type": "markdown",
   "id": "0f01947f",
   "metadata": {},
   "source": [
    "For example, we can **import** the math module by typing the following line:\n",
    "\n",
    "- We can use the module in the following ways:\n",
    "\n"
   ]
  },
  {
   "cell_type": "code",
   "execution_count": 6,
   "id": "2d9e753f",
   "metadata": {},
   "outputs": [
    {
     "name": "stdout",
     "output_type": "stream",
     "text": [
      "3.141592653589793\n"
     ]
    }
   ],
   "source": [
    "import math\n",
    "print(math.pi)"
   ]
  },
  {
   "cell_type": "markdown",
   "id": "f08ae2cf",
   "metadata": {},
   "source": [
    "Now all the definitions inside **math** module are available in our scope. We can also import some specific attributes and functions only, using the **from** keyword. For example:"
   ]
  },
  {
   "cell_type": "code",
   "execution_count": 7,
   "id": "0e4fdbf1",
   "metadata": {},
   "outputs": [
    {
     "data": {
      "text/plain": [
       "3.141592653589793"
      ]
     },
     "execution_count": 7,
     "metadata": {},
     "output_type": "execute_result"
    }
   ],
   "source": [
    "from math import pi\n",
    "pi"
   ]
  },
  {
   "cell_type": "raw",
   "id": "1c9a33be",
   "metadata": {},
   "source": []
  },
  {
   "cell_type": "markdown",
   "id": "0a2c966f",
   "metadata": {},
   "source": [
    "# Python Operators"
   ]
  },
  {
   "cell_type": "markdown",
   "id": "5314f4b7",
   "metadata": {},
   "source": [
    "*Operators are used to perform operations on variables and values.*\n",
    "\n",
    "*Operators are special symbols in Python that carry out arithmetic or logical computation. The value that the operator operates on is called the operand.*\n",
    "\n",
    "**For Example:**"
   ]
  },
  {
   "cell_type": "code",
   "execution_count": 9,
   "id": "730c5d25",
   "metadata": {},
   "outputs": [
    {
     "name": "stdout",
     "output_type": "stream",
     "text": [
      "5\n"
     ]
    }
   ],
   "source": [
    "print(2+3)"
   ]
  },
  {
   "cell_type": "markdown",
   "id": "ac10740d",
   "metadata": {},
   "source": [
    "Here, **+** is the operator that performs addition. **2** and **3** are the operands and **5** is the output of the operation."
   ]
  },
  {
   "cell_type": "markdown",
   "id": "3fd532a8",
   "metadata": {},
   "source": [
    "Python divides the operators in the following groups:\n",
    "\n",
    "- Arithmetic operators\n",
    "- Assignment operators\n",
    "- Comparison operators\n",
    "- Logical operators\n",
    "- Identity operators\n",
    "- Membership operators\n",
    "- Bitwise operators"
   ]
  },
  {
   "cell_type": "raw",
   "id": "f285dac5",
   "metadata": {},
   "source": []
  },
  {
   "cell_type": "markdown",
   "id": "f81616ea",
   "metadata": {},
   "source": [
    "# Arithmetic operators\n",
    "\n",
    "\n",
    "Arithmetic operators are used to perform mathematical operations like addition, subtraction, multiplication, etc."
   ]
  },
  {
   "cell_type": "markdown",
   "id": "36c8feab",
   "metadata": {},
   "source": [
    "|Operator|Name|Example|\t\n",
    "|:-------|:---|:------|\n",
    "|+\t|Addition\t|x + y|\t\n",
    "|-\t|Subtraction|x - y|\t\n",
    "|*\t|Multiplication|\tx * y|\t\n",
    "|/\t|Division|\tx / y|\n",
    "|%\t|Modulus|\tx % y|\t\n",
    "|**\t|Exponentiation|\tx ** y|\t\n",
    "|//\t|Floor division|\tx // y|"
   ]
  },
  {
   "cell_type": "markdown",
   "id": "ab8a07db",
   "metadata": {},
   "source": [
    "Example 1: Arithmetic operators in Python"
   ]
  },
  {
   "cell_type": "code",
   "execution_count": 11,
   "id": "5dc40323",
   "metadata": {},
   "outputs": [
    {
     "name": "stdout",
     "output_type": "stream",
     "text": [
      "x + y = 19\n",
      "x - y = 11\n",
      "x * y = 60\n",
      "x / y = 3.75\n",
      "x // y = 3\n",
      "x ** y = 50625\n"
     ]
    }
   ],
   "source": [
    "x = 15\n",
    "y = 4\n",
    "\n",
    "print('x + y =',x+y)\n",
    "\n",
    "print('x - y =',x-y)\n",
    "\n",
    "print('x * y =',x*y)\n",
    "\n",
    "print('x / y =',x/y)\n",
    "\n",
    "print('x // y =',x//y)\n",
    "\n",
    "print('x ** y =',x**y)"
   ]
  },
  {
   "cell_type": "raw",
   "id": "56bb4687",
   "metadata": {},
   "source": []
  },
  {
   "cell_type": "markdown",
   "id": "855b4367",
   "metadata": {},
   "source": [
    "# Comparison operators\n",
    "\n",
    "Comparison operators are used to compare values. It returns either True or False according to the condition."
   ]
  },
  {
   "cell_type": "markdown",
   "id": "66ae4403",
   "metadata": {},
   "source": [
    "|Operator|Name|Example|\t\n",
    "|:-------|:--:|------:|\n",
    "|==\t|Equal|\tx == y|\t\n",
    "|!=\t|Not equal|\tx != y|\n",
    "|>\t    |Greater than|\tx > y|\t\n",
    "|<\t    |Less than|\tx < y|\n",
    "|>=\t|Greater than or equal to|\tx >= y|\t\n",
    "|<=\t|Less than or equal to|\tx <= y|"
   ]
  },
  {
   "cell_type": "code",
   "execution_count": 12,
   "id": "d6a765c6",
   "metadata": {},
   "outputs": [
    {
     "name": "stdout",
     "output_type": "stream",
     "text": [
      "x > y is False\n",
      "x < y is True\n",
      "x == y is False\n",
      "x != y is True\n",
      "x >= y is False\n",
      "x <= y is True\n"
     ]
    }
   ],
   "source": [
    "x = 10\n",
    "y = 12\n",
    "\n",
    "# Output: x > y is False\n",
    "print('x > y is',x>y)\n",
    "\n",
    "# Output: x < y is True\n",
    "print('x < y is',x<y)\n",
    "\n",
    "# Output: x == y is False\n",
    "print('x == y is',x==y)\n",
    "\n",
    "# Output: x != y is True\n",
    "print('x != y is',x!=y)\n",
    "\n",
    "# Output: x >= y is False\n",
    "print('x >= y is',x>=y)\n",
    "\n",
    "# Output: x <= y is True\n",
    "print('x <= y is',x<=y)"
   ]
  },
  {
   "cell_type": "raw",
   "id": "f1e669b4",
   "metadata": {},
   "source": []
  },
  {
   "cell_type": "markdown",
   "id": "e0d5e8d2",
   "metadata": {},
   "source": [
    "# Logical operators\n",
    "\n",
    "Logical operators are used to combine conditional statements:"
   ]
  },
  {
   "cell_type": "markdown",
   "id": "5e3a71b6",
   "metadata": {},
   "source": [
    "|Operator\t|Description\t          |Example    |\n",
    "|:----------|:------------------------|:---------:|\n",
    "|and \t|Returns True if both statements are true|\tx < 5 and  x < 10\n",
    "|or\t|Returns True if one of the statements is true|\tx < 5 or x < 4|\t\n",
    "|not\t|Reverse the result, returns False if the result is true\tnot|(x < 5 and x < 10)|"
   ]
  },
  {
   "cell_type": "code",
   "execution_count": 13,
   "id": "c1ed23a7",
   "metadata": {},
   "outputs": [
    {
     "name": "stdout",
     "output_type": "stream",
     "text": [
      "x and y is False\n",
      "x or y is True\n",
      "not x is False\n"
     ]
    }
   ],
   "source": [
    "x = True\n",
    "y = False\n",
    "\n",
    "print('x and y is',x and y)\n",
    "\n",
    "print('x or y is',x or y)\n",
    "\n",
    "print('not x is',not x)"
   ]
  },
  {
   "cell_type": "raw",
   "id": "b54feb52",
   "metadata": {},
   "source": []
  },
  {
   "cell_type": "markdown",
   "id": "a9faf62c",
   "metadata": {},
   "source": [
    "# Identity Operators\n",
    "\n",
    "Identity operators are used to compare the objects, not if they are equal, but if they are actually the same object, with the same memory location:"
   ]
  },
  {
   "cell_type": "markdown",
   "id": "5829231f",
   "metadata": {},
   "source": [
    "|Operator\t|Description\t|Example|\n",
    "|:----------|:--------------|:-----:|\n",
    "|is \t|Returns True if both variables are the same object|\tx is y|\t\n",
    "|is not\t|Returns True if both variables are not the same object|\tx is not y|"
   ]
  },
  {
   "cell_type": "code",
   "execution_count": 14,
   "id": "d72e37b9",
   "metadata": {},
   "outputs": [
    {
     "name": "stdout",
     "output_type": "stream",
     "text": [
      "False\n",
      "True\n",
      "False\n"
     ]
    }
   ],
   "source": [
    "x1 = 5\n",
    "y1 = 5\n",
    "x2 = 'Hello'\n",
    "y2 = 'Hello'\n",
    "x3 = [1,2,3]\n",
    "y3 = [1,2,3]\n",
    "\n",
    "# Output: False\n",
    "print(x1 is not y1)\n",
    "\n",
    "# Output: True\n",
    "print(x2 is y2)\n",
    "\n",
    "# Output: False\n",
    "print(x3 is y3)"
   ]
  },
  {
   "cell_type": "raw",
   "id": "bc4de6d9",
   "metadata": {},
   "source": []
  },
  {
   "cell_type": "markdown",
   "id": "d8371238",
   "metadata": {},
   "source": [
    "# Bitwise Operators\n",
    "\n",
    "Bitwise operators are used to compare (binary) numbers:\n",
    "\n",
    "|Operator\t|Name\t|Description|\n",
    "|:----------|:------|:---------:|\n",
    "|& \t|AND\t|Sets each bit to 1 if both bits are 1|\n",
    "|l| OR\t|Sets each bit to 1 if one of two bits is 1|\n",
    "|^\t|XOR\t|Sets each bit to 1 if only one of two bits is 1|\n",
    "|~ \t|NOT\t|Inverts all the bits|\n",
    "|<<\t|Zero fill left shift|\tShift left by pushing zeros in from the right and let the leftmost bits fall off|\n",
    "|>>\t|Signed right shift|\tShift right by pushing copies of the leftmost bit in from the left, and let the rightmost bits fall off|"
   ]
  },
  {
   "cell_type": "raw",
   "id": "1ad383a8",
   "metadata": {},
   "source": []
  },
  {
   "cell_type": "markdown",
   "id": "1ab7a3bb",
   "metadata": {},
   "source": [
    "# Control Flow in Python\n",
    "\n",
    "### Python if...else Statement\n",
    "\n",
    "#### What is if...else statement in Python?\n",
    "Decision making is required when we want to execute a code only if a certain condition is satisfied.\n",
    "\n",
    "The if…elif…else statement is used in Python for decision making."
   ]
  },
  {
   "cell_type": "markdown",
   "id": "5faa6830",
   "metadata": {},
   "source": [
    "# Python Conditions and If statements\n",
    "Python supports the usual logical conditions from mathematics:\n",
    "\n",
    "- Equals: a == b\n",
    "- Not Equals: a != b\n",
    "- Less than: a < b\n",
    "- Less than or equal to: a <= b\n",
    "- Greater than: a > b\n",
    "- Greater than or equal to: a >= b\n",
    "- These conditions can be used in several ways, most commonly in \"if statements\" and loops."
   ]
  },
  {
   "cell_type": "raw",
   "id": "f0ad0550",
   "metadata": {},
   "source": []
  },
  {
   "attachments": {
    "image.png": {
     "image/png": "[encoded data removed]"
    }
   },
   "cell_type": "markdown",
   "id": "33c328f7",
   "metadata": {},
   "source": [
    "# Python if Statement\n",
    "\n",
    "### Syntax\n",
    "\n",
    "if test expression:\n",
    "\n",
    "    statement(s)\n",
    "    \n",
    "### Python if Statement Flowchart\n",
    "\n",
    "![image.png](attachment:image.png)"
   ]
  },
  {
   "cell_type": "markdown",
   "id": "d31bf761",
   "metadata": {},
   "source": [
    "## Example: Python if Statement"
   ]
  },
  {
   "cell_type": "code",
   "execution_count": 1,
   "id": "464f8b94",
   "metadata": {},
   "outputs": [
    {
     "name": "stdout",
     "output_type": "stream",
     "text": [
      "3 is a positive number.\n",
      "This is always printed.\n",
      "This is also always printed.\n"
     ]
    }
   ],
   "source": [
    "# If the number is positive, we print an appropriate message\n",
    "\n",
    "num = 3\n",
    "if num > 0:\n",
    "    print(num, \"is a positive number.\")\n",
    "print(\"This is always printed.\")\n",
    "\n",
    "num = -1\n",
    "if num > 0:\n",
    "    print(num, \"is a positive number.\")\n",
    "print(\"This is also always printed.\")"
   ]
  },
  {
   "cell_type": "code",
   "execution_count": 2,
   "id": "856c7d4b",
   "metadata": {},
   "outputs": [
    {
     "name": "stdout",
     "output_type": "stream",
     "text": [
      "I am Not in if\n"
     ]
    }
   ],
   "source": [
    "# python program to illustrate If statement\n",
    "\n",
    "i = 10\n",
    "\n",
    "if (i > 15):\n",
    "\tprint(\"10 is less than 15\")\n",
    "print(\"I am Not in if\")"
   ]
  },
  {
   "cell_type": "markdown",
   "id": "7faf3dfb",
   "metadata": {},
   "source": [
    "As the condition present in the if statement is false. So, the block below the if statement is executed."
   ]
  },
  {
   "cell_type": "raw",
   "id": "38bc4aab",
   "metadata": {},
   "source": []
  },
  {
   "attachments": {
    "image-2.png": {
     "image/png": "[encoded data removed]"
    }
   },
   "cell_type": "markdown",
   "id": "1660d172",
   "metadata": {},
   "source": [
    "## Python if...else Statement\n",
    "\n",
    "## Syntax\n",
    "\n",
    "if (condition):\n",
    "\n",
    "    # Executes this block if\n",
    "    # condition is true\n",
    "\n",
    "else:\n",
    "\n",
    "    # Executes this block if\n",
    "    # condition is false\n",
    "    \n",
    "## FlowChart of Python if-else statement\n",
    "![image-2.png](attachment:image-2.png)"
   ]
  },
  {
   "cell_type": "code",
   "execution_count": 5,
   "id": "4344c055",
   "metadata": {},
   "outputs": [
    {
     "name": "stdout",
     "output_type": "stream",
     "text": [
      "Positive or Zero\n"
     ]
    }
   ],
   "source": [
    "# Program checks if the number is positive or negative\n",
    "# And displays an appropriate message\n",
    "\n",
    "num = 3\n",
    "\n",
    "# Try these two variations as well. \n",
    "# num = -5\n",
    "# num = 0\n",
    "\n",
    "if num >= 0:\n",
    "    print(\"Positive or Zero\")\n",
    "else:\n",
    "    print(\"Negative number\")"
   ]
  },
  {
   "cell_type": "raw",
   "id": "5b245de0",
   "metadata": {},
   "source": []
  },
  {
   "cell_type": "markdown",
   "id": "f5fa9bd2",
   "metadata": {},
   "source": [
    "# Python nested-if Statement\n",
    "\n",
    "## Syntax\n",
    "\n",
    "if (condition1):\n",
    "\n",
    "    Executes when condition1 is true\n",
    "    \n",
    "   if (condition2):\n",
    "   \n",
    "       Executes when condition2 is true\n",
    "    if Block is end here\n",
    "if Block is end here\n",
    "\n",
    "### Python Nested if Example"
   ]
  },
  {
   "cell_type": "code",
   "execution_count": 6,
   "id": "cb8d4a85",
   "metadata": {},
   "outputs": [
    {
     "name": "stdout",
     "output_type": "stream",
     "text": [
      "i is smaller than 15\n",
      "i is smaller than 12 too\n"
     ]
    }
   ],
   "source": [
    "# python program to illustrate nested If statement\n",
    "\n",
    "i = 10\n",
    "if (i == 10):\n",
    "    \n",
    "    #  First if statement\n",
    "    if (i < 15):\n",
    "        print(\"i is smaller than 15\")\n",
    "          \n",
    "    # Nested - if statement\n",
    "    # Will only be executed if statement above\n",
    "    # it is true\n",
    "    if (i < 12):\n",
    "        print(\"i is smaller than 12 too\")\n",
    "    else:\n",
    "        print(\"i is greater than 15\")"
   ]
  },
  {
   "cell_type": "raw",
   "id": "fff92f91",
   "metadata": {},
   "source": []
  },
  {
   "cell_type": "markdown",
   "id": "8638f26c",
   "metadata": {},
   "source": [
    "# Python if...elif...else Statement\n",
    "\n",
    "## Syntax \n",
    "\n",
    "if (condition):\n",
    "\n",
    "    statement\n",
    "elif (condition):\n",
    "    \n",
    "    statement\n",
    ".\n",
    "\n",
    ".\n",
    "\n",
    "else:\n",
    "    statement"
   ]
  },
  {
   "cell_type": "code",
   "execution_count": 11,
   "id": "65cfa1bc",
   "metadata": {},
   "outputs": [
    {
     "name": "stdout",
     "output_type": "stream",
     "text": [
      "i is 20\n"
     ]
    }
   ],
   "source": [
    "# Python program to illustrate if-elif-else ladder\n",
    "  \n",
    "i = 20\n",
    "#i = 25\n",
    "if (i == 10):\n",
    "    print(\"i is 10\")\n",
    "elif (i == 15):\n",
    "    print(\"i is 15\")\n",
    "elif (i == 20):\n",
    "    print(\"i is 20\")\n",
    "else:\n",
    "    print(\"i is not present\")"
   ]
  },
  {
   "cell_type": "raw",
   "id": "c5f26c54",
   "metadata": {},
   "source": []
  },
  {
   "cell_type": "markdown",
   "id": "0782a91a",
   "metadata": {},
   "source": [
    "# Short Hand if statement\n",
    "\n",
    "Whenever there is only a single statement to be executed inside the if block then shorthand if can be used. The statement can be put on the same line as the if statement. \n",
    "\n",
    "**Syntax:**\n",
    "\n",
    "if condition: statement\n",
    "\n",
    "\n",
    "**Example:** Python if shorthand"
   ]
  },
  {
   "cell_type": "code",
   "execution_count": 33,
   "id": "55db3829",
   "metadata": {},
   "outputs": [
    {
     "name": "stdout",
     "output_type": "stream",
     "text": [
      "i is less than 15\n"
     ]
    }
   ],
   "source": [
    "# Python program to illustrate short hand if\n",
    "i = 10\n",
    "if i < 15:\n",
    "    print(\"i is less than 15\")"
   ]
  },
  {
   "cell_type": "markdown",
   "id": "86f10754",
   "metadata": {},
   "source": [
    "# Short Hand if-else statement\n",
    "\n",
    "This can be used to write the if-else statements in a single line where there is only one statement to be executed in both if and else block. \n",
    "\n",
    "**Syntax:**\n",
    "\n",
    "statement_when_True if condition else statement_when_False\n",
    "\n",
    "**Example:** Python if else shorthand "
   ]
  },
  {
   "cell_type": "code",
   "execution_count": 34,
   "id": "f7261890",
   "metadata": {},
   "outputs": [
    {
     "name": "stdout",
     "output_type": "stream",
     "text": [
      "True\n"
     ]
    }
   ],
   "source": [
    "# Python program to illustrate short hand if-else\n",
    "i = 10\n",
    "print(True) if i < 15 else print(False)"
   ]
  },
  {
   "cell_type": "raw",
   "id": "3a349111",
   "metadata": {},
   "source": []
  },
  {
   "attachments": {
    "image.png": {
     "image/png": "[encoded data removed]"
    }
   },
   "cell_type": "markdown",
   "id": "6b383711",
   "metadata": {},
   "source": [
    "# Python Loops\n",
    "\n",
    "Python has two primitive loop commands:\n",
    "\n",
    "- while loops\n",
    "- for loops\n",
    "\n",
    "\n",
    "## For Loops\n",
    "\n",
    "A for loop is used for iterating over a sequence (that is either a list, a tuple, a dictionary, a set, or a string).\n",
    "\n",
    "This is less like the for keyword in other programming languages, and works more like an iterator method as found in other object-orientated programming languages.\n",
    "\n",
    "With the for loop we can execute a set of statements, once for each item in a list, tuple, set etc.\n",
    "\n",
    "\n",
    "### Syntax of for Loop\n",
    "\n",
    "for val in sequence:\n",
    "    \n",
    "    loop body\n",
    "    \n",
    "### Flowchart of for Loop\n",
    "![image.png](attachment:image.png)"
   ]
  },
  {
   "cell_type": "raw",
   "id": "31ef403f",
   "metadata": {},
   "source": [
    " "
   ]
  },
  {
   "cell_type": "markdown",
   "id": "7402530d",
   "metadata": {},
   "source": [
    "#### Example: Python for Loop"
   ]
  },
  {
   "cell_type": "code",
   "execution_count": 12,
   "id": "57b1d575",
   "metadata": {},
   "outputs": [
    {
     "name": "stdout",
     "output_type": "stream",
     "text": [
      "The sum is 48\n"
     ]
    }
   ],
   "source": [
    "# Program to find the sum of all numbers stored in a list\n",
    "\n",
    "# List of numbers\n",
    "numbers = [6, 5, 3, 8, 4, 2, 5, 4, 11]\n",
    "\n",
    "# variable to store the sum\n",
    "sum = 0\n",
    "\n",
    "# iterate over the list\n",
    "for val in numbers:\n",
    "    sum = sum+val\n",
    "\n",
    "print(\"The sum is\", sum)\n"
   ]
  },
  {
   "cell_type": "markdown",
   "id": "562df24b",
   "metadata": {},
   "source": [
    "#### Example 2\n",
    "\n",
    "Print each fruit in a fruit list:"
   ]
  },
  {
   "cell_type": "code",
   "execution_count": 14,
   "id": "04b1122a",
   "metadata": {},
   "outputs": [
    {
     "name": "stdout",
     "output_type": "stream",
     "text": [
      "apple\n",
      "banana\n",
      "cherry\n"
     ]
    }
   ],
   "source": [
    "fruits = [\"apple\", \"banana\", \"cherry\"]\n",
    "for x in fruits:\n",
    "  print(x)"
   ]
  },
  {
   "cell_type": "markdown",
   "id": "eaaa56e3",
   "metadata": {},
   "source": [
    "#### Example 3\n",
    "\n",
    "Loop through the letters in the word \"banana\":"
   ]
  },
  {
   "cell_type": "code",
   "execution_count": 20,
   "id": "366cd3ab",
   "metadata": {},
   "outputs": [
    {
     "name": "stdout",
     "output_type": "stream",
     "text": [
      "b\n",
      "a\n",
      "n\n",
      "a\n",
      "n\n",
      "a\n"
     ]
    }
   ],
   "source": [
    "for x in \"banana\":\n",
    "  print(x)"
   ]
  },
  {
   "cell_type": "markdown",
   "id": "8845d84d",
   "metadata": {},
   "source": [
    "#### Example 4"
   ]
  },
  {
   "cell_type": "code",
   "execution_count": 21,
   "id": "3aa5e30e",
   "metadata": {},
   "outputs": [
    {
     "name": "stdout",
     "output_type": "stream",
     "text": [
      "[11, 22, 33, 44, 55]\n",
      "11\n",
      "Hello World\n",
      "22\n",
      "Hello World\n",
      "33\n",
      "Hello World\n",
      "44\n",
      "Hello World\n",
      "55\n",
      "Hello World\n"
     ]
    }
   ],
   "source": [
    "my_list=[11,22,33,44,55]\n",
    "print(my_list)\n",
    "\n",
    "for i in my_list:\n",
    "    print(i)\n",
    "    print(\"Hello World\") #this Is In the loop"
   ]
  },
  {
   "cell_type": "markdown",
   "id": "d5cf8b05",
   "metadata": {},
   "source": [
    "#### Example 5"
   ]
  },
  {
   "cell_type": "code",
   "execution_count": 22,
   "id": "ad213d95",
   "metadata": {},
   "outputs": [
    {
     "name": "stdout",
     "output_type": "stream",
     "text": [
      "Apple\n",
      "Mango\n",
      "Banana\n",
      "Strawberry\n",
      "I Like It\n"
     ]
    }
   ],
   "source": [
    "fruits=[\"Apple\",\"Mango\",\"Banana\",\"Strawberry\"]\n",
    "fruits\n",
    "\n",
    "for i in fruits:\n",
    "    print(i)\n",
    "print(\"I Like It\")# This sentence is Out Of Loop"
   ]
  },
  {
   "cell_type": "markdown",
   "id": "4f574fd5",
   "metadata": {},
   "source": [
    "#### Example 6"
   ]
  },
  {
   "cell_type": "code",
   "execution_count": 23,
   "id": "80f7e283",
   "metadata": {},
   "outputs": [
    {
     "name": "stdout",
     "output_type": "stream",
     "text": [
      "Month  1 Expanse:  2345\n",
      "Total Expanse is:  2345\n",
      "Month  2 Expanse:  4321\n",
      "Total Expanse is:  6666\n",
      "Month  3 Expanse:  3123\n",
      "Total Expanse is:  9789\n",
      "Month  4 Expanse:  5367\n",
      "Total Expanse is:  15156\n",
      "Month  5 Expanse:  7423\n",
      "Total Expanse is:  22579\n"
     ]
    }
   ],
   "source": [
    "exp=[2345,4321,3123,5367,7423]\n",
    "\n",
    "total=0\n",
    "for i in range(len(exp)):\n",
    "    print(\"Month \", (i+1) , \"Expanse: \", exp[i])\n",
    "    total=total+exp[i]\n",
    "    print(\"Total Expanse is: \", total)"
   ]
  },
  {
   "cell_type": "raw",
   "id": "765cb71b",
   "metadata": {},
   "source": []
  },
  {
   "cell_type": "markdown",
   "id": "d7c7368c",
   "metadata": {},
   "source": [
    "## range() Function\n",
    "\n",
    "To loop through a set of code a specified number of times, we can use the range() function,\n",
    "\n",
    "The range() function returns a sequence of numbers, starting from 0 by default, and increments by 1 (by default), and ends at a specified number."
   ]
  },
  {
   "cell_type": "markdown",
   "id": "56ce15f9",
   "metadata": {},
   "source": [
    "#### Example\n",
    "\n",
    "Using the range() function:"
   ]
  },
  {
   "cell_type": "code",
   "execution_count": 16,
   "id": "4c9ce9e8",
   "metadata": {},
   "outputs": [
    {
     "name": "stdout",
     "output_type": "stream",
     "text": [
      "0\n",
      "1\n",
      "2\n",
      "3\n",
      "4\n",
      "5\n"
     ]
    }
   ],
   "source": [
    "for x in range(6):\n",
    "  print(x)"
   ]
  },
  {
   "cell_type": "markdown",
   "id": "2e684326",
   "metadata": {},
   "source": [
    "#### Example\n",
    "\n",
    "Using the start parameter:"
   ]
  },
  {
   "cell_type": "code",
   "execution_count": 35,
   "id": "ec969649",
   "metadata": {},
   "outputs": [
    {
     "name": "stdout",
     "output_type": "stream",
     "text": [
      "x= 1.0   y=-2.00000\n",
      "x= 2.0   y=3.00000\n",
      "x= 3.0   y=10.00000\n",
      "x= 4.0   y=19.00000\n",
      "x= 5.0   y=30.00000\n"
     ]
    }
   ],
   "source": [
    "for i in range(1,6):\n",
    "    x=i\n",
    "    y= x*x + 2.0*x - 5\n",
    "    \n",
    "    print(\"x= {0:3.1f}   y={1:3.5f}\".format(x,y))"
   ]
  },
  {
   "cell_type": "markdown",
   "id": "3e8a2c7d",
   "metadata": {},
   "source": [
    "#### Example\n",
    "\n",
    "Increment the sequence with 3 (default is 1):"
   ]
  },
  {
   "cell_type": "code",
   "execution_count": 19,
   "id": "f756b6e5",
   "metadata": {},
   "outputs": [
    {
     "name": "stdout",
     "output_type": "stream",
     "text": [
      "2\n",
      "5\n",
      "8\n",
      "11\n",
      "14\n",
      "17\n",
      "20\n",
      "23\n",
      "26\n",
      "29\n"
     ]
    }
   ],
   "source": [
    "for x in range(2, 30, 3):\n",
    "  print(x)"
   ]
  },
  {
   "cell_type": "raw",
   "id": "5668092c",
   "metadata": {},
   "source": []
  },
  {
   "cell_type": "markdown",
   "id": "f3cea049",
   "metadata": {},
   "source": [
    "# Nested Loops\n",
    "\n",
    "\n",
    "A nested loop is a loop inside a loop.\n",
    "\n",
    "The \"inner loop\" will be executed one time for each iteration of the \"outer loop\":\n",
    "\n",
    "**Example**\n",
    "\n",
    "Print each adjective for every fruit:"
   ]
  },
  {
   "cell_type": "code",
   "execution_count": 25,
   "id": "d52fdcca",
   "metadata": {},
   "outputs": [
    {
     "name": "stdout",
     "output_type": "stream",
     "text": [
      "red apple\n",
      "red banana\n",
      "red cherry\n",
      "big apple\n",
      "big banana\n",
      "big cherry\n",
      "tasty apple\n",
      "tasty banana\n",
      "tasty cherry\n"
     ]
    }
   ],
   "source": [
    "adj = [\"red\", \"big\", \"tasty\"]\n",
    "fruits = [\"apple\", \"banana\", \"cherry\"]\n",
    "\n",
    "for x in adj:\n",
    "  for y in fruits:\n",
    "    print(x, y)"
   ]
  },
  {
   "cell_type": "raw",
   "id": "0cf618d2",
   "metadata": {},
   "source": []
  },
  {
   "cell_type": "markdown",
   "id": "f60e5001",
   "metadata": {},
   "source": [
    "# Else in For Loop\n",
    "\n",
    "The else keyword in a for loop specifies a block of code to be executed when the loop is finished:\n",
    "\n",
    "\n",
    "**Example:**\n",
    "\n",
    "Print all numbers from 0 to 5, and print a message when the loop has ended:"
   ]
  },
  {
   "cell_type": "code",
   "execution_count": 24,
   "id": "f1949147",
   "metadata": {},
   "outputs": [
    {
     "name": "stdout",
     "output_type": "stream",
     "text": [
      "0\n",
      "1\n",
      "2\n",
      "3\n",
      "4\n",
      "5\n",
      "Finally finished!\n"
     ]
    }
   ],
   "source": [
    "for x in range(6):\n",
    "  print(x)\n",
    "else:\n",
    "  print(\"Finally finished!\")"
   ]
  },
  {
   "cell_type": "raw",
   "id": "2fb20667",
   "metadata": {},
   "source": []
  },
  {
   "cell_type": "markdown",
   "id": "c27ccd05",
   "metadata": {},
   "source": [
    "# Control Statements in Python\n",
    "\n",
    "- Break statement \n",
    "- Continue statement \n",
    "- Pass statement"
   ]
  },
  {
   "cell_type": "markdown",
   "id": "62e62e2b",
   "metadata": {},
   "source": [
    "### 1.Break statement\n",
    "\n",
    "The break statement in Python is used to terminate or abandon the loop containing the statement and brings the control out of the loop. It is used with both the while and the for loops, especially with nested loops (loop within a loop) to quit the loop. It terminates the inner loop and control shifts to the statement in the outer loop.\n",
    "\n",
    "**Example**"
   ]
  },
  {
   "cell_type": "code",
   "execution_count": 26,
   "id": "c14a5e12",
   "metadata": {},
   "outputs": [
    {
     "name": "stdout",
     "output_type": "stream",
     "text": [
      "Key is not found in  garage\n",
      "Key is not found in  Living room\n",
      "Key is Found in  chair\n"
     ]
    }
   ],
   "source": [
    "key_location=\"chair\"\n",
    "location=[\"garage\", \"Living room\", \"chair\",\"tabel\"]\n",
    "\n",
    "for i in location:\n",
    "    if i==key_location:\n",
    "        print(\"Key is Found in \", i)\n",
    "        break\n",
    "    else:\n",
    "        print(\"Key is not found in \", i)"
   ]
  },
  {
   "cell_type": "markdown",
   "id": "77401dd0",
   "metadata": {},
   "source": [
    "### 2.Continue statement\n",
    "\n",
    "When a program encounters a continue statement in Python, it skips the execution of the current iteration when the condition is met and lets the loop continue to move to the next iteration. It is used to continue running the program even after the program encounters a break during execution.\n",
    "\n",
    "**Example**"
   ]
  },
  {
   "cell_type": "code",
   "execution_count": 27,
   "id": "27d8275d",
   "metadata": {},
   "outputs": [
    {
     "name": "stdout",
     "output_type": "stream",
     "text": [
      "Current Letter : g\n",
      "Current Letter : k\n",
      "Current Letter : f\n",
      "Current Letter : o\n",
      "Current Letter : r\n",
      "Current Letter : g\n",
      "Current Letter : k\n"
     ]
    }
   ],
   "source": [
    "# Prints all letters except 'e' and 's'\n",
    "for letter in 'geeksforgeeks':\n",
    "    if letter == 'e' or letter == 's':\n",
    "        continue\n",
    "    print('Current Letter :', letter)"
   ]
  },
  {
   "cell_type": "markdown",
   "id": "4e3fefb6",
   "metadata": {},
   "source": [
    "### 3.Pass statement\n",
    "\n",
    "The pass statement is a null operator and is used when the programmer wants to do nothing when the condition is satisfied. This control statement in Python does not terminate or skip the execution, it simply passes to the next iteration.\n",
    "\n",
    "A loop cannot be left empty otherwise the interpreter will throw an error and to avoid this, a programmer can use the pass statement.\n",
    "\n",
    "**Example**"
   ]
  },
  {
   "cell_type": "code",
   "execution_count": 28,
   "id": "a636c613",
   "metadata": {},
   "outputs": [
    {
     "name": "stdout",
     "output_type": "stream",
     "text": [
      "Last Letter : s\n"
     ]
    }
   ],
   "source": [
    "# An empty loop\n",
    "for letter in 'geeksforgeeks':\n",
    "    pass\n",
    "print('Last Letter :', letter)"
   ]
  },
  {
   "cell_type": "raw",
   "id": "698b6672",
   "metadata": {},
   "source": []
  },
  {
   "attachments": {
    "image.png": {
     "image/png": "[encoded data removed]"
    }
   },
   "cell_type": "markdown",
   "id": "61e95488",
   "metadata": {},
   "source": [
    "# While Loop\n",
    "\n",
    "Python While Loop is used to execute a block of statements repeatedly until a given condition is satisfied. And when the condition becomes false, the line immediately after the loop in the program is executed.\n",
    "\n",
    "### Syntax: \n",
    "\n",
    "while expression:\n",
    "\n",
    "    statement(s)\n",
    "    \n",
    "### Flowchart of While Loop :\n",
    "![image.png](attachment:image.png)"
   ]
  },
  {
   "cell_type": "markdown",
   "id": "994cbbea",
   "metadata": {},
   "source": [
    "#### Example 1: Python while Loop"
   ]
  },
  {
   "cell_type": "code",
   "execution_count": 29,
   "id": "8d0118d1",
   "metadata": {},
   "outputs": [
    {
     "name": "stdout",
     "output_type": "stream",
     "text": [
      "The sum is 55\n"
     ]
    }
   ],
   "source": [
    "# Program to add natural\n",
    "# numbers up to \n",
    "# sum = 1+2+3+...+n\n",
    "\n",
    "# To take input from the user,\n",
    "# n = int(input(\"Enter n: \"))\n",
    "\n",
    "n = 10\n",
    "\n",
    "# initialize sum and counter\n",
    "sum = 0\n",
    "i = 1\n",
    "\n",
    "while i <= n:\n",
    "    sum = sum + i\n",
    "    i = i+1    # update counter\n",
    "\n",
    "# print the sum\n",
    "print(\"The sum is\", sum)"
   ]
  },
  {
   "cell_type": "markdown",
   "id": "ba6e0ab3",
   "metadata": {},
   "source": [
    "#### Example 2: While loop with else "
   ]
  },
  {
   "cell_type": "code",
   "execution_count": 30,
   "id": "a9077380",
   "metadata": {},
   "outputs": [
    {
     "name": "stdout",
     "output_type": "stream",
     "text": [
      "Inside loop\n",
      "Inside loop\n",
      "Inside loop\n",
      "Inside else\n"
     ]
    }
   ],
   "source": [
    "'''Example to illustrate\n",
    "the use of else statement\n",
    "with the while loop'''\n",
    "\n",
    "counter = 0\n",
    "\n",
    "while counter < 3:\n",
    "    print(\"Inside loop\")\n",
    "    counter = counter + 1\n",
    "else:\n",
    "    print(\"Inside else\")"
   ]
  },
  {
   "cell_type": "markdown",
   "id": "38a8972f",
   "metadata": {},
   "source": [
    "#### Example 3: Python while loop with list"
   ]
  },
  {
   "cell_type": "code",
   "execution_count": 31,
   "id": "5d1f6d6c",
   "metadata": {},
   "outputs": [
    {
     "name": "stdout",
     "output_type": "stream",
     "text": [
      "4\n",
      "3\n",
      "2\n",
      "1\n"
     ]
    }
   ],
   "source": [
    "# checks if list still\n",
    "# contains any element\n",
    "a = [1, 2, 3, 4]\n",
    "  \n",
    "while a:\n",
    "    print(a.pop())"
   ]
  },
  {
   "cell_type": "markdown",
   "id": "1f0aaa78",
   "metadata": {},
   "source": [
    "#### Example 4: Single statement while block\n",
    "\n",
    "Just like the if block, if the while block consists of a single statement we can declare the entire loop in a single line. If there are multiple statements in the block that makes up the loop body, they can be separated by semicolons (;). "
   ]
  },
  {
   "cell_type": "code",
   "execution_count": 32,
   "id": "083fb48b",
   "metadata": {},
   "outputs": [
    {
     "name": "stdout",
     "output_type": "stream",
     "text": [
      "Hello Geek\n",
      "Hello Geek\n",
      "Hello Geek\n",
      "Hello Geek\n",
      "Hello Geek\n"
     ]
    }
   ],
   "source": [
    "# Python program to illustrate \n",
    "# Single statement while block \n",
    "count = 0\n",
    "while (count < 5): count += 1; print(\"Hello Geek\")"
   ]
  },
  {
   "cell_type": "raw",
   "id": "e43ec7b1",
   "metadata": {},
   "source": []
  },
  {
   "cell_type": "markdown",
   "id": "dcfc2f32",
   "metadata": {},
   "source": [
    "# Python Functions"
   ]
  },
  {
   "cell_type": "markdown",
   "id": "11b9376e",
   "metadata": {},
   "source": [
    "- In Python, the function is a block of code defined with a name. \n",
    "- We use functions whenever we need to perform the same task multiple times without writing the same code again. \n",
    "- It can take arguments and returns the value."
   ]
  },
  {
   "cell_type": "markdown",
   "id": "fe97ad0d",
   "metadata": {},
   "source": [
    "# Types Of Python Functions\n",
    "\n",
    "There are many types of Python Functions. And each of them is very vital in its own way. The following are the different types of Python Functions:\n",
    "\n",
    "- Python Built-in Functions\n",
    "- Python Recursion Functions\n",
    "- Python Lambda Functions\n",
    "- Python User-defined Functions"
   ]
  },
  {
   "cell_type": "raw",
   "id": "36d46dc7",
   "metadata": {},
   "source": []
  },
  {
   "cell_type": "markdown",
   "id": "da986101",
   "metadata": {},
   "source": [
    "## Example of a function\n"
   ]
  },
  {
   "cell_type": "code",
   "execution_count": 6,
   "id": "2e36f5d9",
   "metadata": {},
   "outputs": [],
   "source": [
    "def greet(name):\n",
    "    \"\"\"\n",
    "    This function greets to\n",
    "    the person passed in as\n",
    "    a parameter\n",
    "    \"\"\"\n",
    "    print(\"Hello, \" + name + \". Good morning!\")"
   ]
  },
  {
   "cell_type": "markdown",
   "id": "5d4098f9",
   "metadata": {},
   "source": [
    "# How to call a function in python?\n",
    "\n",
    "Once we have defined a function, we can call it from another function, program, or even the Python prompt. To call a function we simply type the function name with appropriate parameters."
   ]
  },
  {
   "cell_type": "code",
   "execution_count": 8,
   "id": "7682f3bd",
   "metadata": {},
   "outputs": [
    {
     "name": "stdout",
     "output_type": "stream",
     "text": [
      "Hello, Paul. Good morning!\n"
     ]
    }
   ],
   "source": [
    "# calling function\n",
    "\n",
    "greet('Paul')"
   ]
  },
  {
   "cell_type": "markdown",
   "id": "efee6caa",
   "metadata": {},
   "source": [
    "## The return statement\n",
    "\n",
    "The return statement is used to exit a function and go back to the place from where it was called.\n",
    "\n",
    "Syntax of return\n",
    "\n",
    "return [expression_list]\n",
    "\n",
    "**Example of return**"
   ]
  },
  {
   "cell_type": "code",
   "execution_count": 9,
   "id": "a7de9342",
   "metadata": {},
   "outputs": [
    {
     "name": "stdout",
     "output_type": "stream",
     "text": [
      "2\n",
      "4\n"
     ]
    }
   ],
   "source": [
    "def absolute_value(num):\n",
    "    \"\"\"This function returns the absolute\n",
    "    value of the entered number\"\"\"\n",
    "\n",
    "    if num >= 0:\n",
    "        return num\n",
    "    else:\n",
    "        return -num\n",
    "\n",
    "\n",
    "print(absolute_value(2))\n",
    "\n",
    "print(absolute_value(-4))"
   ]
  },
  {
   "cell_type": "raw",
   "id": "8dc4e485",
   "metadata": {},
   "source": []
  },
  {
   "cell_type": "markdown",
   "id": "664f2d64",
   "metadata": {},
   "source": [
    "### 1.Built-in function\n",
    "\n",
    "The functions which are come along with Python itself are called a built-in function or predefined function. Some of them are listed below.\n",
    "\n",
    "**range()**, **filter()**, **id()**, **type()**, **input()**, **eval()** etc.\n",
    "\n",
    "### Basic Syntax for Defining a Function in Python\n",
    "\n",
    "In Python, you define a function with the def keyword, then write the function identifier (name) followed by parentheses and a colon.\n",
    "\n",
    "The next thing you have to do is make sure you indent with a tab or 4 spaces, and then specify what you want the function to do for you.\n",
    "\n",
    "def functionName():\n",
    "\n",
    "    # What to make the function do\n",
    "    \n",
    "**Example:**"
   ]
  },
  {
   "cell_type": "code",
   "execution_count": 1,
   "id": "f2a6d80d",
   "metadata": {},
   "outputs": [
    {
     "name": "stdout",
     "output_type": "stream",
     "text": [
      "The filtered vowels are:\n",
      "a\n",
      "e\n",
      "i\n",
      "o\n"
     ]
    }
   ],
   "source": [
    "# list of alphabets\n",
    "alphabets = ['a', 'b', 'd', 'e', 'i', 'j', 'o']\n",
    " \n",
    "# function that filters vowels\n",
    "def filterVowels(alphabet):\n",
    "    vowels = ['a', 'e', 'i', 'o', 'u']\n",
    " \n",
    "    if(alphabet in vowels):\n",
    "        return True\n",
    "    else:\n",
    "        return False\n",
    " \n",
    "filteredVowels = filter(filterVowels, alphabets)\n",
    " \n",
    "print('The filtered vowels are:')\n",
    "for vowel in filteredVowels:\n",
    "    print(vowel)"
   ]
  },
  {
   "cell_type": "raw",
   "id": "db8b2e00",
   "metadata": {},
   "source": []
  },
  {
   "cell_type": "markdown",
   "id": "1cc837f7",
   "metadata": {},
   "source": [
    "### 2.Recursive Functions\n",
    "\n",
    "What is recursion in Python?\n",
    "Recursion is the process of defining something in terms of itself.\n",
    "\n",
    "A physical world example would be to place two parallel mirrors facing each other. Any object in between them would be reflected recursively."
   ]
  },
  {
   "attachments": {
    "image.png": {
     "image/png": "[encoded data removed]"
    }
   },
   "cell_type": "markdown",
   "id": "d0faaa30",
   "metadata": {},
   "source": [
    "### Recursive Function\n",
    "\n",
    "In Python, we know that a function can call other functions. It is even possible for the function to call itself. These types of construct are termed as recursive functions.\n",
    "\n",
    "The following image shows the working of a recursive function called recurse.\n",
    "\n",
    "![image.png](attachment:image.png)\n",
    "\n",
    "Following is an example of a recursive function to find the factorial of an integer.\n",
    "\n",
    "Factorial of a number is the product of all the integers from 1 to that number. For example, the factorial of 6 (denoted as 6!) is 1*2*3*4*5*6 = 720.\n",
    "\n",
    "**Example of a recursive function**"
   ]
  },
  {
   "cell_type": "code",
   "execution_count": 10,
   "id": "d5d5f663",
   "metadata": {},
   "outputs": [
    {
     "name": "stdout",
     "output_type": "stream",
     "text": [
      "The factorial of 5 is 120\n"
     ]
    }
   ],
   "source": [
    "def factorial(x):\n",
    "    \"\"\"This is a recursive function\n",
    "    to find the factorial of an integer\"\"\"\n",
    "\n",
    "    if x == 1:\n",
    "        return 1\n",
    "    else:\n",
    "        return (x * factorial(x-1))\n",
    "\n",
    "\n",
    "num = 5\n",
    "print(\"The factorial of\", num, \"is\", factorial(num))"
   ]
  },
  {
   "cell_type": "raw",
   "id": "9110e9c9",
   "metadata": {},
   "source": [
    " "
   ]
  },
  {
   "cell_type": "markdown",
   "id": "16d4c28e",
   "metadata": {},
   "source": [
    "## User-defined function\n",
    "\n",
    "Functions which are created by programmer explicitly according to the requirement are called a user-defined function.\n",
    "\n",
    "### Advantages of user-defined functions\n",
    "\n",
    "- User-defined functions help to decompose a large program into small segments which makes the program easy to understand, maintain and debug.\n",
    "- If repeated code occurs in a program. The function can be used to include those codes and execute when needed by calling that function.\n",
    "- Programmers working on a large project can divide the workload by making different functions.\n",
    "\n",
    "**Syntax**\n",
    "\n",
    " def function_name(argument1, argument2, ...) :\n",
    " \n",
    "      statement_1\n",
    "      \n",
    "      statement_2\n",
    "      \n",
    "      ....\n",
    "      \n",
    "**Example:**"
   ]
  },
  {
   "cell_type": "code",
   "execution_count": 11,
   "id": "697e18e8",
   "metadata": {},
   "outputs": [
    {
     "name": "stdout",
     "output_type": "stream",
     "text": [
      "The sum is 11\n"
     ]
    }
   ],
   "source": [
    "# Program to illustrate\n",
    "# the use of user-defined functions\n",
    " \n",
    "def add_numbers(x,y):\n",
    "   sum = x + y\n",
    "   return sum\n",
    " \n",
    "num1 = 5\n",
    "num2 = 6\n",
    " \n",
    "print(\"The sum is\", add_numbers(num1, num2))"
   ]
  },
  {
   "cell_type": "markdown",
   "id": "73277579",
   "metadata": {},
   "source": [
    "### Python Program To Create A Simple Calculator Application\n",
    "\n",
    "In this example, you will learn to create a simple calculator that can add, subtract, multiply or divide depending upon the input from the user."
   ]
  },
  {
   "cell_type": "code",
   "execution_count": 12,
   "id": "0187d214",
   "metadata": {},
   "outputs": [
    {
     "name": "stdout",
     "output_type": "stream",
     "text": [
      "Select operation.\n",
      "1.Add\n",
      "2.Subtract\n",
      "3.Multiply\n",
      "4.Divide\n",
      "Enter choice(1/2/3/4):2\n",
      "Enter first number: 5\n",
      "Enter second number: 2\n",
      "5 - 2 = 3\n"
     ]
    }
   ],
   "source": [
    "# Program make a simple calculator that can add, subtract, multiply and divide using functions\n",
    " \n",
    "# This function adds two numbers \n",
    "def add(x, y):\n",
    "   return x + y\n",
    " \n",
    "# This function subtracts two numbers \n",
    "def subtract(x, y):\n",
    "   return x - y\n",
    " \n",
    "# This function multiplies two numbers\n",
    "def multiply(x, y):\n",
    "   return x * y\n",
    " \n",
    "# This function divides two numbers\n",
    "def divide(x, y):\n",
    "   return x / y\n",
    " \n",
    "print(\"Select operation.\")\n",
    "print(\"1.Add\")\n",
    "print(\"2.Subtract\")\n",
    "print(\"3.Multiply\")\n",
    "print(\"4.Divide\")\n",
    " \n",
    "# Take input from the user \n",
    "choice = input(\"Enter choice(1/2/3/4):\")\n",
    " \n",
    "num1 = int(input(\"Enter first number: \"))\n",
    "num2 = int(input(\"Enter second number: \"))\n",
    " \n",
    "if choice == '1':\n",
    "   print(num1,\"+\",num2,\"=\", add(num1,num2))\n",
    " \n",
    "elif choice == '2':\n",
    "   print(num1,\"-\",num2,\"=\", subtract(num1,num2))\n",
    " \n",
    "elif choice == '3':\n",
    "   print(num1,\"*\",num2,\"=\", multiply(num1,num2))\n",
    " \n",
    "elif choice == '4':\n",
    "   print(num1,\"/\",num2,\"=\", divide(num1,num2))\n",
    "else:\n",
    "   print(\"Invalid input\")"
   ]
  },
  {
   "cell_type": "code",
   "execution_count": null,
   "id": "73ff8f4f",
   "metadata": {},
   "outputs": [],
   "source": []
  },
  {
   "cell_type": "markdown",
   "id": "da5cf57a",
   "metadata": {},
   "source": [
    "## Anonymous/Lambda Function\n",
    "\n",
    "In Python, an anonymous function is a function that is defined without a name.\n",
    "\n",
    "While normal functions are defined using the ***def*** keyword in Python, anonymous functions are defined using the ***lambda*** keyword.\n",
    "\n",
    "Hence, anonymous functions are also called lambda functions.\n",
    "\n",
    "- Syntax of Lambda Function in python\n",
    "\n",
    "lambda arguments: expression\n",
    "\n",
    "**Example of Lambda Function in python**"
   ]
  },
  {
   "cell_type": "code",
   "execution_count": 13,
   "id": "7e00583d",
   "metadata": {},
   "outputs": [
    {
     "name": "stdout",
     "output_type": "stream",
     "text": [
      "10\n"
     ]
    }
   ],
   "source": [
    "# Program to show the use of lambda functions\n",
    "double = lambda x: x * 2\n",
    "\n",
    "print(double(5))"
   ]
  },
  {
   "cell_type": "markdown",
   "id": "6b756896",
   "metadata": {},
   "source": [
    "### Use of Lambda Function in python\n",
    "\n",
    "We use lambda functions when we require a nameless function for a short period of time.\n",
    "\n",
    "In Python, we generally use it as an argument to a higher-order function (a function that takes in other functions as arguments). Lambda functions are used along with built-in functions like ***filter()***, ***map()*** etc."
   ]
  },
  {
   "cell_type": "markdown",
   "id": "bbc91aca",
   "metadata": {},
   "source": [
    "## Example use with filter()\n",
    "\n",
    "The filter() function in Python takes in a function and a list as arguments."
   ]
  },
  {
   "cell_type": "code",
   "execution_count": 14,
   "id": "f9098e70",
   "metadata": {},
   "outputs": [
    {
     "name": "stdout",
     "output_type": "stream",
     "text": [
      "[4, 6, 8, 12]\n"
     ]
    }
   ],
   "source": [
    "# Program to filter out only the even items from a list\n",
    "\n",
    "my_list = [1, 5, 4, 6, 8, 11, 3, 12]\n",
    "\n",
    "new_list = list(filter(lambda x: (x%2 == 0) , my_list))\n",
    "\n",
    "print(new_list)"
   ]
  },
  {
   "cell_type": "code",
   "execution_count": 15,
   "id": "3356f93b",
   "metadata": {},
   "outputs": [
    {
     "data": {
      "text/plain": [
       "[105, 5055, 356, 923, 1443, 222]"
      ]
     },
     "execution_count": 15,
     "metadata": {},
     "output_type": "execute_result"
    }
   ],
   "source": [
    "# Return prices that are greater than or equal 100\n",
    "\n",
    "prices = [105, 5055, 40, 356, 923, 1443, 222, 62]\n",
    "out = list(  filter(lambda x: (x>=100) , prices) )\n",
    "out"
   ]
  },
  {
   "cell_type": "markdown",
   "id": "78e9e5c7",
   "metadata": {},
   "source": [
    "## Example use with map()\n",
    "\n",
    "The map() function in Python takes in a function and a list."
   ]
  },
  {
   "cell_type": "code",
   "execution_count": 16,
   "id": "47eee27b",
   "metadata": {},
   "outputs": [
    {
     "name": "stdout",
     "output_type": "stream",
     "text": [
      "[2, 10, 8, 12, 16, 22, 6, 24]\n"
     ]
    }
   ],
   "source": [
    "# Program to double each item in a list using map()\n",
    "\n",
    "my_list = [1, 5, 4, 6, 8, 11, 3, 12]\n",
    "\n",
    "new_list = list(map(lambda x: x * 2 , my_list))\n",
    "\n",
    "print(new_list)"
   ]
  },
  {
   "cell_type": "code",
   "execution_count": 18,
   "id": "63345306",
   "metadata": {},
   "outputs": [
    {
     "data": {
      "text/plain": [
       "[1, 4, 9, 16]"
      ]
     },
     "execution_count": 18,
     "metadata": {},
     "output_type": "execute_result"
    }
   ],
   "source": [
    "# Program to square each item in a list using map()\n",
    "# lambda function is an anonymous function that take any number of arguments and can only have one expression\n",
    "\n",
    "input_list = [1, 2, 3, 4]\n",
    "\n",
    "out_list = list(map ( lambda x:x**2 , input_list))\n",
    "out_list"
   ]
  },
  {
   "cell_type": "raw",
   "id": "78664949",
   "metadata": {},
   "source": []
  },
  {
   "cell_type": "markdown",
   "id": "b90bb284",
   "metadata": {},
   "source": [
    "# Python Collections (Arrays)"
   ]
  },
  {
   "cell_type": "markdown",
   "id": "682eb738",
   "metadata": {},
   "source": [
    "There are four collection data types in the Python programming language:\n",
    "\n",
    "- **List:-** is a collection which is ordered and changeable. Allows duplicate members.\n",
    "- **Tuple:-** is a collection which is ordered and unchangeable. Allows duplicate members.\n",
    "- **Set:-** is a collection which is unordered, unchangeable*, and unindexed. No duplicate members.\n",
    "- **Dictionary:-** is a collection which is ordered** and changeable. No duplicate members. "
   ]
  },
  {
   "cell_type": "raw",
   "id": "e607ea2a",
   "metadata": {},
   "source": []
  },
  {
   "cell_type": "markdown",
   "id": "f6e1ef11",
   "metadata": {},
   "source": [
    "# 1.List\n",
    "\n",
    "- Lists are used to store multiple items in a single variable.\n",
    "\n",
    "- Lists are one of 4 built-in data types in Python used to store collections of data, the other 3 are Tuple, Set, and Dictionary, all with different qualities and usage.\n",
    "\n",
    "- In Python, a list is created by placing elements inside square brackets [], separated by commas.\n",
    "\n",
    "\n",
    "**Example**\n",
    "\n",
    "Create a List:"
   ]
  },
  {
   "cell_type": "code",
   "execution_count": 2,
   "id": "2dd41c2b",
   "metadata": {},
   "outputs": [
    {
     "data": {
      "text/plain": [
       "['Python', 'C++', 'JavaScript']"
      ]
     },
     "execution_count": 2,
     "metadata": {},
     "output_type": "execute_result"
    }
   ],
   "source": [
    "# a list of programming languages\n",
    "\n",
    "mylist = ['Python', 'C++', 'JavaScript']\n",
    "\n",
    "mylist"
   ]
  },
  {
   "cell_type": "code",
   "execution_count": 4,
   "id": "bc9e5083",
   "metadata": {},
   "outputs": [
    {
     "name": "stdout",
     "output_type": "stream",
     "text": [
      "[1, 2, 3]\n"
     ]
    }
   ],
   "source": [
    "# list of integers\n",
    "\n",
    "my_list = [1, 2, 3]\n",
    "\n",
    "print(my_list)"
   ]
  },
  {
   "cell_type": "markdown",
   "id": "22160004",
   "metadata": {},
   "source": [
    "**Example:**\n",
    "\n",
    "What is the data type of a list?"
   ]
  },
  {
   "cell_type": "code",
   "execution_count": 22,
   "id": "e60c16ea",
   "metadata": {},
   "outputs": [
    {
     "name": "stdout",
     "output_type": "stream",
     "text": [
      "['Dollar', 'Euro', 'Pound']\n",
      "<class 'list'>\n"
     ]
    }
   ],
   "source": [
    "currencies=['Dollar','Euro','Pound']\n",
    "print(currencies)\n",
    "print(type(currencies))"
   ]
  },
  {
   "cell_type": "markdown",
   "id": "6e8b1d39",
   "metadata": {},
   "source": [
    "##### A list can have any number of items and they may be of different types (integer, float, string, etc.)."
   ]
  },
  {
   "cell_type": "code",
   "execution_count": 6,
   "id": "71ea5c07",
   "metadata": {},
   "outputs": [
    {
     "data": {
      "text/plain": [
       "[1, 'Hello', 3.4]"
      ]
     },
     "execution_count": 6,
     "metadata": {},
     "output_type": "execute_result"
    }
   ],
   "source": [
    "#empty list\n",
    "\n",
    "my_list = []\n",
    "\n",
    "# list with mixed data types\n",
    "\n",
    "my_list = [1, \"Hello\", 3.4]\n",
    "\n",
    "my_list"
   ]
  },
  {
   "cell_type": "markdown",
   "id": "0262945d",
   "metadata": {},
   "source": [
    "##### A list can also have another list as an item. This is called a nested list."
   ]
  },
  {
   "cell_type": "code",
   "execution_count": 7,
   "id": "0a976dea",
   "metadata": {},
   "outputs": [
    {
     "name": "stdout",
     "output_type": "stream",
     "text": [
      "['mouse', [8, 4, 6], ['a']]\n"
     ]
    }
   ],
   "source": [
    "# nested list\n",
    "my_list = [\"mouse\", [8, 4, 6], ['a']]\n",
    "\n",
    "print(my_list)"
   ]
  },
  {
   "cell_type": "markdown",
   "id": "56b2ddb8",
   "metadata": {},
   "source": [
    "# Python List Methods\n",
    "\n",
    "Python has many useful list methods that makes it really easy to work with lists. Here are some of the commonly used list methods.\n",
    "\n",
    "|Methods|\tDescriptions|\n",
    "|:------|:-------------:|\n",
    "|append()|\tadds an element to the end of the list|\n",
    "|extend()|\tadds all elements of a list to another list|\n",
    "|insert()|\tinserts an item at the defined index|\n",
    "|remove()|\tremoves an item from the list|\n",
    "|pop()|\treturns and removes an element at the given index|\n",
    "|clear()|\tremoves all items from the list|\n",
    "|index()|\treturns the index of the first matched item|\n",
    "|count()|\treturns the count of the number of items passed as an argument|\n",
    "|sort()|\tsort items in a list in ascending order|\n",
    "|reverse()|\treverse the order of items in the list|\n",
    "|copy()| \treturns a shallow copy of the list|"
   ]
  },
  {
   "attachments": {
    "image.png": {
     "image/png": "[encoded data removed]"
    }
   },
   "cell_type": "markdown",
   "id": "39e561fb",
   "metadata": {},
   "source": [
    "### List indexing in Python\n",
    "\n",
    "![image.png](attachment:image.png)"
   ]
  },
  {
   "cell_type": "markdown",
   "id": "c9425cbe",
   "metadata": {},
   "source": [
    "## List Index"
   ]
  },
  {
   "cell_type": "code",
   "execution_count": 12,
   "id": "015c5c07",
   "metadata": {},
   "outputs": [
    {
     "name": "stdout",
     "output_type": "stream",
     "text": [
      "p\n",
      "o\n",
      "e\n",
      "a\n",
      "5\n"
     ]
    }
   ],
   "source": [
    "my_list = ['p', 'r', 'o', 'b', 'e']\n",
    "\n",
    "# first item\n",
    "print(my_list[0])  # p\n",
    "\n",
    "# third item\n",
    "print(my_list[2])  # o\n",
    "\n",
    "# fifth item\n",
    "print(my_list[4])  # e\n",
    "\n",
    "# Nested List\n",
    "n_list = [\"Happy\", [2, 0, 1, 5]]\n",
    "\n",
    "# Nested indexing\n",
    "print(n_list[0][1])\n",
    "\n",
    "print(n_list[1][3])\n",
    "\n",
    "# Error! Only integer can be used for indexing\n",
    "#print(my_list[4.0])"
   ]
  },
  {
   "cell_type": "markdown",
   "id": "f6aca821",
   "metadata": {},
   "source": [
    "## Negative indexing\n",
    "\n",
    "Python allows negative indexing for its sequences. The index of -1 refers to the last item, -2 to the second last item and so on."
   ]
  },
  {
   "cell_type": "code",
   "execution_count": 13,
   "id": "5bf1cb53",
   "metadata": {},
   "outputs": [
    {
     "name": "stdout",
     "output_type": "stream",
     "text": [
      "e\n",
      "p\n"
     ]
    }
   ],
   "source": [
    "# Negative indexing in lists\n",
    "my_list = ['p','r','o','b','e']\n",
    "\n",
    "# last item\n",
    "print(my_list[-1])\n",
    "\n",
    "# fifth last item\n",
    "print(my_list[-5])"
   ]
  },
  {
   "cell_type": "markdown",
   "id": "b03ea5cd",
   "metadata": {},
   "source": [
    "## List Slicing in Python\n",
    "\n",
    "We can access a range of items in a list by using the slicing operator **:**."
   ]
  },
  {
   "cell_type": "code",
   "execution_count": 14,
   "id": "e17ebfdd",
   "metadata": {},
   "outputs": [
    {
     "name": "stdout",
     "output_type": "stream",
     "text": [
      "['o', 'g', 'r']\n",
      "['a', 'm', 'i', 'z']\n",
      "['p', 'r', 'o', 'g', 'r', 'a', 'm', 'i', 'z']\n"
     ]
    }
   ],
   "source": [
    "# List slicing in Python\n",
    "\n",
    "my_list = ['p','r','o','g','r','a','m','i','z']\n",
    "\n",
    "# elements from index 2 to index 4\n",
    "print(my_list[2:5])\n",
    "\n",
    "# elements from index 5 to end\n",
    "print(my_list[5:])\n",
    "\n",
    "# elements beginning to end\n",
    "print(my_list[:])"
   ]
  },
  {
   "cell_type": "markdown",
   "id": "9c619108",
   "metadata": {},
   "source": [
    "## Add/Change List Elements\n",
    "\n",
    "Lists are mutable, meaning their elements can be changed unlike string or tuple.\n",
    "\n",
    "We can use the assignment operator = to change an item or a range of items."
   ]
  },
  {
   "cell_type": "code",
   "execution_count": 15,
   "id": "fa280a90",
   "metadata": {},
   "outputs": [
    {
     "name": "stdout",
     "output_type": "stream",
     "text": [
      "[1, 4, 6, 8]\n",
      "[1, 3, 5, 7]\n"
     ]
    }
   ],
   "source": [
    "# Correcting mistake values in a list\n",
    "odd = [2, 4, 6, 8]\n",
    "\n",
    "# change the 1st item    \n",
    "odd[0] = 1            \n",
    "\n",
    "print(odd)\n",
    "\n",
    "# change 2nd to 4th items\n",
    "odd[1:4] = [3, 5, 7]  \n",
    "\n",
    "print(odd)                   "
   ]
  },
  {
   "cell_type": "markdown",
   "id": "664f2fc9",
   "metadata": {},
   "source": [
    "We can add one item to a list using the append() method or add several items using the extend() method."
   ]
  },
  {
   "cell_type": "code",
   "execution_count": 16,
   "id": "d88067e2",
   "metadata": {},
   "outputs": [
    {
     "name": "stdout",
     "output_type": "stream",
     "text": [
      "[1, 3, 5, 7]\n",
      "[1, 3, 5, 7, 9, 11, 13]\n"
     ]
    }
   ],
   "source": [
    "# Appending and Extending lists in Python\n",
    "odd = [1, 3, 5]\n",
    "\n",
    "odd.append(7)\n",
    "\n",
    "print(odd)\n",
    "\n",
    "odd.extend([9, 11, 13])\n",
    "\n",
    "print(odd)"
   ]
  },
  {
   "cell_type": "markdown",
   "id": "b4f86a38",
   "metadata": {},
   "source": [
    "We can also use + operator to combine two lists. This is also called concatenation.\n",
    "\n",
    "The * operator repeats a list for the given number of times."
   ]
  },
  {
   "cell_type": "code",
   "execution_count": 17,
   "id": "f1155227",
   "metadata": {},
   "outputs": [
    {
     "name": "stdout",
     "output_type": "stream",
     "text": [
      "[1, 3, 5, 9, 7, 5]\n",
      "['re', 're', 're']\n"
     ]
    }
   ],
   "source": [
    "# Concatenating and repeating lists\n",
    "odd = [1, 3, 5]\n",
    "\n",
    "print(odd + [9, 7, 5])\n",
    "\n",
    "print([\"re\"] * 3)"
   ]
  },
  {
   "cell_type": "markdown",
   "id": "131b1bee",
   "metadata": {},
   "source": [
    "# Delete List Elements\n",
    "\n",
    "We can delete one or more items from a list using the Python del statement. It can even delete the list entirely."
   ]
  },
  {
   "cell_type": "code",
   "execution_count": 20,
   "id": "c9969fc4",
   "metadata": {},
   "outputs": [
    {
     "name": "stdout",
     "output_type": "stream",
     "text": [
      "['p', 'r', 'b', 'l', 'e', 'm']\n",
      "['p', 'm']\n"
     ]
    },
    {
     "ename": "NameError",
     "evalue": "name 'my_list' is not defined",
     "output_type": "error",
     "traceback": [
      "\u001b[1;31m---------------------------------------------------------------------------\u001b[0m",
      "\u001b[1;31mNameError\u001b[0m                                 Traceback (most recent call last)",
      "Input \u001b[1;32mIn [20]\u001b[0m, in \u001b[0;36m<cell line: 18>\u001b[1;34m()\u001b[0m\n\u001b[0;32m     15\u001b[0m \u001b[38;5;28;01mdel\u001b[39;00m my_list\n\u001b[0;32m     17\u001b[0m \u001b[38;5;66;03m# Error: List not defined\u001b[39;00m\n\u001b[1;32m---> 18\u001b[0m \u001b[38;5;28mprint\u001b[39m(\u001b[43mmy_list\u001b[49m)\n",
      "\u001b[1;31mNameError\u001b[0m: name 'my_list' is not defined"
     ]
    }
   ],
   "source": [
    "# Deleting list items\n",
    "my_list = ['p', 'r', 'o', 'b', 'l', 'e', 'm']\n",
    "\n",
    "# delete one item\n",
    "del my_list[2]\n",
    "\n",
    "print(my_list)\n",
    "\n",
    "# delete multiple items\n",
    "del my_list[1:5]\n",
    "\n",
    "print(my_list)\n",
    "\n",
    "# delete the entire list\n",
    "del my_list\n",
    "\n",
    "# Error: List not defined\n",
    "print(my_list)"
   ]
  },
  {
   "cell_type": "markdown",
   "id": "5284657d",
   "metadata": {},
   "source": [
    "- We can use **remove()** to remove the given item or **pop()** to remove an item at the given index.\n",
    "\n",
    "- The **pop()** method removes and returns the last item if the index is not provided. This helps us implement lists as stacks (first in, last out data structure).\n",
    "\n",
    "- And, if we have to empty the whole list, we can use the **clear()** method."
   ]
  },
  {
   "cell_type": "code",
   "execution_count": 21,
   "id": "fce1fed6",
   "metadata": {},
   "outputs": [
    {
     "name": "stdout",
     "output_type": "stream",
     "text": [
      "['r', 'o', 'b', 'l', 'e', 'm']\n",
      "o\n",
      "['r', 'b', 'l', 'e', 'm']\n",
      "m\n",
      "['r', 'b', 'l', 'e']\n",
      "[]\n"
     ]
    }
   ],
   "source": [
    "my_list = ['p','r','o','b','l','e','m']\n",
    "my_list.remove('p')\n",
    "\n",
    "# Output: ['r', 'o', 'b', 'l', 'e', 'm']\n",
    "print(my_list)\n",
    "\n",
    "# Output: 'o'\n",
    "print(my_list.pop(1))\n",
    "\n",
    "# Output: ['r', 'b', 'l', 'e', 'm']\n",
    "print(my_list)\n",
    "\n",
    "# Output: 'm'\n",
    "print(my_list.pop())\n",
    "\n",
    "# Output: ['r', 'b', 'l', 'e']\n",
    "print(my_list)\n",
    "\n",
    "my_list.clear()\n",
    "\n",
    "# Output: []\n",
    "print(my_list)"
   ]
  },
  {
   "cell_type": "markdown",
   "id": "679d509a",
   "metadata": {},
   "source": [
    "# Loop Through a List\n",
    "\n",
    "You can loop through the list items by using a for loop:\n",
    "\n",
    "**Example**\n",
    "\n",
    "Print all items in the list, one by one:"
   ]
  },
  {
   "cell_type": "code",
   "execution_count": 23,
   "id": "aba3c11a",
   "metadata": {},
   "outputs": [
    {
     "name": "stdout",
     "output_type": "stream",
     "text": [
      "apple\n",
      "banana\n",
      "cherry\n"
     ]
    }
   ],
   "source": [
    "thislist = [\"apple\", \"banana\", \"cherry\"]\n",
    "for x in thislist:\n",
    "  print(x)"
   ]
  },
  {
   "cell_type": "raw",
   "id": "46df0217",
   "metadata": {},
   "source": []
  },
  {
   "cell_type": "markdown",
   "id": "93893be1",
   "metadata": {},
   "source": [
    "# 2.Tuple\n",
    "\n",
    "Tuples are used to store multiple items in a single variable.\n",
    "\n",
    "A tuple is created by placing all the items (elements) inside parentheses (), separated by commas. The parentheses are optional, however, it is a good practice to use them.\n",
    "\n",
    "A tuple can have any number of items and they may be of different types (integer, float, list, string, etc.).\n",
    "\n",
    "A tuple is a collection which is ordered and unchangeable."
   ]
  },
  {
   "cell_type": "code",
   "execution_count": 24,
   "id": "55cfa937",
   "metadata": {},
   "outputs": [
    {
     "name": "stdout",
     "output_type": "stream",
     "text": [
      "()\n",
      "(1, 2, 3)\n",
      "(1, 'Hello', 3.4)\n",
      "('mouse', [8, 4, 6], (1, 2, 3))\n"
     ]
    }
   ],
   "source": [
    "# Different types of tuples\n",
    "\n",
    "# Empty tuple\n",
    "my_tuple = ()\n",
    "print(my_tuple)\n",
    "\n",
    "# Tuple having integers\n",
    "my_tuple = (1, 2, 3)\n",
    "print(my_tuple)\n",
    "\n",
    "# tuple with mixed datatypes\n",
    "my_tuple = (1, \"Hello\", 3.4)\n",
    "print(my_tuple)\n",
    "\n",
    "# nested tuple\n",
    "my_tuple = (\"mouse\", [8, 4, 6], (1, 2, 3))\n",
    "print(my_tuple)"
   ]
  },
  {
   "cell_type": "markdown",
   "id": "36298acb",
   "metadata": {},
   "source": [
    "A tuple can also be created without using parentheses. This is known as tuple packing."
   ]
  },
  {
   "cell_type": "code",
   "execution_count": 25,
   "id": "cedd43e2",
   "metadata": {},
   "outputs": [
    {
     "name": "stdout",
     "output_type": "stream",
     "text": [
      "(3, 4.6, 'dog')\n",
      "3\n",
      "4.6\n",
      "dog\n"
     ]
    }
   ],
   "source": [
    "my_tuple = 3, 4.6, \"dog\"\n",
    "print(my_tuple)\n",
    "\n",
    "# tuple unpacking is also possible\n",
    "a, b, c = my_tuple\n",
    "\n",
    "print(a)      # 3\n",
    "print(b)      # 4.6\n",
    "print(c)      # dog"
   ]
  },
  {
   "cell_type": "markdown",
   "id": "b83c43c3",
   "metadata": {},
   "source": [
    "#### 1. Indexing"
   ]
  },
  {
   "cell_type": "code",
   "execution_count": 26,
   "id": "c6df0de4",
   "metadata": {},
   "outputs": [
    {
     "name": "stdout",
     "output_type": "stream",
     "text": [
      "p\n",
      "t\n",
      "s\n",
      "4\n"
     ]
    }
   ],
   "source": [
    "# Accessing tuple elements using indexing\n",
    "my_tuple = ('p','e','r','m','i','t')\n",
    "\n",
    "print(my_tuple[0])   # 'p' \n",
    "print(my_tuple[5])   # 't'\n",
    "\n",
    "# IndexError: list index out of range\n",
    "# print(my_tuple[6])\n",
    "\n",
    "# Index must be an integer\n",
    "# TypeError: list indices must be integers, not float\n",
    "# my_tuple[2.0]\n",
    "\n",
    "# nested tuple\n",
    "n_tuple = (\"mouse\", [8, 4, 6], (1, 2, 3))\n",
    "\n",
    "# nested index\n",
    "print(n_tuple[0][3])       # 's'\n",
    "print(n_tuple[1][1])       # 4"
   ]
  },
  {
   "cell_type": "markdown",
   "id": "f0547e27",
   "metadata": {},
   "source": [
    "#### 2. Negative Indexing\n",
    "\n",
    "Python allows negative indexing for its sequences.\n",
    "\n",
    "The index of -1 refers to the last item, -2 to the second last item and so on."
   ]
  },
  {
   "cell_type": "code",
   "execution_count": 27,
   "id": "3ffc5a53",
   "metadata": {},
   "outputs": [
    {
     "name": "stdout",
     "output_type": "stream",
     "text": [
      "t\n",
      "p\n"
     ]
    }
   ],
   "source": [
    "# Negative indexing for accessing tuple elements\n",
    "my_tuple = ('p', 'e', 'r', 'm', 'i', 't')\n",
    "\n",
    "# Output: 't'\n",
    "print(my_tuple[-1])\n",
    "\n",
    "# Output: 'p'\n",
    "print(my_tuple[-6])"
   ]
  },
  {
   "cell_type": "markdown",
   "id": "d73aff6e",
   "metadata": {},
   "source": [
    "#### 3. Slicing\n",
    "\n",
    "We can access a range of items in a tuple by using the slicing operator colon **:**."
   ]
  },
  {
   "cell_type": "code",
   "execution_count": 28,
   "id": "fbd3dbab",
   "metadata": {},
   "outputs": [
    {
     "name": "stdout",
     "output_type": "stream",
     "text": [
      "('r', 'o', 'g')\n",
      "('p', 'r')\n",
      "('i', 'z')\n",
      "('p', 'r', 'o', 'g', 'r', 'a', 'm', 'i', 'z')\n"
     ]
    }
   ],
   "source": [
    "# Accessing tuple elements using slicing\n",
    "my_tuple = ('p','r','o','g','r','a','m','i','z')\n",
    "\n",
    "# elements 2nd to 4th\n",
    "# Output: ('r', 'o', 'g')\n",
    "print(my_tuple[1:4])\n",
    "\n",
    "# elements beginning to 2nd\n",
    "# Output: ('p', 'r')\n",
    "print(my_tuple[:-7])\n",
    "\n",
    "# elements 8th to end\n",
    "# Output: ('i', 'z')\n",
    "print(my_tuple[7:])\n",
    "\n",
    "# elements beginning to end\n",
    "# Output: ('p', 'r', 'o', 'g', 'r', 'a', 'm', 'i', 'z')\n",
    "print(my_tuple[:])"
   ]
  },
  {
   "cell_type": "markdown",
   "id": "918a2b96",
   "metadata": {},
   "source": [
    "#### 4.Changing a Tuple\n",
    "\n",
    "Unlike lists, tuples are immutable.\n",
    "\n",
    "This means that elements of a tuple cannot be changed once they have been assigned."
   ]
  },
  {
   "cell_type": "code",
   "execution_count": 29,
   "id": "6ee0af28",
   "metadata": {},
   "outputs": [
    {
     "name": "stdout",
     "output_type": "stream",
     "text": [
      "(4, 2, 3, [9, 5])\n",
      "('p', 'r', 'o', 'g', 'r', 'a', 'm', 'i', 'z')\n"
     ]
    }
   ],
   "source": [
    "# Changing tuple values\n",
    "my_tuple = (4, 2, 3, [6, 5])\n",
    "\n",
    "\n",
    "# TypeError: 'tuple' object does not support item assignment\n",
    "# my_tuple[1] = 9\n",
    "\n",
    "# However, item of mutable element can be changed\n",
    "my_tuple[3][0] = 9    # Output: (4, 2, 3, [9, 5])\n",
    "print(my_tuple)\n",
    "\n",
    "# Tuples can be reassigned\n",
    "my_tuple = ('p', 'r', 'o', 'g', 'r', 'a', 'm', 'i', 'z')\n",
    "\n",
    "# Output: ('p', 'r', 'o', 'g', 'r', 'a', 'm', 'i', 'z')\n",
    "print(my_tuple)"
   ]
  },
  {
   "cell_type": "markdown",
   "id": "ad083dab",
   "metadata": {},
   "source": [
    "#### 5.Deleting a Tuple"
   ]
  },
  {
   "cell_type": "code",
   "execution_count": 30,
   "id": "ce51dbde",
   "metadata": {},
   "outputs": [
    {
     "ename": "NameError",
     "evalue": "name 'my_tuple' is not defined",
     "output_type": "error",
     "traceback": [
      "\u001b[1;31m---------------------------------------------------------------------------\u001b[0m",
      "\u001b[1;31mNameError\u001b[0m                                 Traceback (most recent call last)",
      "Input \u001b[1;32mIn [30]\u001b[0m, in \u001b[0;36m<cell line: 12>\u001b[1;34m()\u001b[0m\n\u001b[0;32m      9\u001b[0m \u001b[38;5;28;01mdel\u001b[39;00m my_tuple\n\u001b[0;32m     11\u001b[0m \u001b[38;5;66;03m# NameError: name 'my_tuple' is not defined\u001b[39;00m\n\u001b[1;32m---> 12\u001b[0m \u001b[38;5;28mprint\u001b[39m(\u001b[43mmy_tuple\u001b[49m)\n",
      "\u001b[1;31mNameError\u001b[0m: name 'my_tuple' is not defined"
     ]
    }
   ],
   "source": [
    "# Deleting tuples\n",
    "my_tuple = ('p', 'r', 'o', 'g', 'r', 'a', 'm', 'i', 'z')\n",
    "\n",
    "# can't delete items\n",
    "# TypeError: 'tuple' object doesn't support item deletion\n",
    "# del my_tuple[3]\n",
    "\n",
    "# Can delete an entire tuple\n",
    "del my_tuple\n",
    "\n",
    "# NameError: name 'my_tuple' is not defined\n",
    "print(my_tuple)"
   ]
  },
  {
   "cell_type": "markdown",
   "id": "7d0ebc9e",
   "metadata": {},
   "source": [
    "#### 6.Iterating Through a Tuple\n",
    "\n",
    "We can use a for loop to iterate through each item in a tuple."
   ]
  },
  {
   "cell_type": "code",
   "execution_count": 31,
   "id": "6d7a4e18",
   "metadata": {},
   "outputs": [
    {
     "name": "stdout",
     "output_type": "stream",
     "text": [
      "Hello John\n",
      "Hello Kate\n"
     ]
    }
   ],
   "source": [
    "# Using a for loop to iterate through a tuple\n",
    "for name in ('John', 'Kate'):\n",
    "    print(\"Hello\", name)"
   ]
  },
  {
   "cell_type": "raw",
   "id": "f7ae5e3d",
   "metadata": {},
   "source": []
  },
  {
   "cell_type": "markdown",
   "id": "c454b206",
   "metadata": {},
   "source": [
    "# 3.Sets\n",
    "\n",
    "A set is an unordered collection of items. Every set element is unique (no duplicates) and must be immutable (cannot be changed).\n",
    "\n",
    "However, a set itself is mutable. We can add or remove items from it.\n",
    "\n",
    "A set is created by placing all the items (elements) inside curly braces {}, separated by comma, or by using the built-in set() function."
   ]
  },
  {
   "cell_type": "code",
   "execution_count": 32,
   "id": "8f0124fc",
   "metadata": {},
   "outputs": [
    {
     "name": "stdout",
     "output_type": "stream",
     "text": [
      "{1, 2, 3}\n",
      "{1.0, (1, 2, 3), 'Hello'}\n"
     ]
    }
   ],
   "source": [
    "# Different types of sets in Python\n",
    "# set of integers\n",
    "my_set = {1, 2, 3}\n",
    "print(my_set)\n",
    "\n",
    "# set of mixed datatypes\n",
    "my_set = {1.0, \"Hello\", (1, 2, 3)}\n",
    "print(my_set)"
   ]
  },
  {
   "cell_type": "code",
   "execution_count": 33,
   "id": "fbf154a0",
   "metadata": {},
   "outputs": [
    {
     "name": "stdout",
     "output_type": "stream",
     "text": [
      "{1, 2, 3, 4}\n",
      "{1, 2, 3}\n"
     ]
    },
    {
     "ename": "TypeError",
     "evalue": "unhashable type: 'list'",
     "output_type": "error",
     "traceback": [
      "\u001b[1;31m---------------------------------------------------------------------------\u001b[0m",
      "\u001b[1;31mTypeError\u001b[0m                                 Traceback (most recent call last)",
      "Input \u001b[1;32mIn [33]\u001b[0m, in \u001b[0;36m<cell line: 15>\u001b[1;34m()\u001b[0m\n\u001b[0;32m      9\u001b[0m \u001b[38;5;28mprint\u001b[39m(my_set)\n\u001b[0;32m     11\u001b[0m \u001b[38;5;66;03m# set cannot have mutable items\u001b[39;00m\n\u001b[0;32m     12\u001b[0m \u001b[38;5;66;03m# here [3, 4] is a mutable list\u001b[39;00m\n\u001b[0;32m     13\u001b[0m \u001b[38;5;66;03m# this will cause an error.\u001b[39;00m\n\u001b[1;32m---> 15\u001b[0m my_set \u001b[38;5;241m=\u001b[39m {\u001b[38;5;241m1\u001b[39m, \u001b[38;5;241m2\u001b[39m, [\u001b[38;5;241m3\u001b[39m, \u001b[38;5;241m4\u001b[39m]}\n",
      "\u001b[1;31mTypeError\u001b[0m: unhashable type: 'list'"
     ]
    }
   ],
   "source": [
    "# set cannot have duplicates\n",
    "# Output: {1, 2, 3, 4}\n",
    "my_set = {1, 2, 3, 4, 3, 2}\n",
    "print(my_set)\n",
    "\n",
    "# we can make set from a list\n",
    "# Output: {1, 2, 3}\n",
    "my_set = set([1, 2, 3, 2])\n",
    "print(my_set)\n",
    "\n",
    "# set cannot have mutable items\n",
    "# here [3, 4] is a mutable list\n",
    "# this will cause an error.\n",
    "\n",
    "my_set = {1, 2, [3, 4]}"
   ]
  },
  {
   "cell_type": "markdown",
   "id": "5cdfd449",
   "metadata": {},
   "source": [
    "### Modifying a set in Python\n",
    "\n",
    "Sets are mutable. However, since they are unordered, indexing has no meaning.\n",
    "\n",
    "We cannot access or change an element of a set using indexing or slicing. Set data type does not support it.\n",
    "\n",
    "We can add a single element using the add() method, and multiple elements using the update() method. \n",
    "\n",
    "The update() method can take tuples, lists, strings or other sets as its argument. In all cases, duplicates are avoided."
   ]
  },
  {
   "cell_type": "code",
   "execution_count": 34,
   "id": "bf6041b9",
   "metadata": {},
   "outputs": [
    {
     "name": "stdout",
     "output_type": "stream",
     "text": [
      "{1, 3}\n",
      "{1, 2, 3}\n",
      "{1, 2, 3, 4}\n",
      "{1, 2, 3, 4, 5, 6, 8}\n"
     ]
    }
   ],
   "source": [
    "# initialize my_set\n",
    "my_set = {1, 3}\n",
    "print(my_set)\n",
    "\n",
    "# my_set[0]\n",
    "# if you uncomment the above line\n",
    "# you will get an error\n",
    "# TypeError: 'set' object does not support indexing\n",
    "\n",
    "# add an element\n",
    "# Output: {1, 2, 3}\n",
    "my_set.add(2)\n",
    "print(my_set)\n",
    "\n",
    "# add multiple elements\n",
    "# Output: {1, 2, 3, 4}\n",
    "my_set.update([2, 3, 4])\n",
    "print(my_set)\n",
    "\n",
    "# add list and set\n",
    "# Output: {1, 2, 3, 4, 5, 6, 8}\n",
    "my_set.update([4, 5], {1, 6, 8})\n",
    "print(my_set)"
   ]
  },
  {
   "cell_type": "markdown",
   "id": "349010af",
   "metadata": {},
   "source": [
    "### Removing elements from a set"
   ]
  },
  {
   "cell_type": "code",
   "execution_count": 35,
   "id": "60e377c0",
   "metadata": {},
   "outputs": [
    {
     "name": "stdout",
     "output_type": "stream",
     "text": [
      "{1, 3, 4, 5, 6}\n",
      "{1, 3, 5, 6}\n",
      "{1, 3, 5}\n",
      "{1, 3, 5}\n"
     ]
    },
    {
     "ename": "KeyError",
     "evalue": "2",
     "output_type": "error",
     "traceback": [
      "\u001b[1;31m---------------------------------------------------------------------------\u001b[0m",
      "\u001b[1;31mKeyError\u001b[0m                                  Traceback (most recent call last)",
      "Input \u001b[1;32mIn [35]\u001b[0m, in \u001b[0;36m<cell line: 28>\u001b[1;34m()\u001b[0m\n\u001b[0;32m     21\u001b[0m \u001b[38;5;28mprint\u001b[39m(my_set)\n\u001b[0;32m     23\u001b[0m \u001b[38;5;66;03m# remove an element\u001b[39;00m\n\u001b[0;32m     24\u001b[0m \u001b[38;5;66;03m# not present in my_set\u001b[39;00m\n\u001b[0;32m     25\u001b[0m \u001b[38;5;66;03m# you will get an error.\u001b[39;00m\n\u001b[0;32m     26\u001b[0m \u001b[38;5;66;03m# Output: KeyError\u001b[39;00m\n\u001b[1;32m---> 28\u001b[0m \u001b[43mmy_set\u001b[49m\u001b[38;5;241;43m.\u001b[39;49m\u001b[43mremove\u001b[49m\u001b[43m(\u001b[49m\u001b[38;5;241;43m2\u001b[39;49m\u001b[43m)\u001b[49m\n",
      "\u001b[1;31mKeyError\u001b[0m: 2"
     ]
    }
   ],
   "source": [
    "# Difference between discard() and remove()\n",
    "\n",
    "# initialize my_set\n",
    "my_set = {1, 3, 4, 5, 6}\n",
    "print(my_set)\n",
    "\n",
    "# discard an element\n",
    "# Output: {1, 3, 5, 6}\n",
    "my_set.discard(4)\n",
    "print(my_set)\n",
    "\n",
    "# remove an element\n",
    "# Output: {1, 3, 5}\n",
    "my_set.remove(6)\n",
    "print(my_set)\n",
    "\n",
    "# discard an element\n",
    "# not present in my_set\n",
    "# Output: {1, 3, 5}\n",
    "my_set.discard(2)\n",
    "print(my_set)\n",
    "\n",
    "# remove an element\n",
    "# not present in my_set\n",
    "# you will get an error.\n",
    "# Output: KeyError\n",
    "\n",
    "my_set.remove(2)"
   ]
  },
  {
   "cell_type": "markdown",
   "id": "b41a067f",
   "metadata": {},
   "source": [
    "We can also remove all the items from a set using the clear() method."
   ]
  },
  {
   "cell_type": "code",
   "execution_count": 36,
   "id": "6dcecb7e",
   "metadata": {},
   "outputs": [
    {
     "name": "stdout",
     "output_type": "stream",
     "text": [
      "{'d', 'r', 'W', 'o', 'l', 'H', 'e'}\n",
      "d\n",
      "{'W', 'o', 'l', 'H', 'e'}\n",
      "set()\n"
     ]
    }
   ],
   "source": [
    "# initialize my_set\n",
    "# Output: set of unique elements\n",
    "my_set = set(\"HelloWorld\")\n",
    "print(my_set)\n",
    "\n",
    "# pop an element\n",
    "# Output: random element\n",
    "print(my_set.pop())\n",
    "\n",
    "# pop another element\n",
    "my_set.pop()\n",
    "print(my_set)\n",
    "\n",
    "# clear my_set\n",
    "# Output: set()\n",
    "my_set.clear()\n",
    "print(my_set)"
   ]
  },
  {
   "cell_type": "markdown",
   "id": "0e829be8",
   "metadata": {},
   "source": [
    "### Python Set Methods\n",
    "\n",
    "There are many set methods, some of which we have already used above. Here is a list of all the methods that are available with the set objects:\n",
    "\n",
    "\n",
    "|Method|\tDescription|\n",
    "|:-----|:-------------:|\n",
    "|add()|\tAdds an element to the set|\n",
    "|clear()|\tRemoves all elements from the set|\n",
    "|copy()|\tReturns a copy of the set|\n",
    "|difference()|\tReturns the difference of two or more sets as a new set|\n",
    "|difference_update()|\tRemoves all elements of another set from this set|\n",
    "|discard()|\tRemoves an element from the set if it is a member. (Do nothing if the element is not in set)|\n",
    "|intersection()|\tReturns the intersection of two sets as a new set|\n",
    "|intersection_update()|\tUpdates the set with the intersection of itself and another|\n",
    "|isdisjoint()|\tReturns True if two sets have a null intersection|\n",
    "|issubset()|\tReturns True if another set contains this set|\n",
    "|issuperset()|\tReturns True if this set contains another set|\n",
    "|pop()|\tRemoves and returns an arbitrary set element. Raises KeyError if the set is empty|\n",
    "|remove()|\tRemoves an element from the set. If the element is not a member, raises a KeyError|\n",
    "|symmetric_difference()|\tReturns the symmetric difference of two sets as a new set|\n",
    "|symmetric_difference_update()|\tUpdates a set with the symmetric difference of itself and another|\n",
    "|union()|\tReturns the union of sets in a new set|\n",
    "|update()|\tUpdates the set with the union of itself and others|"
   ]
  },
  {
   "cell_type": "markdown",
   "id": "6bb9630f",
   "metadata": {},
   "source": [
    "Built-in Functions with Set\n",
    "Built-in functions like all(), any(), enumerate(), len(), max(), min(), sorted(), sum() etc. are commonly used with sets to perform different tasks.\n",
    "\n",
    "|Function|\tDescription|\n",
    "|:-------|:-----------:|\n",
    "|all()|\tReturns True if all elements of the set are true (or if the set is empty).|\n",
    "|any()|\tReturns True if any element of the set is true. If the set is empty, returns False.|\n",
    "|enumerate()|\tReturns an enumerate object. It contains the index and value for all the items of the set as a pair.|\n",
    "|len()|\tReturns the length (the number of items) in the set.|\n",
    "|max()|\tReturns the largest item in the set.|\n",
    "|min()|\tReturns the smallest item in the set.|\n",
    "|sorted()|\tReturns a new sorted list from elements in the set(does not sort the set itself).|\n",
    "|sum()|\tReturns the sum of all elements in the set.|"
   ]
  },
  {
   "cell_type": "raw",
   "id": "045287ec",
   "metadata": {},
   "source": []
  },
  {
   "cell_type": "markdown",
   "id": "0967412d",
   "metadata": {},
   "source": [
    "# 4.Dictionary\n",
    "\n",
    "Dictionaries are used to store data values in key:value pairs.\n",
    "\n",
    "A dictionary is a collection which is ordered*, changeable and do not allow duplicates.\n",
    "\n",
    "Creating a dictionary is as simple as placing items inside curly braces {} separated by commas.\n",
    "\n",
    "An item has a key and a corresponding value that is expressed as a pair (key: value).\n",
    "\n",
    "**Example**\n",
    "\n",
    "Create and print a dictionary:"
   ]
  },
  {
   "cell_type": "code",
   "execution_count": 37,
   "id": "cac3c0d2",
   "metadata": {},
   "outputs": [
    {
     "name": "stdout",
     "output_type": "stream",
     "text": [
      "{'brand': 'Ford', 'model': 'Mustang', 'year': 1964}\n"
     ]
    }
   ],
   "source": [
    "thisdict = {\n",
    "  \"brand\": \"Ford\",\n",
    "  \"model\": \"Mustang\",\n",
    "  \"year\": 1964\n",
    "}\n",
    "print(thisdict)"
   ]
  },
  {
   "cell_type": "markdown",
   "id": "9f9301f8",
   "metadata": {},
   "source": [
    "#### Duplicates Not Allowed\n",
    "\n",
    "Dictionaries cannot have two items with the same key:\n",
    "\n",
    "**Example**\n",
    "\n",
    "Duplicate values will overwrite existing values:"
   ]
  },
  {
   "cell_type": "code",
   "execution_count": 38,
   "id": "1720a66c",
   "metadata": {},
   "outputs": [
    {
     "name": "stdout",
     "output_type": "stream",
     "text": [
      "{'brand': 'Ford', 'model': 'Mustang', 'year': 2020}\n"
     ]
    }
   ],
   "source": [
    "thisdict = {\n",
    "  \"brand\": \"Ford\",\n",
    "  \"model\": \"Mustang\",\n",
    "  \"year\": 1964,\n",
    "  \"year\": 2020\n",
    "}\n",
    "print(thisdict)"
   ]
  },
  {
   "cell_type": "code",
   "execution_count": 42,
   "id": "c476c1f4",
   "metadata": {},
   "outputs": [
    {
     "name": "stdout",
     "output_type": "stream",
     "text": [
      "{1: 'apple', 2: 'ball'}\n",
      "{'name': 'John', 1: [2, 4, 3]}\n",
      "{1: 'apple', 2: 'ball'}\n",
      "{1: 'apple', 2: 'ball'}\n"
     ]
    }
   ],
   "source": [
    "# empty dictionary\n",
    "my_dict = {}\n",
    "\n",
    "# dictionary with integer keys\n",
    "my_dict = {1: 'apple', 2: 'ball'}\n",
    "print(my_dict)\n",
    "\n",
    "# dictionary with mixed keys\n",
    "my_dict1 = {'name': 'John', 1: [2, 4, 3]}\n",
    "print(my_dict1)\n",
    "\n",
    "# using dict()\n",
    "my_dict2 = dict({1:'apple', 2:'ball'})\n",
    "print(my_dict2)\n",
    "\n",
    "# from sequence having each item as a pair\n",
    "my_dict3 = dict([(1,'apple'), (2,'ball')])\n",
    "print(my_dict3)"
   ]
  },
  {
   "cell_type": "markdown",
   "id": "ddbe90da",
   "metadata": {},
   "source": [
    "#### Accessing Elements from Dictionary\n",
    "\n",
    "While indexing is used with other data types to access values, a dictionary uses keys. Keys can be used either inside square brackets [] or with the get() method.\n",
    "\n",
    "If we use the square brackets [], KeyError is raised in case a key is not found in the dictionary. On the other hand, the get() method returns None if the key is not found."
   ]
  },
  {
   "cell_type": "code",
   "execution_count": 43,
   "id": "14b84d20",
   "metadata": {},
   "outputs": [
    {
     "name": "stdout",
     "output_type": "stream",
     "text": [
      "Jack\n",
      "26\n",
      "None\n"
     ]
    },
    {
     "ename": "KeyError",
     "evalue": "'address'",
     "output_type": "error",
     "traceback": [
      "\u001b[1;31m---------------------------------------------------------------------------\u001b[0m",
      "\u001b[1;31mKeyError\u001b[0m                                  Traceback (most recent call last)",
      "Input \u001b[1;32mIn [43]\u001b[0m, in \u001b[0;36m<cell line: 15>\u001b[1;34m()\u001b[0m\n\u001b[0;32m     12\u001b[0m \u001b[38;5;28mprint\u001b[39m(my_dict\u001b[38;5;241m.\u001b[39mget(\u001b[38;5;124m'\u001b[39m\u001b[38;5;124maddress\u001b[39m\u001b[38;5;124m'\u001b[39m))\n\u001b[0;32m     14\u001b[0m \u001b[38;5;66;03m# KeyError\u001b[39;00m\n\u001b[1;32m---> 15\u001b[0m \u001b[38;5;28mprint\u001b[39m(\u001b[43mmy_dict\u001b[49m\u001b[43m[\u001b[49m\u001b[38;5;124;43m'\u001b[39;49m\u001b[38;5;124;43maddress\u001b[39;49m\u001b[38;5;124;43m'\u001b[39;49m\u001b[43m]\u001b[49m)\n",
      "\u001b[1;31mKeyError\u001b[0m: 'address'"
     ]
    }
   ],
   "source": [
    "# get vs [] for retrieving elements\n",
    "my_dict = {'name': 'Jack', 'age': 26}\n",
    "\n",
    "# Output: Jack\n",
    "print(my_dict['name'])\n",
    "\n",
    "# Output: 26\n",
    "print(my_dict.get('age'))\n",
    "\n",
    "# Trying to access keys which doesn't exist throws error\n",
    "# Output None\n",
    "print(my_dict.get('address'))\n",
    "\n",
    "# KeyError\n",
    "print(my_dict['address'])"
   ]
  },
  {
   "cell_type": "markdown",
   "id": "9adee27c",
   "metadata": {},
   "source": [
    "#### Changing and Adding Dictionary elements\n",
    "\n",
    "Dictionaries are mutable. We can add new items or change the value of existing items using an assignment operator.\n",
    "\n",
    "If the key is already present, then the existing value gets updated. In case the key is not present, a new (key: value) pair is added to the dictionary."
   ]
  },
  {
   "cell_type": "code",
   "execution_count": 44,
   "id": "3728e70e",
   "metadata": {},
   "outputs": [
    {
     "name": "stdout",
     "output_type": "stream",
     "text": [
      "{'name': 'Jack', 'age': 27}\n",
      "{'name': 'Jack', 'age': 27, 'address': 'Downtown'}\n"
     ]
    }
   ],
   "source": [
    "# Changing and adding Dictionary Elements\n",
    "my_dict = {'name': 'Jack', 'age': 26}\n",
    "\n",
    "# update value\n",
    "my_dict['age'] = 27\n",
    "\n",
    "#Output: {'age': 27, 'name': 'Jack'}\n",
    "print(my_dict)\n",
    "\n",
    "# add item\n",
    "my_dict['address'] = 'Downtown'\n",
    "\n",
    "# Output: {'address': 'Downtown', 'age': 27, 'name': 'Jack'}\n",
    "print(my_dict)"
   ]
  },
  {
   "cell_type": "markdown",
   "id": "fec81ead",
   "metadata": {},
   "source": [
    "#### Removing elements from Dictionary\n",
    "\n",
    "We can remove a particular item in a dictionary by using the pop() method. This method removes an item with the provided key and returns the value.\n",
    "\n",
    "The popitem() method can be used to remove and return an arbitrary (key, value) item pair from the dictionary. All the items can be removed at once, using the clear() method."
   ]
  },
  {
   "cell_type": "code",
   "execution_count": 45,
   "id": "d2814abd",
   "metadata": {},
   "outputs": [
    {
     "name": "stdout",
     "output_type": "stream",
     "text": [
      "16\n",
      "{1: 1, 2: 4, 3: 9, 5: 25}\n",
      "(5, 25)\n",
      "{1: 1, 2: 4, 3: 9}\n",
      "{}\n"
     ]
    },
    {
     "ename": "NameError",
     "evalue": "name 'squares' is not defined",
     "output_type": "error",
     "traceback": [
      "\u001b[1;31m---------------------------------------------------------------------------\u001b[0m",
      "\u001b[1;31mNameError\u001b[0m                                 Traceback (most recent call last)",
      "Input \u001b[1;32mIn [45]\u001b[0m, in \u001b[0;36m<cell line: 30>\u001b[1;34m()\u001b[0m\n\u001b[0;32m     27\u001b[0m \u001b[38;5;28;01mdel\u001b[39;00m squares\n\u001b[0;32m     29\u001b[0m \u001b[38;5;66;03m# Throws Error\u001b[39;00m\n\u001b[1;32m---> 30\u001b[0m \u001b[38;5;28mprint\u001b[39m(\u001b[43msquares\u001b[49m)\n",
      "\u001b[1;31mNameError\u001b[0m: name 'squares' is not defined"
     ]
    }
   ],
   "source": [
    "# Removing elements from a dictionary\n",
    "\n",
    "# create a dictionary\n",
    "squares = {1: 1, 2: 4, 3: 9, 4: 16, 5: 25}\n",
    "\n",
    "# remove a particular item, returns its value\n",
    "# Output: 16\n",
    "print(squares.pop(4))\n",
    "\n",
    "# Output: {1: 1, 2: 4, 3: 9, 5: 25}\n",
    "print(squares)\n",
    "\n",
    "# remove an arbitrary item, return (key,value)\n",
    "# Output: (5, 25)\n",
    "print(squares.popitem())\n",
    "\n",
    "# Output: {1: 1, 2: 4, 3: 9}\n",
    "print(squares)\n",
    "\n",
    "# remove all items\n",
    "squares.clear()\n",
    "\n",
    "# Output: {}\n",
    "print(squares)\n",
    "\n",
    "# delete the dictionary itself\n",
    "del squares\n",
    "\n",
    "# Throws Error\n",
    "print(squares)"
   ]
  },
  {
   "cell_type": "markdown",
   "id": "d918ea8c",
   "metadata": {},
   "source": [
    "### Python Dictionary Methods\n",
    "\n",
    "|Method|\tDescription|\n",
    "|:-----|:-------------:|\n",
    "|clear()|\tRemoves all items from the dictionary.|\n",
    "|copy()|\tReturns a shallow copy of the dictionary.|\n",
    "|fromkeys(seq[, v])|\tReturns a new dictionary with keys from seq and value equal to v (defaults to None).|\n",
    "|get(key[,d])|\tReturns the value of the key. If the key does not exist, returns d (defaults to None).|\n",
    "|items()|\tReturn a new object of the dictionary's items in (key, value) format.|\n",
    "|keys()|\tReturns a new object of the dictionary's keys.|\n",
    "|pop(key[,d])|\tRemoves the item with the key and returns its value or d if key is not found. If d is not provided and the key is not found, it raises KeyError.|\n",
    "|popitem()|\tRemoves and returns an arbitrary item (key, value). Raises KeyError if the dictionary is empty.|\n",
    "|setdefault(key[,d])|\tReturns the corresponding value if the key is in the dictionary. If not, inserts the key with a value of d and returns d (defaults to None).|\n",
    "|update([other])|\tUpdates the dictionary with the key/value pairs from other, overwriting existing keys.|\n",
    "|values()|\tReturns a new object of the dictionary's values|"
   ]
  },
  {
   "cell_type": "code",
   "execution_count": 46,
   "id": "d7c8ad79",
   "metadata": {},
   "outputs": [
    {
     "name": "stdout",
     "output_type": "stream",
     "text": [
      "{'Math': 0, 'English': 0, 'Science': 0}\n",
      "('Math', 0)\n",
      "('English', 0)\n",
      "('Science', 0)\n",
      "['English', 'Math', 'Science']\n"
     ]
    }
   ],
   "source": [
    "# Dictionary Methods\n",
    "marks = {}.fromkeys(['Math', 'English', 'Science'], 0)\n",
    "\n",
    "# Output: {'English': 0, 'Math': 0, 'Science': 0}\n",
    "print(marks)\n",
    "\n",
    "for item in marks.items():\n",
    "    print(item)\n",
    "\n",
    "# Output: ['English', 'Math', 'Science']\n",
    "print(list(sorted(marks.keys())))"
   ]
  },
  {
   "cell_type": "markdown",
   "id": "01343f98",
   "metadata": {},
   "source": [
    "#### Python Dictionary Comprehension\n",
    "\n",
    "Dictionary comprehension is an elegant and concise way to create a new dictionary from an iterable in Python."
   ]
  },
  {
   "cell_type": "code",
   "execution_count": 47,
   "id": "206cf05e",
   "metadata": {},
   "outputs": [
    {
     "name": "stdout",
     "output_type": "stream",
     "text": [
      "{0: 0, 1: 1, 2: 4, 3: 9, 4: 16, 5: 25}\n"
     ]
    }
   ],
   "source": [
    "# Dictionary Comprehension\n",
    "squares = {x: x*x for x in range(6)}\n",
    "\n",
    "print(squares)"
   ]
  },
  {
   "cell_type": "code",
   "execution_count": 48,
   "id": "c4b47ec8",
   "metadata": {},
   "outputs": [
    {
     "name": "stdout",
     "output_type": "stream",
     "text": [
      "{1: 1, 3: 9, 5: 25, 7: 49, 9: 81}\n"
     ]
    }
   ],
   "source": [
    "# Dictionary Comprehension with if conditional\n",
    "odd_squares = {x: x*x for x in range(11) if x % 2 == 1}\n",
    "\n",
    "print(odd_squares)"
   ]
  },
  {
   "cell_type": "raw",
   "id": "376cc1e8",
   "metadata": {},
   "source": []
  },
  {
   "cell_type": "markdown",
   "id": "f0155869",
   "metadata": {},
   "source": [
    "# Python Object Oriented Programming"
   ]
  },
  {
   "cell_type": "markdown",
   "id": "7926c315",
   "metadata": {},
   "source": [
    "Python is a multi-paradigm programming language. It supports different programming approaches.\n",
    "\n",
    "One of the popular approaches to solve a programming problem is by creating objects. This is known as Object-Oriented Programming (OOP).\n",
    "\n",
    "An object has two characteristics:\n",
    "\n",
    "attributes\n",
    "behavior\n",
    "Let's take an example:\n",
    "\n",
    "A parrot is an object, as it has the following properties:\n",
    "\n",
    "name, age, color as attributes\n",
    "singing, dancing as behavior\n",
    "The concept of OOP in Python focuses on creating reusable code. This concept is also known as DRY (Don't Repeat Yourself).\n",
    "\n",
    "In Python, the concept of OOP follows some basic principles:"
   ]
  },
  {
   "cell_type": "raw",
   "id": "26c3ba42",
   "metadata": {},
   "source": []
  },
  {
   "cell_type": "markdown",
   "id": "9d747ab6",
   "metadata": {},
   "source": [
    "## Class\n",
    "\n",
    "A class is a blueprint for the object.\n",
    "\n",
    "We can think of class as a sketch of a parrot with labels. It contains all the details about the name, colors, size etc. Based on these descriptions, we can study about the parrot. Here, a parrot is an object.\n",
    "\n",
    "The example for class of parrot can be :\n",
    "\n",
    "class Parrot:\n",
    "\n",
    "    pass\n",
    "    \n",
    "Here, we use the class keyword to define an empty class Parrot. From class, we construct instances. An instance is a specific object created from a particular class.\n",
    "\n",
    "## Object\n",
    "\n",
    "An object (instance) is an instantiation of a class. When class is defined, only the description for the object is defined. Therefore, no memory or storage is allocated.\n",
    "\n",
    "The example for object of parrot class can be:\n",
    "\n",
    "obj = Parrot()\n",
    "\n",
    "Here, obj is an object of class Parrot.\n",
    "\n",
    "Suppose we have details of parrots. Now, we are going to show how to build the class and objects of parrots."
   ]
  },
  {
   "cell_type": "markdown",
   "id": "58d21c41",
   "metadata": {},
   "source": [
    "#### Example 1: Creating Class and Object in Python"
   ]
  },
  {
   "cell_type": "code",
   "execution_count": 49,
   "id": "e6f91399",
   "metadata": {},
   "outputs": [
    {
     "name": "stdout",
     "output_type": "stream",
     "text": [
      "Blu is a bird\n",
      "Woo is also a bird\n",
      "Blu is 10 years old\n",
      "Woo is 15 years old\n"
     ]
    }
   ],
   "source": [
    "class Parrot:\n",
    "\n",
    "    # class attribute\n",
    "    species = \"bird\"\n",
    "\n",
    "    # instance attribute\n",
    "    def __init__(self, name, age):\n",
    "        self.name = name\n",
    "        self.age = age\n",
    "\n",
    "# instantiate the Parrot class\n",
    "blu = Parrot(\"Blu\", 10)\n",
    "woo = Parrot(\"Woo\", 15)\n",
    "\n",
    "# access the class attributes\n",
    "print(\"Blu is a {}\".format(blu.__class__.species))\n",
    "print(\"Woo is also a {}\".format(woo.__class__.species))\n",
    "\n",
    "# access the instance attributes\n",
    "print(\"{} is {} years old\".format( blu.name, blu.age))\n",
    "print(\"{} is {} years old\".format( woo.name, woo.age))"
   ]
  },
  {
   "cell_type": "raw",
   "id": "6c887193",
   "metadata": {},
   "source": []
  },
  {
   "cell_type": "markdown",
   "id": "8f8b4500",
   "metadata": {},
   "source": [
    "## Methods\n",
    "\n",
    "Methods are functions defined inside the body of a class. They are used to define the behaviors of an object.\n",
    "\n",
    "#### Example 2 : Creating Methods in Python"
   ]
  },
  {
   "cell_type": "code",
   "execution_count": 50,
   "id": "feb59fcb",
   "metadata": {},
   "outputs": [
    {
     "name": "stdout",
     "output_type": "stream",
     "text": [
      "Blu sings 'Happy'\n",
      "Blu is now dancing\n"
     ]
    }
   ],
   "source": [
    "class Parrot:\n",
    "    \n",
    "    # instance attributes\n",
    "    def __init__(self, name, age):\n",
    "        self.name = name\n",
    "        self.age = age\n",
    "    \n",
    "    # instance method\n",
    "    def sing(self, song):\n",
    "        return \"{} sings {}\".format(self.name, song)\n",
    "\n",
    "    def dance(self):\n",
    "        return \"{} is now dancing\".format(self.name)\n",
    "\n",
    "# instantiate the object\n",
    "blu = Parrot(\"Blu\", 10)\n",
    "\n",
    "# call our instance methods\n",
    "print(blu.sing(\"'Happy'\"))\n",
    "print(blu.dance())"
   ]
  },
  {
   "cell_type": "raw",
   "id": "39608ed8",
   "metadata": {},
   "source": []
  },
  {
   "cell_type": "markdown",
   "id": "6ecfdb0f",
   "metadata": {},
   "source": [
    "## Inheritance\n",
    "Inheritance is a way of creating a new class for using details of an existing class without modifying it. The newly formed class is a derived class (or child class). Similarly, the existing class is a base class (or parent class).\n",
    "\n",
    "#### Example 3: Use of Inheritance in Python"
   ]
  },
  {
   "cell_type": "code",
   "execution_count": 51,
   "id": "55ce2373",
   "metadata": {},
   "outputs": [
    {
     "name": "stdout",
     "output_type": "stream",
     "text": [
      "Bird is ready\n",
      "Penguin is ready\n",
      "Penguin\n",
      "Swim faster\n",
      "Run faster\n"
     ]
    }
   ],
   "source": [
    "# parent class\n",
    "class Bird:\n",
    "    \n",
    "    def __init__(self):\n",
    "        print(\"Bird is ready\")\n",
    "\n",
    "    def whoisThis(self):\n",
    "        print(\"Bird\")\n",
    "\n",
    "    def swim(self):\n",
    "        print(\"Swim faster\")\n",
    "\n",
    "# child class\n",
    "class Penguin(Bird):\n",
    "\n",
    "    def __init__(self):\n",
    "        # call super() function\n",
    "        super().__init__()\n",
    "        print(\"Penguin is ready\")\n",
    "\n",
    "    def whoisThis(self):\n",
    "        print(\"Penguin\")\n",
    "\n",
    "    def run(self):\n",
    "        print(\"Run faster\")\n",
    "\n",
    "peggy = Penguin()\n",
    "peggy.whoisThis()\n",
    "peggy.swim()\n",
    "peggy.run()"
   ]
  },
  {
   "cell_type": "raw",
   "id": "1bae0922",
   "metadata": {},
   "source": []
  },
  {
   "cell_type": "markdown",
   "id": "1b775934",
   "metadata": {},
   "source": [
    "## Encapsulation\n",
    "Using OOP in Python, we can restrict access to methods and variables. This prevents data from direct modification which is called encapsulation. In Python, we denote private attributes using underscore as the prefix i.e single _ or double __.\n",
    "\n",
    "#### Example 4: Data Encapsulation in Python"
   ]
  },
  {
   "cell_type": "code",
   "execution_count": 52,
   "id": "c46d00f2",
   "metadata": {},
   "outputs": [
    {
     "name": "stdout",
     "output_type": "stream",
     "text": [
      "Selling Price: 900\n",
      "Selling Price: 900\n",
      "Selling Price: 1000\n"
     ]
    }
   ],
   "source": [
    "class Computer:\n",
    "\n",
    "    def __init__(self):\n",
    "        self.__maxprice = 900\n",
    "\n",
    "    def sell(self):\n",
    "        print(\"Selling Price: {}\".format(self.__maxprice))\n",
    "\n",
    "    def setMaxPrice(self, price):\n",
    "        self.__maxprice = price\n",
    "\n",
    "c = Computer()\n",
    "c.sell()\n",
    "\n",
    "# change the price\n",
    "c.__maxprice = 1000\n",
    "c.sell()\n",
    "\n",
    "# using setter function\n",
    "c.setMaxPrice(1000)\n",
    "c.sell()"
   ]
  },
  {
   "cell_type": "raw",
   "id": "67303741",
   "metadata": {},
   "source": []
  },
  {
   "cell_type": "markdown",
   "id": "0faa0924",
   "metadata": {},
   "source": [
    "## Polymorphism\n",
    "\n",
    "Polymorphism is an ability (in OOP) to use a common interface for multiple forms (data types).\n",
    "\n",
    "Suppose, we need to color a shape, there are multiple shape options (rectangle, square, circle). However we could use the same method to color any shape. This concept is called Polymorphism.\n",
    "\n",
    "#### Example 5: Using Polymorphism in Python"
   ]
  },
  {
   "cell_type": "code",
   "execution_count": 53,
   "id": "fe1f94f5",
   "metadata": {},
   "outputs": [
    {
     "name": "stdout",
     "output_type": "stream",
     "text": [
      "Parrot can fly\n",
      "Penguin can't fly\n"
     ]
    }
   ],
   "source": [
    "class Parrot:\n",
    "\n",
    "    def fly(self):\n",
    "        print(\"Parrot can fly\")\n",
    "    \n",
    "    def swim(self):\n",
    "        print(\"Parrot can't swim\")\n",
    "\n",
    "class Penguin:\n",
    "\n",
    "    def fly(self):\n",
    "        print(\"Penguin can't fly\")\n",
    "    \n",
    "    def swim(self):\n",
    "        print(\"Penguin can swim\")\n",
    "\n",
    "# common interface\n",
    "def flying_test(bird):\n",
    "    bird.fly()\n",
    "\n",
    "#instantiate objects\n",
    "blu = Parrot()\n",
    "peggy = Penguin()\n",
    "\n",
    "# passing the object\n",
    "flying_test(blu)\n",
    "flying_test(peggy)"
   ]
  },
  {
   "cell_type": "raw",
   "id": "bfe779cd",
   "metadata": {},
   "source": []
  },
  {
   "cell_type": "markdown",
   "id": "5558919d",
   "metadata": {},
   "source": [
    "# Key Points to Remember:\n",
    "\n",
    "- Object-Oriented Programming makes the program easy to understand as well as efficient.\n",
    "- Since the class is sharable, the code can be reused.\n",
    "- Data is safe and secure with data abstraction.\n",
    "- Polymorphism allows the same interface for different objects, so programmers can write efficient code."
   ]
  },
  {
   "cell_type": "code",
   "execution_count": null,
   "id": "e740c51a",
   "metadata": {},
   "outputs": [],
   "source": []
  }
 ],
 "metadata": {
  "kernelspec": {
   "display_name": "Python 3 (ipykernel)",
   "language": "python",
   "name": "python3"
  },
  "language_info": {
   "codemirror_mode": {
    "name": "ipython",
    "version": 3
   },
   "file_extension": ".py",
   "mimetype": "text/x-python",
   "name": "python",
   "nbconvert_exporter": "python",
   "pygments_lexer": "ipython3",
   "version": "3.9.12"
  }
 },
 "nbformat": 4,
 "nbformat_minor": 5
}
